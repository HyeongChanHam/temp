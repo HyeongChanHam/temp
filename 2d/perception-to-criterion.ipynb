{
 "cells": [
  {
   "cell_type": "code",
   "execution_count": 7,
   "id": "f33f7ace-9148-459f-9ca2-1f9a4ee41206",
   "metadata": {
    "tags": []
   },
   "outputs": [
    {
     "name": "stdout",
     "output_type": "stream",
     "text": [
      "/work/DRO-EDL/2d\n",
      "['/usr/lib/python38.zip', '/usr/lib/python3.8', '/usr/lib/python3.8/lib-dynload', '', '/home/opencda/.local/lib/python3.8/site-packages', '/usr/local/lib/python3.8/dist-packages', '/usr/lib/python3/dist-packages', '/work/DRO-EDL/1d/evidential-learning-pytorch']\n"
     ]
    }
   ],
   "source": [
    "!pwd\n",
    "!export PYTHONPATH=$PYTHONPATH:$(pwd)/evidential-learning-pytorch\n",
    "\n",
    "import sys\n",
    "print(sys.path)\n",
    "sys.path.append('/work/DRO-EDL/1d/evidential-learning-pytorch')\n",
    "\n",
    "from tqdm import tqdm\n",
    "from scipy.stats import norm\n",
    "\n",
    "import numpy as np\n",
    "from scipy.stats import norm, invgamma\n",
    "\n",
    "import matplotlib.pyplot as plt\n",
    "from scipy.special import gamma\n",
    "from scipy.optimize import minimize\n",
    "from scipy.integrate import dblquad\n",
    "\n",
    "import torch\n",
    "\n",
    "from torch import nn\n",
    "from torch.utils.data import DataLoader, TensorDataset\n",
    "\n",
    "from edl_pytorch import NormalInvGamma, evidential_regression\n",
    "\n",
    "import torch.optim as optim\n",
    "from IPython.display import clear_output\n"
   ]
  },
  {
   "cell_type": "code",
   "execution_count": 8,
   "id": "1a536ac5-ec2f-4b06-b87c-c44a66131012",
   "metadata": {
    "tags": []
   },
   "outputs": [],
   "source": [
    "def cart2polar(x,y):\n",
    "    r = (x**2 + y**2)**(1/2)\n",
    "    theta = np.arccos(x/r)\n",
    "    return r , theta\n",
    "\n",
    "def polar2cart(r,theta):\n",
    "    x = r*np.cos(theta)\n",
    "    y = r*np.sin(theta)\n",
    "    return x,y"
   ]
  },
  {
   "cell_type": "code",
   "execution_count": 9,
   "id": "87710505-ce54-4342-a084-87ab10377e33",
   "metadata": {
    "tags": []
   },
   "outputs": [
    {
     "data": {
      "text/plain": [
       "<All keys matched successfully>"
      ]
     },
     "execution_count": 9,
     "metadata": {},
     "output_type": "execute_result"
    }
   ],
   "source": [
    "model = nn.Sequential(\n",
    "    nn.Linear(2, 64),\n",
    "    nn.ReLU(),\n",
    "    nn.Linear(64, 64),\n",
    "    nn.ReLU(),\n",
    "    nn.Linear(64, 64),\n",
    "    nn.ReLU(),\n",
    "    nn.Linear(64, 64),\n",
    "    nn.ReLU(),\n",
    "    NormalInvGamma(64, 1),\n",
    ")\n",
    "model.load_state_dict(torch.load(f'uncertain_weights/{10}.pth'))"
   ]
  },
  {
   "cell_type": "code",
   "execution_count": 10,
   "id": "77414ea4-55d1-40c7-8b3f-7464905e099d",
   "metadata": {
    "tags": []
   },
   "outputs": [
    {
     "name": "stdout",
     "output_type": "stream",
     "text": [
      "tensor(10.0716) tensor(0.2068) tensor(1.0009) tensor(0.0886)\n",
      "tensor(9.9052) tensor(0.7773) tensor(1.2424) tensor(0.4126)\n",
      "tensor(10.0847) tensor(0.2131) tensor(1.0011) tensor(0.0956)\n"
     ]
    },
    {
     "data": {
      "image/png": "[encoded data removed]",
      "text/plain": [
       "<Figure size 1500x500 with 3 Axes>"
      ]
     },
     "metadata": {},
     "output_type": "display_data"
    }
   ],
   "source": [
    "def nig_joint_pdf(mu, sigma2, mu_0, lambda_, alpha, beta):\n",
    "    # Normal part (mean = mu, variance = sigma2)\n",
    "    norm_pdf = norm.pdf(mu, mu_0, np.sqrt(sigma2 / lambda_))\n",
    "    \n",
    "    # Inverse gamma part (variance = sigma2)\n",
    "    invgamma_pdf = invgamma.pdf(sigma2, alpha, scale=beta)\n",
    "    \n",
    "    return norm_pdf * invgamma_pdf\n",
    "\n",
    "# CDF에 해당하는 등고선 계산\n",
    "def calculate_cdf_contour_level(pdf_values, target_cdf):\n",
    "    # 확률밀도함수 값들을 1D로 변환한 후 정렬\n",
    "    sorted_pdf = np.sort(pdf_values.flatten())[::-1]\n",
    "    cumulative_sum = np.cumsum(sorted_pdf)\n",
    "    cumulative_sum /= cumulative_sum[-1]  # 누적 합을 0~1 사이의 값으로 정규화\n",
    "    \n",
    "    # CDF에 해당하는 값을 찾기\n",
    "    contour_value = sorted_pdf[np.searchsorted(cumulative_sum, target_cdf)]\n",
    "    return contour_value\n",
    "\n",
    "data = [-50, 0, 50]\n",
    "\n",
    "mu_values = np.linspace(-100, 100, 100)\n",
    "sigma2_values = np.linspace(0.01, 2, 100)\n",
    "fig, ax = plt.subplots(1, len(data), figsize=(5*len(data),5))\n",
    "\n",
    "for fig_idx, x in enumerate(data):\n",
    "    with torch.no_grad():\n",
    "        pred = model(torch.tensor(cart2polar(x,10), dtype=torch.float))\n",
    "    \n",
    "    mu_0, lambda_, alpha, beta = (d.squeeze() for d in pred)\n",
    "    print(mu_0, lambda_, alpha, beta)\n",
    "    \n",
    "    # 그리드를 만들어 결합 확률 밀도를 계산\n",
    "    mu_grid, sigma2_grid = np.meshgrid(mu_values, sigma2_values)\n",
    "    std_pdf_values = nig_joint_pdf(mu_grid, sigma2_grid, mu_0, lambda_, alpha, beta)\n",
    "    \n",
    "    # 입력받은 CDF 값에 해당하는 등고선 값을 계산\n",
    "    # contour_level = calculate_cdf_contour_level(std_pdf_values, target_cdf)\n",
    "    ax[fig_idx].contourf(mu_grid, sigma2_grid, std_pdf_values, levels=np.linspace(0, std_pdf_values.max(), 100), cmap='viridis')\n",
    "plt.show()"
   ]
  },
  {
   "cell_type": "code",
   "execution_count": 11,
   "id": "f96764b7-ed1d-4288-b3bd-95d5b0293ab5",
   "metadata": {
    "tags": []
   },
   "outputs": [
    {
     "ename": "FileNotFoundError",
     "evalue": "[Errno 2] No such file or directory: 'a_memory.pickle'",
     "output_type": "error",
     "traceback": [
      "\u001b[0;31m---------------------------------------------------------------------------\u001b[0m",
      "\u001b[0;31mFileNotFoundError\u001b[0m                         Traceback (most recent call last)",
      "Cell \u001b[0;32mIn[11], line 3\u001b[0m\n\u001b[1;32m      1\u001b[0m \u001b[38;5;28;01mimport\u001b[39;00m \u001b[38;5;21;01mpickle\u001b[39;00m\n\u001b[0;32m----> 3\u001b[0m \u001b[38;5;28;01mwith\u001b[39;00m \u001b[38;5;28;43mopen\u001b[39;49m\u001b[43m(\u001b[49m\u001b[38;5;124;43m'\u001b[39;49m\u001b[38;5;124;43ma_memory.pickle\u001b[39;49m\u001b[38;5;124;43m'\u001b[39;49m\u001b[43m,\u001b[49m\u001b[43m \u001b[49m\u001b[38;5;124;43m'\u001b[39;49m\u001b[38;5;124;43mrb\u001b[39;49m\u001b[38;5;124;43m'\u001b[39;49m\u001b[43m)\u001b[49m \u001b[38;5;28;01mas\u001b[39;00m fr:\n\u001b[1;32m      4\u001b[0m     a_memory \u001b[38;5;241m=\u001b[39m pickle\u001b[38;5;241m.\u001b[39mload(fr)\n",
      "File \u001b[0;32m/usr/local/lib/python3.8/dist-packages/IPython/core/interactiveshell.py:284\u001b[0m, in \u001b[0;36m_modified_open\u001b[0;34m(file, *args, **kwargs)\u001b[0m\n\u001b[1;32m    277\u001b[0m \u001b[38;5;28;01mif\u001b[39;00m file \u001b[38;5;129;01min\u001b[39;00m {\u001b[38;5;241m0\u001b[39m, \u001b[38;5;241m1\u001b[39m, \u001b[38;5;241m2\u001b[39m}:\n\u001b[1;32m    278\u001b[0m     \u001b[38;5;28;01mraise\u001b[39;00m \u001b[38;5;167;01mValueError\u001b[39;00m(\n\u001b[1;32m    279\u001b[0m         \u001b[38;5;124mf\u001b[39m\u001b[38;5;124m\"\u001b[39m\u001b[38;5;124mIPython won\u001b[39m\u001b[38;5;124m'\u001b[39m\u001b[38;5;124mt let you open fd=\u001b[39m\u001b[38;5;132;01m{\u001b[39;00mfile\u001b[38;5;132;01m}\u001b[39;00m\u001b[38;5;124m by default \u001b[39m\u001b[38;5;124m\"\u001b[39m\n\u001b[1;32m    280\u001b[0m         \u001b[38;5;124m\"\u001b[39m\u001b[38;5;124mas it is likely to crash IPython. If you know what you are doing, \u001b[39m\u001b[38;5;124m\"\u001b[39m\n\u001b[1;32m    281\u001b[0m         \u001b[38;5;124m\"\u001b[39m\u001b[38;5;124myou can use builtins\u001b[39m\u001b[38;5;124m'\u001b[39m\u001b[38;5;124m open.\u001b[39m\u001b[38;5;124m\"\u001b[39m\n\u001b[1;32m    282\u001b[0m     )\n\u001b[0;32m--> 284\u001b[0m \u001b[38;5;28;01mreturn\u001b[39;00m \u001b[43mio_open\u001b[49m\u001b[43m(\u001b[49m\u001b[43mfile\u001b[49m\u001b[43m,\u001b[49m\u001b[43m \u001b[49m\u001b[38;5;241;43m*\u001b[39;49m\u001b[43margs\u001b[49m\u001b[43m,\u001b[49m\u001b[43m \u001b[49m\u001b[38;5;241;43m*\u001b[39;49m\u001b[38;5;241;43m*\u001b[39;49m\u001b[43mkwargs\u001b[49m\u001b[43m)\u001b[49m\n",
      "\u001b[0;31mFileNotFoundError\u001b[0m: [Errno 2] No such file or directory: 'a_memory.pickle'"
     ]
    }
   ],
   "source": [
    "import pickle\n",
    "\n",
    "with open('a_memory.pickle', 'rb') as fr:\n",
    "    a_memory = pickle.load(fr)"
   ]
  },
  {
   "cell_type": "code",
   "execution_count": 12,
   "id": "22739a54-9101-4222-a1b7-19a3a6ef65b8",
   "metadata": {
    "tags": []
   },
   "outputs": [],
   "source": [
    "from matplotlib.gridspec import GridSpec\n",
    "\n",
    "epsilon = 0.9"
   ]
  },
  {
   "cell_type": "code",
   "execution_count": 13,
   "id": "3b52e0d5-c2b3-42dc-9213-b75ea94ebb1f",
   "metadata": {
    "tags": []
   },
   "outputs": [
    {
     "data": {
      "application/vnd.jupyter.widget-view+json": {
       "model_id": "726382c38fff4d4490068f4c0b4f80c2",
       "version_major": 2,
       "version_minor": 0
      },
      "text/plain": [
       "VBox(children=(FloatSlider(value=2.0, description='x', min=-100.0), FloatSlider(value=2.0, description='y', ma…"
      ]
     },
     "metadata": {},
     "output_type": "display_data"
    },
    {
     "data": {
      "application/vnd.jupyter.widget-view+json": {
       "model_id": "10574c8517ce40ff8a86434ab68d5f48",
       "version_major": 2,
       "version_minor": 0
      },
      "text/plain": [
       "Output()"
      ]
     },
     "metadata": {},
     "output_type": "display_data"
    },
    {
     "data": {
      "image/png": "[encoded data removed]",
      "text/plain": [
       "<Figure size 1800x900 with 5 Axes>"
      ]
     },
     "metadata": {},
     "output_type": "display_data"
    }
   ],
   "source": [
    "X_RANGE = [-100, 100]\n",
    "Y_RANGE = [-70, 70]\n",
    "mu_values = np.linspace(-100, 100, 100)\n",
    "sigma2_values = np.linspace(0.01, 1, 100)\n",
    "def update(x, y):\n",
    "    # 그리드 스펙 설정\n",
    "    gs = GridSpec(2, 3)\n",
    "    # 이미지 사이즈 설정\n",
    "    fig = plt.figure(figsize=(18, 9))\n",
    "    \n",
    "    # 크기와 위치가 다른 서브플롯 생성\n",
    "    ax1 = fig.add_subplot(gs[0, 0])\n",
    "    ax2 = fig.add_subplot(gs[0, 1])\n",
    "    ax3 = fig.add_subplot(gs[0, 2])\n",
    "    ax4 = fig.add_subplot(gs[1, 0])\n",
    "    ax5 = fig.add_subplot(gs[1, 1])\n",
    "\n",
    "    # 1. input point\n",
    "    ax1.scatter(x,y)\n",
    "    ax1.set_xlim(X_RANGE[0], X_RANGE[1])\n",
    "    ax1.set_ylim(Y_RANGE[0], Y_RANGE[1])\n",
    "    ax1.grid(True)\n",
    "    ax1.set_title('input point')\n",
    "\n",
    "    # 2. certain model prediction\n",
    "    model.load_state_dict(torch.load(f'certain_weights/{99}.pth', weights_only=True))\n",
    "    with torch.no_grad():\n",
    "        pred = model(torch.tensor(cart2polar(x,y), dtype=torch.float))\n",
    "    \n",
    "    mu_0, lambda_, alpha, beta = (d.squeeze() for d in pred)\n",
    "    print(mu_0, lambda_, alpha, beta, torch.sqrt(beta / (lambda_ * (alpha - 1))))\n",
    "    \n",
    "    # 그리드를 만들어 결합 확률 밀도를 계산\n",
    "    mu_grid, sigma2_grid = np.meshgrid(mu_values, sigma2_values)\n",
    "    std_pdf_values = nig_joint_pdf(mu_grid, sigma2_grid, mu_0, lambda_, alpha, beta)\n",
    "    \n",
    "    # 입력받은 CDF 값에 해당하는 등고선 값을 계산\n",
    "    ax2.contourf(mu_grid, sigma2_grid, std_pdf_values, levels=np.linspace(0, std_pdf_values.max(), 100), cmap='viridis')\n",
    "    zx, zy = a_memory[float(f'{alpha:.02f}')]\n",
    "    certain_mu, certain_sigma2 = mu_0 - zx / np.sqrt(lambda_/beta), zy * beta\n",
    "    ax2.scatter(certain_mu, certain_sigma2)\n",
    "    ax2.set_title('Certain model prediction\\n({:.04f}, {:.04f})'.format(certain_mu, certain_sigma2))\n",
    "\n",
    "    \n",
    "    # 3. Uncertain model prediction\n",
    "    model.load_state_dict(torch.load(f'uncertain_weights/{20}.pth', weights_only=True))\n",
    "    \n",
    "    with torch.no_grad():\n",
    "        pred = model(torch.tensor(cart2polar(x,y), dtype=torch.float))\n",
    "    \n",
    "    mu_0, lambda_, alpha, beta = (d.squeeze() for d in pred)\n",
    "    print(mu_0, lambda_, alpha, beta, torch.sqrt(beta / (lambda_ * (alpha - 1))))\n",
    "    \n",
    "    # 그리드를 만들어 결합 확률 밀도를 계산\n",
    "    mu_grid, sigma2_grid = np.meshgrid(mu_values, sigma2_values)\n",
    "    std_pdf_values = nig_joint_pdf(mu_grid, sigma2_grid, mu_0, lambda_, alpha, beta)\n",
    "    \n",
    "    # 입력받은 CDF 값에 해당하는 등고선 값을 계산\n",
    "    ax3.contourf(mu_grid, sigma2_grid, std_pdf_values, levels=np.linspace(0, std_pdf_values.max(), 100), cmap='viridis')\n",
    "    zx, zy = a_memory[float(f'{alpha:.02f}')]\n",
    "    uncertain_mu, uncertain_sigma2 = mu_0 - zx / np.sqrt(lambda_/beta), zy * beta\n",
    "    ax3.scatter(uncertain_mu, uncertain_sigma2)\n",
    "    ax3.set_title('Uncertain model prediction')\n",
    "    ax3.set_title('Unertain model prediction\\n({:.04f}, {:.04f})'.format(uncertain_mu, uncertain_sigma2))\n",
    "\n",
    "\n",
    "    # 4. Distribution\n",
    "    kappa = norm.pdf(norm.ppf(epsilon))/(1-epsilon)\n",
    "    \n",
    "    l = np.linspace(X_RANGE[0], X_RANGE[1], 1000)\n",
    "    certain_DR_EDL_CVaR = certain_mu + kappa * np.sqrt(certain_sigma2)\n",
    "    ax4.plot(l, norm.pdf(l, certain_mu, certain_sigma2), label='certain')\n",
    "    ax4.axvline(certain_DR_EDL_CVaR, color='brown', linestyle='--', label=f'DRO-EDL-CVaR (epsilon={epsilon*100}%) = {certain_DR_EDL_CVaR:.2f}')\n",
    "\n",
    "    uncertain_DR_EDL_CVaR = uncertain_mu + kappa * np.sqrt(uncertain_sigma2)\n",
    "    ax4.plot(l, norm.pdf(l, uncertain_mu, uncertain_sigma2), label='uncertain')\n",
    "    ax4.axvline(uncertain_DR_EDL_CVaR, color='brown', linestyle='--', label=f'DRO-EDL-CVaR (epsilon={epsilon*100}%) = {uncertain_DR_EDL_CVaR:.2f}')\n",
    "    ax4.set_xlim(X_RANGE[0], X_RANGE[1])\n",
    "    ax4.legend()\n",
    "    ax4.grid(True)\n",
    "    ax4.set_xlabel(\"Obstacle Position\")\n",
    "    ax4.set_ylabel(\"Probability\")\n",
    "    ax4.set_title('Prob. distribution, ego: 0')\n",
    "\n",
    "\n",
    "    # 5. Boundary\n",
    "\n",
    "\n",
    "    labels = ['certain', 'uncertain']\n",
    "    for i, risk in enumerate([certain_DR_EDL_CVaR, uncertain_DR_EDL_CVaR]):\n",
    "        ax5.plot(l, -risk+l, label=labels[i])\n",
    "    ax5.axhline(0, color='black')\n",
    "\n",
    "    ax5.grid(True, which='both')\n",
    "    ax5.set_xlabel(\"Ego Position\")\n",
    "    ax5.set_ylabel(\"Cost\")\n",
    "    ax5.set_xlim(X_RANGE[0], X_RANGE[1])\n",
    "    ax5.set_ylim(Y_RANGE[0], Y_RANGE[1])\n",
    "    ax5.legend()\n",
    "        \n",
    "    \n",
    "    plt.show()\n",
    "import ipywidgets as widgets\n",
    "\n",
    "x_slider = widgets.FloatSlider(value=2, min=X_RANGE[0], max=X_RANGE[1], step=0.1, description='x')\n",
    "y_slider = widgets.FloatSlider(value=2, min=Y_RANGE[0], max=Y_RANGE[1], step=0.1, description='y')\n",
    "ui = widgets.VBox([x_slider, y_slider])\n",
    "out = widgets.interactive_output(update, {\n",
    "    'x': x_slider, \n",
    "    'y': y_slider, \n",
    "})\n",
    "\n",
    "display(ui, out)"
   ]
  },
  {
   "cell_type": "code",
   "execution_count": 14,
   "id": "8ee7e5de-0f17-4343-a840-902e942087d9",
   "metadata": {
    "tags": []
   },
   "outputs": [
    {
     "name": "stdout",
     "output_type": "stream",
     "text": [
      "3.367090077063992\n"
     ]
    }
   ],
   "source": [
    "epsilon = 0.999\n",
    "\n",
    "kappa = norm.pdf(norm.ppf(epsilon))/(1-epsilon)\n",
    "print(kappa)"
   ]
  },
  {
   "cell_type": "code",
   "execution_count": 15,
   "id": "32794a83-1172-4ac8-a361-5bab6c8c8f2b",
   "metadata": {
    "tags": []
   },
   "outputs": [
    {
     "ename": "NameError",
     "evalue": "name 'a_memory' is not defined",
     "output_type": "error",
     "traceback": [
      "\u001b[0;31m---------------------------------------------------------------------------\u001b[0m",
      "\u001b[0;31mNameError\u001b[0m                                 Traceback (most recent call last)",
      "Cell \u001b[0;32mIn[15], line 1\u001b[0m\n\u001b[0;32m----> 1\u001b[0m \u001b[43ma_memory\u001b[49m[\u001b[38;5;241m3.7233\u001b[39m]\n",
      "\u001b[0;31mNameError\u001b[0m: name 'a_memory' is not defined"
     ]
    }
   ],
   "source": [
    "a_memory[3.7233]"
   ]
  },
  {
   "cell_type": "code",
   "execution_count": 17,
   "id": "aaf02483-cad2-43c1-ba86-3b508d402bb8",
   "metadata": {
    "tags": []
   },
   "outputs": [
    {
     "name": "stderr",
     "output_type": "stream",
     "text": [
      "/tmp/ipykernel_9351/887520505.py:17: UserWarning: Creating a tensor from a list of numpy.ndarrays is extremely slow. Please consider converting the list to a single numpy.ndarray with numpy.array() before converting to a tensor. (Triggered internally at ../torch/csrc/utils/tensor_new.cpp:274.)\n",
      "  pred = model(torch.tensor(cart2polar(x_grid,y_grid), dtype=torch.float).flatten(1).T)\n"
     ]
    },
    {
     "ename": "NameError",
     "evalue": "name 'a_memory' is not defined",
     "output_type": "error",
     "traceback": [
      "\u001b[0;31m---------------------------------------------------------------------------\u001b[0m",
      "\u001b[0;31mNameError\u001b[0m                                 Traceback (most recent call last)",
      "Cell \u001b[0;32mIn[17], line 19\u001b[0m\n\u001b[1;32m     17\u001b[0m pred \u001b[38;5;241m=\u001b[39m model(torch\u001b[38;5;241m.\u001b[39mtensor(cart2polar(x_grid,y_grid), dtype\u001b[38;5;241m=\u001b[39mtorch\u001b[38;5;241m.\u001b[39mfloat)\u001b[38;5;241m.\u001b[39mflatten(\u001b[38;5;241m1\u001b[39m)\u001b[38;5;241m.\u001b[39mT)\n\u001b[1;32m     18\u001b[0m mu_0, lambda_, alpha, beta \u001b[38;5;241m=\u001b[39m (d\u001b[38;5;241m.\u001b[39msqueeze() \u001b[38;5;28;01mfor\u001b[39;00m d \u001b[38;5;129;01min\u001b[39;00m pred)\n\u001b[0;32m---> 19\u001b[0m z \u001b[38;5;241m=\u001b[39m torch\u001b[38;5;241m.\u001b[39mtensor([a_memory[\u001b[38;5;28mfloat\u001b[39m(\u001b[38;5;124mf\u001b[39m\u001b[38;5;124m'\u001b[39m\u001b[38;5;132;01m{\u001b[39;00ma\u001b[38;5;241m+\u001b[39m\u001b[38;5;241m0.01\u001b[39m\u001b[38;5;132;01m:\u001b[39;00m\u001b[38;5;124m.02f\u001b[39m\u001b[38;5;132;01m}\u001b[39;00m\u001b[38;5;124m'\u001b[39m)] \u001b[38;5;28;01mfor\u001b[39;00m a \u001b[38;5;129;01min\u001b[39;00m alpha])\n\u001b[1;32m     20\u001b[0m zx, zy \u001b[38;5;241m=\u001b[39m z[:,\u001b[38;5;241m0\u001b[39m], z[:,\u001b[38;5;241m1\u001b[39m]\n\u001b[1;32m     21\u001b[0m certain_mu, certain_sigma2 \u001b[38;5;241m=\u001b[39m mu_0 \u001b[38;5;241m-\u001b[39m zx \u001b[38;5;241m/\u001b[39m np\u001b[38;5;241m.\u001b[39msqrt(lambda_\u001b[38;5;241m/\u001b[39mbeta), zy \u001b[38;5;241m*\u001b[39m beta\n",
      "Cell \u001b[0;32mIn[17], line 19\u001b[0m, in \u001b[0;36m<listcomp>\u001b[0;34m(.0)\u001b[0m\n\u001b[1;32m     17\u001b[0m pred \u001b[38;5;241m=\u001b[39m model(torch\u001b[38;5;241m.\u001b[39mtensor(cart2polar(x_grid,y_grid), dtype\u001b[38;5;241m=\u001b[39mtorch\u001b[38;5;241m.\u001b[39mfloat)\u001b[38;5;241m.\u001b[39mflatten(\u001b[38;5;241m1\u001b[39m)\u001b[38;5;241m.\u001b[39mT)\n\u001b[1;32m     18\u001b[0m mu_0, lambda_, alpha, beta \u001b[38;5;241m=\u001b[39m (d\u001b[38;5;241m.\u001b[39msqueeze() \u001b[38;5;28;01mfor\u001b[39;00m d \u001b[38;5;129;01min\u001b[39;00m pred)\n\u001b[0;32m---> 19\u001b[0m z \u001b[38;5;241m=\u001b[39m torch\u001b[38;5;241m.\u001b[39mtensor([\u001b[43ma_memory\u001b[49m[\u001b[38;5;28mfloat\u001b[39m(\u001b[38;5;124mf\u001b[39m\u001b[38;5;124m'\u001b[39m\u001b[38;5;132;01m{\u001b[39;00ma\u001b[38;5;241m+\u001b[39m\u001b[38;5;241m0.01\u001b[39m\u001b[38;5;132;01m:\u001b[39;00m\u001b[38;5;124m.02f\u001b[39m\u001b[38;5;132;01m}\u001b[39;00m\u001b[38;5;124m'\u001b[39m)] \u001b[38;5;28;01mfor\u001b[39;00m a \u001b[38;5;129;01min\u001b[39;00m alpha])\n\u001b[1;32m     20\u001b[0m zx, zy \u001b[38;5;241m=\u001b[39m z[:,\u001b[38;5;241m0\u001b[39m], z[:,\u001b[38;5;241m1\u001b[39m]\n\u001b[1;32m     21\u001b[0m certain_mu, certain_sigma2 \u001b[38;5;241m=\u001b[39m mu_0 \u001b[38;5;241m-\u001b[39m zx \u001b[38;5;241m/\u001b[39m np\u001b[38;5;241m.\u001b[39msqrt(lambda_\u001b[38;5;241m/\u001b[39mbeta), zy \u001b[38;5;241m*\u001b[39m beta\n",
      "\u001b[0;31mNameError\u001b[0m: name 'a_memory' is not defined"
     ]
    }
   ],
   "source": [
    "import numpy as np\n",
    "import matplotlib.pyplot as plt\n",
    "from matplotlib.colors import CenteredNorm\n",
    "\n",
    "epsilon = 0.9\n",
    "\n",
    "X_RANGE = [-70, 70]\n",
    "Y_RANGE = [-70, 70]\n",
    "x_values = np.linspace(*X_RANGE, 140)\n",
    "y_values = np.linspace(*Y_RANGE, 140)\n",
    "x_grid, y_grid = np.meshgrid(x_values, y_values)\n",
    "\n",
    "kappa = norm.pdf(norm.ppf(epsilon))/(1-epsilon)\n",
    "\n",
    "model.load_state_dict(torch.load(f'uncertain_weights/{99}.pth', weights_only=True))\n",
    "with torch.no_grad():\n",
    "    pred = model(torch.tensor(cart2polar(x_grid,y_grid), dtype=torch.float).flatten(1).T)\n",
    "    mu_0, lambda_, alpha, beta = (d.squeeze() for d in pred)\n",
    "    z = torch.tensor([a_memory[float(f'{a+0.01:.02f}')] for a in alpha])\n",
    "    zx, zy = z[:,0], z[:,1]\n",
    "    certain_mu, certain_sigma2 = mu_0 - zx / np.sqrt(lambda_/beta), zy * beta\n",
    "    certain_DR_EDL_CVaR = certain_mu + kappa * np.sqrt(certain_sigma2)\n",
    "\n",
    "\n",
    "model.load_state_dict(torch.load(f'uncertain_weights/{20}.pth', weights_only=True))\n",
    "with torch.no_grad():\n",
    "    pred = model(torch.tensor(cart2polar(x_grid,y_grid), dtype=torch.float).flatten(1).T)\n",
    "    mu_0, lambda_, alpha, beta = (d.squeeze() for d in pred)\n",
    "    z = torch.tensor([a_memory[float(f'{a+0.01:.02f}')] for a in alpha])\n",
    "    zx, zy = z[:,0], z[:,1]\n",
    "    uncertain_mu, uncertain_sigma2 = mu_0 - zx / np.sqrt(lambda_/beta), zy * beta\n",
    "    uncertain_DR_EDL_CVaR = uncertain_mu - kappa * np.sqrt(uncertain_sigma2)\n",
    "\n",
    "# data = torch.tensor(x_grid) - certain_DR_EDL_CVaR.reshape(140, 140)\n",
    "# cmap = plt.get_cmap('coolwarm')  # 또는 'bwr', 'seismic' 등의 색상 팔레트\n",
    "# color_norm = CenteredNorm(vcenter=0)  # 0을 중심으로 설정\n",
    "\n",
    "# 히트맵 그리기\n",
    "# plt.figure(figsize=(8, 6))\n",
    "# plt.imshow(data, cmap=cmap, norm=color_norm, aspect='auto', origin='lower')\n",
    "# plt.colorbar(label=\"Value\")\n",
    "# plt.clim(-10, 10)\n",
    "# plt.title(\"X - Certain | Heatmap with Positive and Negative Values\")\n",
    "# plt.show()\n",
    "# ''''''\n",
    "\n",
    "data = torch.tensor(x_grid) - uncertain_DR_EDL_CVaR.reshape(140, 140)\n",
    "cmap = plt.get_cmap('coolwarm')  # 또는 'bwr', 'seismic' 등의 색상 팔레트\n",
    "color_norm = CenteredNorm(vcenter=0)  # 0을 중심으로 설정\n",
    "\n",
    "# 히트맵 그리기\n",
    "plt.figure(figsize=(8, 6))\n",
    "plt.matshow(data, cmap=cmap, norm=color_norm, aspect='auto', origin='lower')\n",
    "plt.colorbar(label=\"Value\")\n",
    "plt.clim(-10, 10)\n",
    "plt.title(\"X - Uncertain | Heatmap with Positive and Negative Values\")\n",
    "plt.show()\n",
    "\n",
    "# data = uncertain_DR_EDL_CVaR.reshape(140, 140) - certain_DR_EDL_CVaR.reshape(140, 140)\n",
    "# cmap = plt.get_cmap('coolwarm')  # 또는 'bwr', 'seismic' 등의 색상 팔레트\n",
    "# color_norm = CenteredNorm(vcenter=0)  # 0을 중심으로 설정\n",
    "\n",
    "# # 히트맵 그리기\n",
    "# plt.figure(figsize=(8, 6))\n",
    "# plt.imshow(data, cmap=cmap, norm=color_norm, aspect='auto', origin='lower')\n",
    "# plt.colorbar(label=\"Value\")\n",
    "# plt.clim(-10, 10)\n",
    "# plt.title(\"Uncertain - Certain | Heatmap with Positive and Negative Values\")\n",
    "# plt.show()"
   ]
  },
  {
   "cell_type": "code",
   "execution_count": 28,
   "id": "0a7f9ccd-93fd-4ec9-a113-ec6e81e47570",
   "metadata": {
    "tags": []
   },
   "outputs": [
    {
     "data": {
      "text/plain": [
       "(tensor(-0.4754, dtype=torch.float64), tensor(327.3511, dtype=torch.float64))"
      ]
     },
     "execution_count": 28,
     "metadata": {},
     "output_type": "execute_result"
    }
   ],
   "source": [
    "data.min(), data.max()"
   ]
  },
  {
   "cell_type": "markdown",
   "id": "01471812-cbce-47fa-b1b0-937219bfa4ae",
   "metadata": {},
   "source": [
    "# Trained model comparison"
   ]
  },
  {
   "cell_type": "code",
   "execution_count": 4,
   "id": "1765271b-cabb-4e83-a3b8-308edee2b920",
   "metadata": {
    "tags": []
   },
   "outputs": [],
   "source": [
    "test_data = torch.concat([torch.linspace(-200, 200, 1000).unsqueeze(-1), 10*torch.ones(1000).unsqueeze(-1)], axis=1)\n",
    "y_test = test_data[:,0].unsqueeze(-1)"
   ]
  },
  {
   "cell_type": "code",
   "execution_count": 19,
   "id": "f237697f-0627-448d-a8f3-18c948b35bf3",
   "metadata": {
    "tags": []
   },
   "outputs": [
    {
     "data": {
      "application/vnd.jupyter.widget-view+json": {
       "model_id": "7f774c78f6474b878de524aacc3c0a4c",
       "version_major": 2,
       "version_minor": 0
      },
      "text/plain": [
       "VBox(children=(IntSlider(value=0, description='certain_epoch', max=99), IntSlider(value=0, description='uncert…"
      ]
     },
     "metadata": {},
     "output_type": "display_data"
    },
    {
     "data": {
      "application/vnd.jupyter.widget-view+json": {
       "model_id": "6adb503e6c094a329c38f8ea75e30458",
       "version_major": 2,
       "version_minor": 0
      },
      "text/plain": [
       "Output()"
      ]
     },
     "metadata": {},
     "output_type": "display_data"
    }
   ],
   "source": [
    "\n",
    "\n",
    "\n",
    "def update(certain_ep, uncertain_ep):\n",
    "    x_test = torch.tensor([cart2polar(x,y) for x,y in test_data])\n",
    "\n",
    "\n",
    "    fig, ax = plt.subplots(1,2, figsize=(10, 3), dpi=200)\n",
    "\n",
    "    # 1. Certain\n",
    "    model.load_state_dict(torch.load(f'uncertain_weights/{certain_ep}.pth', weights_only=True))\n",
    "    \n",
    "    with torch.no_grad():\n",
    "        pred = model(x_test)\n",
    "    \n",
    "    mu, v, alpha, beta = (d.squeeze() for d in pred)\n",
    "    x_test = x_test.squeeze()\n",
    "    ep_var = torch.sqrt(beta / (v * (alpha - 1)))\n",
    "    al_var = torch.sqrt(beta / (alpha - 1))\n",
    "    \n",
    "    x_test_data = [polar2cart(x,y)[0] for x,y in x_test]\n",
    "    ax[0].plot(x_test_data, y_test, c=\"k\", label=\"True\")\n",
    "    ax[0].plot(x_test_data, mu, c=\"tab:blue\", ls=\"--\", label=\"Pred\")\n",
    "    for std in range(4):\n",
    "        ax[0].fill_between(\n",
    "            x_test_data,\n",
    "            (mu - std * ep_var),\n",
    "            (mu + std * ep_var),\n",
    "            alpha=0.2,\n",
    "            facecolor=\"tab:blue\",\n",
    "            label=\"Unc.\" if std == 0 else None,\n",
    "        )\n",
    "    ax[0].set_ylim(-200, 200)\n",
    "    ax[0].legend(loc=\"upper left\")\n",
    "    ax[0].set_title(f'Certain model | epoch: {certain_ep}')\n",
    "\n",
    "    # 2. Uncertain\n",
    "    \n",
    "    model.load_state_dict(torch.load(f'uncertain_weights/{uncertain_ep}.pth', weights_only=True))\n",
    "    \n",
    "    with torch.no_grad():\n",
    "        pred = model(x_test)\n",
    "    \n",
    "    mu, v, alpha, beta = (d.squeeze() for d in pred)\n",
    "    x_test = x_test.squeeze()\n",
    "    ep_var = torch.sqrt(beta / (v * (alpha - 1)))\n",
    "    al_var = torch.sqrt(beta / (alpha - 1))\n",
    "    \n",
    "    x_test_data = [polar2cart(x,y)[0] for x,y in x_test]\n",
    "    ax[1].plot(x_test_data, y_test, c=\"k\", label=\"True\")\n",
    "    ax[1].plot(x_test_data, mu, c=\"tab:blue\", ls=\"--\", label=\"Pred\")\n",
    "    for std in range(4):\n",
    "        ax[1].fill_between(\n",
    "            x_test_data,\n",
    "            (mu - std * ep_var),\n",
    "            (mu + std * ep_var),\n",
    "            alpha=0.2,\n",
    "            facecolor=\"tab:blue\",\n",
    "            label=\"Unc.\" if std == 0 else None,\n",
    "        )\n",
    "    ax[1].set_ylim(-100, 100)\n",
    "    ax[1].legend(loc=\"upper left\")\n",
    "    ax[1].set_title(f'Uncertain model | epoch: {uncertain_ep}')\n",
    "\n",
    "\n",
    "    \n",
    "    plt.show()\n",
    "    \n",
    "certain_ep = widgets.IntSlider(value=0, min=0, max=99, step=1, description='certain_epoch')\n",
    "uncertain_ep = widgets.IntSlider(value=0, min=0, max=99, step=1, description='uncertain_epoch')\n",
    "ui = widgets.VBox([certain_ep, uncertain_ep])\n",
    "out = widgets.interactive_output(update, {\n",
    "    'certain_ep': certain_ep, \n",
    "    'uncertain_ep': uncertain_ep, \n",
    "})\n",
    "\n",
    "display(ui, out)"
   ]
  },
  {
   "cell_type": "code",
   "execution_count": 6,
   "id": "5e7dc119-3d72-411f-be77-205f0aff5994",
   "metadata": {
    "tags": []
   },
   "outputs": [
    {
     "data": {
      "application/vnd.jupyter.widget-view+json": {
       "model_id": "a743302b8eac4f05a643ef19648ce110",
       "version_major": 2,
       "version_minor": 0
      },
      "text/plain": [
       "VBox(children=(FloatSlider(value=2.0, description='x', max=70.0, min=-70.0, step=1.0), FloatSlider(value=2.0, …"
      ]
     },
     "metadata": {},
     "output_type": "display_data"
    },
    {
     "data": {
      "application/vnd.jupyter.widget-view+json": {
       "model_id": "571bf7ae316b46caba8667371a4f190e",
       "version_major": 2,
       "version_minor": 0
      },
      "text/plain": [
       "Output()"
      ]
     },
     "metadata": {},
     "output_type": "display_data"
    }
   ],
   "source": [
    "X_RANGE = [-70, 70]\n",
    "Y_RANGE = [-70, 70]\n",
    "mu_values = np.linspace(-100, 100, 100)\n",
    "sigma2_values = np.linspace(0.01, 0.5, 100)\n",
    "def update(x, y):\n",
    "    # 그리드 스펙 설정\n",
    "    gs = GridSpec(2, 3)\n",
    "    # 이미지 사이즈 설정\n",
    "    fig = plt.figure(figsize=(18, 9))\n",
    "    \n",
    "    # 크기와 위치가 다른 서브플롯 생성\n",
    "    ax1 = fig.add_subplot(gs[0, 0])\n",
    "    ax2 = fig.add_subplot(gs[0, 1])\n",
    "    ax3 = fig.add_subplot(gs[0, 2])\n",
    "    ax4 = fig.add_subplot(gs[1, 0])\n",
    "    ax5 = fig.add_subplot(gs[1, 1])\n",
    "\n",
    "    # 1. input point\n",
    "    ax1.scatter(x,y)\n",
    "    ax1.set_xlim(X_RANGE[0], X_RANGE[1])\n",
    "    ax1.set_ylim(Y_RANGE[0], Y_RANGE[1])\n",
    "    ax1.grid(True)\n",
    "    ax1.set_title('input point')\n",
    "\n",
    "    # 2. certain model prediction\n",
    "    model.load_state_dict(torch.load(f'certain_weights/{99}.pth', weights_only=True))\n",
    "    with torch.no_grad():\n",
    "        pred = model(torch.tensor(cart2polar(x,y), dtype=torch.float))\n",
    "    \n",
    "    mu_0, lambda_, alpha, beta = (d.squeeze() for d in pred)\n",
    "    print(mu_0, lambda_, alpha, beta, torch.sqrt(beta / (lambda_ * (alpha - 1))))\n",
    "    \n",
    "    # 그리드를 만들어 결합 확률 밀도를 계산\n",
    "    mu_grid, sigma2_grid = np.meshgrid(mu_values, sigma2_values)\n",
    "    std_pdf_values = nig_joint_pdf(mu_grid, sigma2_grid, mu_0, lambda_, alpha, beta)\n",
    "    \n",
    "    # 입력받은 CDF 값에 해당하는 등고선 값을 계산\n",
    "    ax2.contourf(mu_grid, sigma2_grid, std_pdf_values, levels=np.linspace(0, std_pdf_values.max(), 100), cmap='viridis')\n",
    "    zx, zy = a_memory[float(f'{alpha:.02f}')]\n",
    "    certain_mu, certain_sigma2 = mu_0 - zx / np.sqrt(lambda_/beta), zy * beta\n",
    "    ax2.scatter(certain_mu, certain_sigma2)\n",
    "    ax2.set_title('Certain model prediction\\n({:.04f}, {:.04f})'.format(certain_mu, certain_sigma2))\n",
    "\n",
    "    \n",
    "    # 3. Uncertain model prediction\n",
    "    model.load_state_dict(torch.load(f'uncertain_weights/{19}.pth', weights_only=True))\n",
    "    \n",
    "    with torch.no_grad():\n",
    "        pred = model(torch.tensor(cart2polar(x,y), dtype=torch.float))\n",
    "    \n",
    "    mu_0, lambda_, alpha, beta = (d.squeeze() for d in pred)\n",
    "    print(mu_0, lambda_, alpha, beta, torch.sqrt(beta / (lambda_ * (alpha - 1))))\n",
    "    \n",
    "    # 그리드를 만들어 결합 확률 밀도를 계산\n",
    "    mu_grid, sigma2_grid = np.meshgrid(mu_values, sigma2_values)\n",
    "    std_pdf_values = nig_joint_pdf(mu_grid, sigma2_grid, mu_0, lambda_, alpha, beta)\n",
    "    \n",
    "    # 입력받은 CDF 값에 해당하는 등고선 값을 계산\n",
    "    ax3.contourf(mu_grid, sigma2_grid, std_pdf_values, levels=np.linspace(0, std_pdf_values.max(), 100), cmap='viridis')\n",
    "    zx, zy = a_memory[float(f'{alpha:.02f}')]\n",
    "    uncertain_mu, uncertain_sigma2 = mu_0 - zx / np.sqrt(lambda_/beta), zy * beta\n",
    "    ax3.scatter(uncertain_mu, uncertain_sigma2)\n",
    "    ax3.set_title('Uncertain model prediction')\n",
    "    ax3.set_title('Unertain model prediction\\n({:.04f}, {:.04f})'.format(uncertain_mu, uncertain_sigma2))\n",
    "\n",
    "\n",
    "    # 4. Distribution\n",
    "    kappa = norm.pdf(norm.ppf(epsilon))/(1-epsilon)\n",
    "    \n",
    "    l = np.linspace(X_RANGE[0], X_RANGE[1], 1000)\n",
    "    certain_DR_EDL_CVaR = certain_mu + kappa * np.sqrt(certain_sigma2)\n",
    "    ax4.plot(l, norm.pdf(l, certain_mu, certain_sigma2), label='certain')\n",
    "    ax4.axvline(certain_DR_EDL_CVaR, color='brown', linestyle='--', label=f'DRO-EDL-CVaR (epsilon={epsilon*100}%) = {certain_DR_EDL_CVaR:.2f}')\n",
    "\n",
    "    uncertain_DR_EDL_CVaR = uncertain_mu + kappa * np.sqrt(uncertain_sigma2)\n",
    "    ax4.plot(l, norm.pdf(l, uncertain_mu, uncertain_sigma2), label='uncertain')\n",
    "    ax4.axvline(uncertain_DR_EDL_CVaR, color='brown', linestyle='--', label=f'DRO-EDL-CVaR (epsilon={epsilon*100}%) = {uncertain_DR_EDL_CVaR:.2f}')\n",
    "    ax4.set_xlim(X_RANGE[0], X_RANGE[1])\n",
    "    ax4.legend()\n",
    "    ax4.grid(True)\n",
    "    ax4.set_xlabel(\"Obstacle Position\")\n",
    "    ax4.set_ylabel(\"Probability\")\n",
    "    ax4.set_title('Prob. distribution, ego: 0')\n",
    "\n",
    "\n",
    "    # 5. Boundary\n",
    "\n",
    "\n",
    "    labels = ['certain', 'uncertain']\n",
    "    for i, risk in enumerate([certain_DR_EDL_CVaR, uncertain_DR_EDL_CVaR]):\n",
    "        ax5.plot(l, -risk+l, label=labels[i])\n",
    "    ax5.axhline(0, color='black')\n",
    "\n",
    "    ax5.grid(True, which='both')\n",
    "    ax5.set_xlabel(\"Ego Position\")\n",
    "    ax5.set_ylabel(\"Cost\")\n",
    "    ax5.set_xlim(X_RANGE[0], X_RANGE[1])\n",
    "    ax5.set_ylim(Y_RANGE[0], Y_RANGE[1])\n",
    "    ax5.legend()\n",
    "        \n",
    "    \n",
    "    plt.show()\n",
    "import ipywidgets as widgets\n",
    "\n",
    "x_slider = widgets.FloatSlider(value=2, min=X_RANGE[0], max=X_RANGE[1], step=1, description='x')\n",
    "y_slider = widgets.FloatSlider(value=2, min=Y_RANGE[0], max=Y_RANGE[1], step=1, description='y')\n",
    "ui = widgets.VBox([x_slider, y_slider])\n",
    "out = widgets.interactive_output(update, {\n",
    "    'x': x_slider, \n",
    "    'y': y_slider, \n",
    "})\n",
    "\n",
    "display(ui, out)"
   ]
  },
  {
   "cell_type": "code",
   "execution_count": null,
   "id": "afb7d4b3-6ac7-4e9b-8e16-06b947e116df",
   "metadata": {},
   "outputs": [],
   "source": []
  }
 ],
 "metadata": {
  "kernelspec": {
   "display_name": "Python 3 (ipykernel)",
   "language": "python",
   "name": "python3"
  },
  "language_info": {
   "codemirror_mode": {
    "name": "ipython",
    "version": 3
   },
   "file_extension": ".py",
   "mimetype": "text/x-python",
   "name": "python",
   "nbconvert_exporter": "python",
   "pygments_lexer": "ipython3",
   "version": "3.8.10"
  }
 },
 "nbformat": 4,
 "nbformat_minor": 5
}
