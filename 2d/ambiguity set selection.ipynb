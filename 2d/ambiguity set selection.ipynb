{
 "cells": [
  {
   "cell_type": "code",
   "execution_count": 1,
   "id": "7f0ee301-e932-4d5f-8f31-91dc64dd279b",
   "metadata": {
    "tags": []
   },
   "outputs": [],
   "source": [
    "import matplotlib.pyplot as plt\n",
    "import numpy as np\n",
    "from scipy.stats import norm, foldnorm"
   ]
  },
  {
   "cell_type": "code",
   "execution_count": 2,
   "id": "6d54eaa3-a8c9-48a9-9f7b-6617f8f8c390",
   "metadata": {
    "tags": []
   },
   "outputs": [],
   "source": [
    "def plot_ellipse(mean, covariance, n_std=2, ax=None, **kwargs):\n",
    "    \"\"\"\n",
    "    평균과 공분산 행렬을 사용하여 타원을 그립니다.\n",
    "\n",
    "    Parameters:\n",
    "    - mean: 1x2 배열, 타원의 중심 (평균 벡터)\n",
    "    - covariance: 2x2 배열, 공분산 행렬\n",
    "    - n_std: float, 타원의 크기를 결정하는 표준편차의 배수 (기본값: 2)\n",
    "    - ax: matplotlib 축 객체 (기본값: None)\n",
    "    - kwargs: matplotlib.patches.Ellipse에 전달할 추가 스타일 인수\n",
    "\n",
    "    Returns:\n",
    "    - 타원을 그린 matplotlib Ellipse 객체\n",
    "    \"\"\"\n",
    "    from matplotlib.patches import Ellipse\n",
    "    if ax is None:\n",
    "        ax = plt.gca()\n",
    "\n",
    "    # 공분산 행렬의 고유값과 고유벡터 계산\n",
    "    eigenvalues, eigenvectors = np.linalg.eigh(covariance)\n",
    "\n",
    "    # 고유값의 제곱근으로 타원의 축 길이 결정\n",
    "    axis_length = n_std * np.sqrt(eigenvalues)\n",
    "\n",
    "    # 고유벡터에서 타원의 회전 각도 계산\n",
    "    angle = np.degrees(np.arctan2(*eigenvectors[:, 0][::-1]))\n",
    "\n",
    "    # 타원 생성\n",
    "    ellipse = Ellipse(\n",
    "        xy=mean,\n",
    "        width=2 * axis_length[0],\n",
    "        height=2 * axis_length[1],\n",
    "        angle=angle,\n",
    "        **kwargs\n",
    "    )\n",
    "\n",
    "    # 타원을 플롯에 추가\n",
    "    ax.add_patch(ellipse)\n",
    "\n",
    "    return ellipse"
   ]
  },
  {
   "cell_type": "code",
   "execution_count": null,
   "id": "9878f399-dccf-410e-a74b-92495196618c",
   "metadata": {},
   "outputs": [],
   "source": []
  },
  {
   "cell_type": "code",
   "execution_count": 7,
   "id": "3e40a111-210a-4264-8f77-225904ac94b5",
   "metadata": {
    "tags": []
   },
   "outputs": [
    {
     "data": {
      "text/plain": [
       "<matplotlib.patches.Ellipse at 0x707f52223040>"
      ]
     },
     "execution_count": 7,
     "metadata": {},
     "output_type": "execute_result"
    },
    {
     "data": {
      "image/png": "[encoded data removed]",
      "text/plain": [
       "<Figure size 640x480 with 1 Axes>"
      ]
     },
     "metadata": {},
     "output_type": "display_data"
    }
   ],
   "source": [
    "fig, ax = plt.subplots()\n",
    "ax.set_xlim(0, 10)\n",
    "ax.set_ylim(0, 10)\n",
    "for \n",
    "    \n",
    "    mu = [mu_x, mu_y]\n",
    "    Sigma = [\n",
    "        [sigma_x, 0],\n",
    "        [0, sigma_y]\n",
    "    ]\n",
    "    plot_ellipse(mu, Sigma, n_std=2, ax=ax, color='skyblue', fill=False, alpha=0.4)"
   ]
  },
  {
   "cell_type": "code",
   "execution_count": 60,
   "id": "200d7a1c-e572-4fd2-8aec-3285fd42e102",
   "metadata": {
    "tags": []
   },
   "outputs": [],
   "source": [
    "mu_x_list = np.linspace(14, 18, 100)\n",
    "mu_y_list = np.linspace(11, 16, 100)\n",
    "\n",
    "sigma_x_list = np.linspace(0.4, 1, 100)\n",
    "sigma_y_list = np.linspace(0.9, 3, 100)"
   ]
  },
  {
   "cell_type": "code",
   "execution_count": 61,
   "id": "1b426387-ebdb-4e7b-ab9d-e03f11f43e56",
   "metadata": {
    "tags": []
   },
   "outputs": [],
   "source": [
    "mu_x_samples = np.random.uniform(14, 18, 100)\n",
    "mu_y_samples = np.random.uniform(11, 16, 100)\n",
    "\n",
    "sigma_x_samples = np.random.uniform(0.4, 1, 100)\n",
    "sigma_y_samples = np.random.uniform(0.9, 3, 100)\n",
    "\n",
    "mu_samples = np.stack([mu_x_samples, mu_y_samples])\n",
    "\n",
    "z = np.zeros_like(sigma_x_samples)\n",
    "Sigma = np.stack([sigma_x_samples, z, z, sigma_y_samples])\n",
    "Sigma_samples = Sigma.reshape(2,2,-1)"
   ]
  },
  {
   "cell_type": "code",
   "execution_count": 75,
   "id": "3397ca6f-2f5f-461d-8b58-314fa7617900",
   "metadata": {
    "tags": []
   },
   "outputs": [],
   "source": [
    "from ipywidgets import interact, IntSlider\n",
    "R = 12\n",
    "for fig_idx, theta in enumerate(range(360)):\n",
    "    theta = theta / 180 * np.pi\n",
    "    point = [R * np.cos(theta) + 15, R * np.sin(theta) + 15]\n",
    "\n",
    "    fig, ax = plt.subplots(1,3,figsize=(12, 4))\n",
    "\n",
    "    # x CVaR fill\n",
    "    mu_x_grid, sigma_x_grid = np.meshgrid(mu_x_list, sigma_x_list)\n",
    "    params = np.stack([mu_x_grid.flatten(), sigma_x_grid.flatten()])\n",
    "\n",
    "    x_CVaR_values = np.zeros([100, 100]).flatten()\n",
    "\n",
    "    for idx, (mu, sigma) in enumerate(params.T):\n",
    "        diff_mu = abs(mu - point[0])\n",
    "        diff_sigma = sigma\n",
    "        d_dist = foldnorm(diff_mu / diff_sigma, scale=diff_sigma)\n",
    "        mean, std = d_dist.stats()\n",
    "        epsilon = 0.1\n",
    "        kappa = np.sqrt(epsilon / (1-epsilon))\n",
    "        CVaR = -mean + kappa * std\n",
    "        x_CVaR_values[idx] = CVaR\n",
    "    \n",
    "    x_CVaR_values = x_CVaR_values.reshape(100, 100)\n",
    "    highlight_mu_x, highlight_sigma_x = params[:,x_CVaR_values.argmax()]\n",
    "\n",
    "    # y CVaR fill\n",
    "    mu_y_grid, sigma_y_grid = np.meshgrid(mu_y_list, sigma_y_list)\n",
    "    params = np.stack([mu_y_grid.flatten(), sigma_y_grid.flatten()])\n",
    "\n",
    "    y_CVaR_values = np.zeros([100, 100]).flatten()\n",
    "\n",
    "    for idx, (mu, sigma) in enumerate(params.T):\n",
    "        diff_mu = abs(mu - point[1])\n",
    "        diff_sigma = sigma\n",
    "        d_dist = foldnorm(diff_mu / diff_sigma, scale=diff_sigma)\n",
    "        mean, std = d_dist.stats()\n",
    "        epsilon = 0.1\n",
    "        kappa = np.sqrt(epsilon / (1-epsilon))\n",
    "        CVaR = -mean + kappa * std\n",
    "        y_CVaR_values[idx] = CVaR\n",
    "       \n",
    "    y_CVaR_values = y_CVaR_values.reshape(100, 100)\n",
    "    highlight_mu_y, highlight_sigma_y = params[:,y_CVaR_values.argmax()]\n",
    "    \n",
    "    mu = [highlight_mu_x, highlight_mu_y]\n",
    "    Sigma = [\n",
    "        [highlight_sigma_x, 0],\n",
    "        [0, highlight_sigma_y]\n",
    "    ]\n",
    "    plot_ellipse(mu, Sigma, n_std=2, ax=ax[0], color='blue', fill=False)\n",
    "\n",
    "    \n",
    "    \n",
    "    \n",
    "    \n",
    "    cax = ax[1].imshow(x_CVaR_values)\n",
    "    ax[1].invert_yaxis()\n",
    "    ax[1].set_title('x axis ambiguity set')\n",
    "    ax[1].axis('off')\n",
    "    fig.colorbar(cax)\n",
    "    \n",
    "    cax = ax[2].imshow(y_CVaR_values)\n",
    "    ax[2].invert_yaxis()\n",
    "    ax[2].set_title('y axis ambiguity set')\n",
    "    ax[2].axis('off')\n",
    "    fig.colorbar(cax)\n",
    "    \n",
    "    ax[0].set_xlim(0, 30)\n",
    "    ax[0].set_ylim(0, 30)\n",
    "    \n",
    "    for mu, Sigma in zip(mu_samples.T, Sigma_samples.T):\n",
    "        plot_ellipse(mu, Sigma, n_std=2, ax=ax[0], color='skyblue', fill=False, alpha=0.4)\n",
    "    ax[0].scatter(*point)\n",
    "    ax[0].set_title('Ego position and obstacle distribution')\n",
    "    plt.savefig(f'heatmap_record/{fig_idx}.png')\n",
    "    plt.close()"
   ]
  },
  {
   "cell_type": "code",
   "execution_count": null,
   "id": "732b1d3c-13ca-49f5-a76a-0b0ee3ece23e",
   "metadata": {},
   "outputs": [],
   "source": []
  }
 ],
 "metadata": {
  "kernelspec": {
   "display_name": "Python 3 (ipykernel)",
   "language": "python",
   "name": "python3"
  },
  "language_info": {
   "codemirror_mode": {
    "name": "ipython",
    "version": 3
   },
   "file_extension": ".py",
   "mimetype": "text/x-python",
   "name": "python",
   "nbconvert_exporter": "python",
   "pygments_lexer": "ipython3",
   "version": "3.8.10"
  }
 },
 "nbformat": 4,
 "nbformat_minor": 5
}
