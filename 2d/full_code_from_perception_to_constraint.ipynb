{
 "cells": [
  {
   "cell_type": "markdown",
   "id": "506a6b8b-a518-436e-89d5-cf952ebe8b97",
   "metadata": {},
   "source": [
    "# Perception\n",
    "- input: obstacle position (x, y)\n",
    "- output: NIG parameters of x, y"
   ]
  },
  {
   "cell_type": "code",
   "execution_count": 12,
   "id": "165feb09-4ac6-4ca4-9621-6874c67c10dd",
   "metadata": {
    "tags": []
   },
   "outputs": [
    {
     "name": "stdout",
     "output_type": "stream",
     "text": [
      "/work/DRO-EDL/2d\n",
      "['/usr/lib/python38.zip', '/usr/lib/python3.8', '/usr/lib/python3.8/lib-dynload', '', '/home/opencda/.local/lib/python3.8/site-packages', '/usr/local/lib/python3.8/dist-packages', '/usr/lib/python3/dist-packages', '/work/dro/temp/1d/evidential-learning-pytorch']\n"
     ]
    }
   ],
   "source": [
    "!pwd\n",
    "!export PYTHONPATH=$PYTHONPATH:$(pwd)/evidential-learning-pytorch\n",
    "\n",
    "import sys\n",
    "print(sys.path)\n",
    "sys.path.append('/work/DRO-EDL/1d/evidential-learning-pytorch')\n",
    "\n",
    "from tqdm import tqdm\n",
    "from scipy.stats import norm\n",
    "\n",
    "import numpy as np\n",
    "from scipy.stats import norm, invgamma\n",
    "\n",
    "import matplotlib.pyplot as plt\n",
    "from scipy.special import gamma\n",
    "from scipy.optimize import minimize\n",
    "from scipy.integrate import dblquad\n",
    "\n",
    "import torch\n",
    "\n",
    "from torch import nn\n",
    "from torch.utils.data import DataLoader, TensorDataset\n",
    "\n",
    "from edl_pytorch import NormalInvGamma, evidential_regression\n",
    "\n",
    "import torch.optim as optim\n",
    "\n",
    "from scipy.stats import invgamma, norm"
   ]
  },
  {
   "cell_type": "code",
   "execution_count": 13,
   "id": "034b52c1-3189-41e4-a730-9c48c76a3cdb",
   "metadata": {
    "tags": []
   },
   "outputs": [],
   "source": [
    "def cart2polar(x,y):\n",
    "    r = (x**2 + y**2)**(1/2)\n",
    "    theta = np.arctan2(y,x)\n",
    "    return r , theta\n",
    "\n",
    "def polar2cart(r,theta):\n",
    "    x = r*np.cos(theta)\n",
    "    y = r*np.sin(theta)\n",
    "    return x,y"
   ]
  },
  {
   "cell_type": "code",
   "execution_count": 14,
   "id": "f6ae6a00-ca86-4097-bf86-6f74d13b1ecf",
   "metadata": {
    "tags": []
   },
   "outputs": [
    {
     "data": {
      "text/plain": [
       "<All keys matched successfully>"
      ]
     },
     "execution_count": 14,
     "metadata": {},
     "output_type": "execute_result"
    }
   ],
   "source": [
    "torch.manual_seed(0)\n",
    "\n",
    "model = nn.Sequential(\n",
    "    nn.Linear(2, 64),\n",
    "    nn.ReLU(),\n",
    "    nn.Linear(64, 64),\n",
    "    nn.ReLU(),\n",
    "    nn.Linear(64, 64),\n",
    "    nn.ReLU(),\n",
    "    nn.Linear(64, 64),\n",
    "    nn.ReLU(),\n",
    "    NormalInvGamma(64, 2),\n",
    ")\n",
    "model.load_state_dict(torch.load(f'uncertain_weights/{90}.pth', weights_only=True))\n"
   ]
  },
  {
   "cell_type": "code",
   "execution_count": 15,
   "id": "86534bb3-99bb-4151-b7a0-e836aa53c3de",
   "metadata": {
    "tags": []
   },
   "outputs": [],
   "source": [
    "def NIG_sample(params):\n",
    "    mu_0, lambda_, alpha, beta = params\n",
    "    x_sigma2_dist = invgamma(alpha, scale=beta)\n",
    "    sigma2 = x_sigma2_dist.rvs(1)\n",
    "    x_mu_dist = norm(mu_0, np.sqrt(sigma2 / lambda_))\n",
    "    mu = x_mu_dist.rvs(1)\n",
    "    return np.array([mu[0], sigma2[0]])"
   ]
  },
  {
   "cell_type": "code",
   "execution_count": 77,
   "id": "d4ee9bbe-5f47-4b8b-99b0-d146c6a38448",
   "metadata": {
    "tags": []
   },
   "outputs": [],
   "source": [
    "import pickle\n",
    "target_cdf = 0.9\n",
    "a_memory = dict()\n",
    "with open(f'../a_memory_sets/a_memory_{target_cdf}.pickle', 'rb') as f:\n",
    "    a_memory = pickle.load(f)"
   ]
  },
  {
   "cell_type": "code",
   "execution_count": 78,
   "id": "ed1b9315-0636-4f82-92b1-24575c9fb2e6",
   "metadata": {
    "tags": []
   },
   "outputs": [
    {
     "data": {
      "application/vnd.jupyter.widget-view+json": {
       "model_id": "eb30ae33412a43dd8bdde0caa1a77240",
       "version_major": 2,
       "version_minor": 0
      },
      "text/plain": [
       "interactive(children=(FloatSlider(value=0.0, description='Major Axis (a)', min=-100.0, step=1.0), FloatSlider(…"
      ]
     },
     "metadata": {},
     "output_type": "display_data"
    }
   ],
   "source": [
    "from matplotlib.patches import Polygon\n",
    "from ipywidgets import interact, FloatSlider\n",
    "\n",
    "def plot(x, y):\n",
    "    fig, ax = plt.subplots(figsize=(8,8))\n",
    "    \n",
    "    sample = [x, y]\n",
    "    input_data = torch.tensor(cart2polar(*sample), dtype=torch.float)[None,:]\n",
    "    with torch.no_grad():\n",
    "        pred = model(input_data)\n",
    "    x_params = [pred[0][0,0], pred[1][0,0], pred[2][0,0], pred[3][0,0]]\n",
    "    y_params = [pred[0][0,1], pred[1][0,1], pred[2][0,1], pred[3][0,1]]\n",
    "\n",
    "    \n",
    "    # ambiguity set\n",
    "    ## x axis\n",
    "    mu_0, lambda_, alpha, beta = x_params\n",
    "    try:\n",
    "        x_mu_low, x_mu_high, x_sigma2_low, x_sigma2_high = a_memory[float(f'{alpha:.02f}')]\n",
    "    except:\n",
    "        x_mu_low, x_mu_high, x_sigma2_low, x_sigma2_high = a_memory[float(f'{1.01}')]\n",
    "    \n",
    "    ## y axis\n",
    "    mu_0, lambda_, alpha, beta = y_params\n",
    "    try:\n",
    "        y_mu_low, y_mu_high, y_sigma2_low, y_sigma2_high = a_memory[float(f'{alpha:.02f}')]\n",
    "    except:\n",
    "        y_mu_low, y_mu_high, y_sigma2_low, y_sigma2_high = a_memory[float(f'{1.01}')]\n",
    "    \n",
    "    vertices = [(x_mu_low, y_mu_low), (x_mu_low, y_mu_high), (x_mu_high, y_mu_high), (x_mu_high, y_mu_low)]\n",
    "    \n",
    "    rectangle = Polygon(vertices, closed=True, color='red')\n",
    "    # sampling\n",
    "    for _ in range(500):\n",
    "        x_dist_params = NIG_sample(x_params)\n",
    "        y_dist_params = NIG_sample(y_params)\n",
    "\n",
    "        mean = np.array([x_dist_params[0], y_dist_params[0]])\n",
    "        cov = np.array([\n",
    "            [x_dist_params[1], 0],\n",
    "            [0, y_dist_params[1]]\n",
    "        ])\n",
    "\n",
    "\n",
    "        # 공분산 행렬의 고유값과 고유벡터 계산\n",
    "        eigvals, eigvecs = np.linalg.eigh(cov)\n",
    "\n",
    "        # 1-sigma 수준에서 타원의 축 반지름 계산\n",
    "        axis_lengths = np.sqrt(eigvals)\n",
    "\n",
    "        # 타원의 각도 계산 (라디안)\n",
    "        angle = np.arctan2(eigvecs[1, 0], eigvecs[0, 0])\n",
    "\n",
    "        # 타원 좌표 생성\n",
    "        theta = np.linspace(0, 2 * np.pi, 100)\n",
    "        ellipse = np.array([axis_lengths[0] * np.cos(theta), axis_lengths[1] * np.sin(theta)])\n",
    "\n",
    "        # 타원의 회전 적용\n",
    "        rotation_matrix = np.array([[np.cos(angle), -np.sin(angle)],\n",
    "                                     [np.sin(angle), np.cos(angle)]])\n",
    "        rotated_ellipse = rotation_matrix @ ellipse\n",
    "\n",
    "        # 타원을 평균 좌표로 이동\n",
    "        ellipse_x, ellipse_y = rotated_ellipse[0] + mean[0], rotated_ellipse[1] + mean[1]\n",
    "        if (x_mu_low < mean[0] and mean[0] < x_mu_high) and (y_mu_low < mean[1] and mean[1] < y_mu_high):\n",
    "            color = 'lime'\n",
    "            alpha = 0.1\n",
    "            label = 'in ambiguity set'\n",
    "        else:\n",
    "            color = 'skyblue'\n",
    "            alpha = 0.8\n",
    "            label = 'out of ambiguity set'\n",
    "        plt.plot(ellipse_x, ellipse_y, color=color, alpha=alpha, label=label)\n",
    "    ax.add_patch(rectangle)\n",
    "\n",
    "    plt.scatter(*sample, color='g', label='Ground Truth')\n",
    "    plt.xlim(-100, 100)\n",
    "    plt.ylim(-100, 100)\n",
    "    handles, labels = plt.gca().get_legend_handles_labels()\n",
    "    unique_labels = dict(zip(labels, handles))  # 중복 제거\n",
    "\n",
    "    # 고유한 레이블만 포함하는 legend 표시\n",
    "    plt.legend(unique_labels.values(), unique_labels.keys())   \n",
    "    plt.show()\n",
    "\n",
    "\n",
    "interact(\n",
    "        plot,\n",
    "        x=FloatSlider(min=-100, max=100, step=1, value=0, description='Major Axis (a)'),\n",
    "        y=FloatSlider(min=-100, max=100, step=1, value=0, description='Minor Axis (b)'),\n",
    ");\n"
   ]
  },
  {
   "cell_type": "code",
   "execution_count": 19,
   "id": "f930d082-0fa7-4dec-9e62-2a02d429dc22",
   "metadata": {
    "tags": []
   },
   "outputs": [],
   "source": [
    "sample_list = list()\n",
    "for i in range(50):\n",
    "    sample_list.append([-i, 0])\n",
    "    \n",
    "for i in range(50):\n",
    "    sample_list.append([-50, i])\n",
    "    \n",
    "for i in range(100):\n",
    "    sample_list.append([i-50, 50])\n",
    "    \n",
    "for i in range(100):\n",
    "    sample_list.append([50, 50-i])\n",
    "    \n",
    "for i in range(150):\n",
    "    sample_list.append([50-i, -50])\n",
    "    \n",
    "for i in range(150):\n",
    "    sample_list.append([-100, i-50])\n",
    "    \n",
    "for i in range(200):\n",
    "    sample_list.append([i-100, 100])\n",
    "    \n",
    "for i in range(200):\n",
    "    sample_list.append([100, i-100])"
   ]
  },
  {
   "cell_type": "code",
   "execution_count": 20,
   "id": "8cf9c177-057f-486f-a14a-5a94f5191bbf",
   "metadata": {
    "tags": []
   },
   "outputs": [
    {
     "name": "stderr",
     "output_type": "stream",
     "text": [
      "0it [00:00, ?it/s]"
     ]
    },
    {
     "data": {
      "image/png": "[encoded data removed]",
      "text/plain": [
       "<Figure size 800x800 with 1 Axes>"
      ]
     },
     "metadata": {},
     "output_type": "display_data"
    },
    {
     "name": "stderr",
     "output_type": "stream",
     "text": [
      "0it [00:00, ?it/s]\n"
     ]
    }
   ],
   "source": [
    "from matplotlib.patches import Polygon\n",
    "from ipywidgets import interact, FloatSlider\n",
    "from tqdm import tqdm\n",
    "\n",
    "for idx, (x,y) in tqdm(enumerate(sample_list)):\n",
    "    fig, ax = plt.subplots(figsize=(8,8))\n",
    "    \n",
    "    sample = [x, y]\n",
    "    input_data = torch.tensor(cart2polar(*sample), dtype=torch.float)[None,:]\n",
    "    with torch.no_grad():\n",
    "        pred = model(input_data)\n",
    "    x_params = [pred[0][0,0], pred[1][0,0], pred[2][0,0], pred[3][0,0]]\n",
    "    y_params = [pred[0][0,1], pred[1][0,1], pred[2][0,1], pred[3][0,1]]\n",
    "\n",
    "    \n",
    "    # ambiguity set\n",
    "    ## x axis\n",
    "    mu_0, lambda_, alpha, beta = x_params\n",
    "    try:\n",
    "        zx, zy = a_memory[float(f'{alpha:.02f}')]\n",
    "    except:\n",
    "        zx, zy = a_memory[float(f'{1.01}')]\n",
    "    delta = zx / np.sqrt(lambda_/beta)\n",
    "    x_mu_low, x_mu_high = mu_0 - delta, mu_0 + delta\n",
    "    \n",
    "    ## y axis\n",
    "    mu_0, lambda_, alpha, beta = y_params\n",
    "    try:\n",
    "        zx, zy = a_memory[float(f'{alpha:.02f}')]\n",
    "    except:\n",
    "        zx, zy = a_memory[float(f'{1.01}')]\n",
    "    delta = zx / np.sqrt(lambda_/beta)\n",
    "    y_mu_low, y_mu_high = mu_0 - delta, mu_0 + delta\n",
    "    \n",
    "    vertices = [(x_mu_low, y_mu_low), (x_mu_low, y_mu_high), (x_mu_high, y_mu_high), (x_mu_high, y_mu_low)]\n",
    "    \n",
    "    rectangle = Polygon(vertices, closed=True, color='red')\n",
    "    # sampling\n",
    "    for _ in range(500):\n",
    "        x_dist_params = NIG_sample(x_params)\n",
    "        y_dist_params = NIG_sample(y_params)\n",
    "\n",
    "        mean = np.array([x_dist_params[0], y_dist_params[0]])\n",
    "        cov = np.array([\n",
    "            [x_dist_params[1], 0],\n",
    "            [0, y_dist_params[1]]\n",
    "        ])\n",
    "\n",
    "\n",
    "        # 공분산 행렬의 고유값과 고유벡터 계산\n",
    "        eigvals, eigvecs = np.linalg.eigh(cov)\n",
    "\n",
    "        # 1-sigma 수준에서 타원의 축 반지름 계산\n",
    "        axis_lengths = np.sqrt(eigvals)\n",
    "\n",
    "        # 타원의 각도 계산 (라디안)\n",
    "        angle = np.arctan2(eigvecs[1, 0], eigvecs[0, 0])\n",
    "\n",
    "        # 타원 좌표 생성\n",
    "        theta = np.linspace(0, 2 * np.pi, 100)\n",
    "        ellipse = np.array([axis_lengths[0] * np.cos(theta), axis_lengths[1] * np.sin(theta)])\n",
    "\n",
    "        # 타원의 회전 적용\n",
    "        rotation_matrix = np.array([[np.cos(angle), -np.sin(angle)],\n",
    "                                     [np.sin(angle), np.cos(angle)]])\n",
    "        rotated_ellipse = rotation_matrix @ ellipse\n",
    "\n",
    "        # 타원을 평균 좌표로 이동\n",
    "        ellipse_x, ellipse_y = rotated_ellipse[0] + mean[0], rotated_ellipse[1] + mean[1]\n",
    "        if (x_mu_low < mean[0] and mean[0] < x_mu_high) and (y_mu_low < mean[1] and mean[1] < y_mu_high):\n",
    "            color = 'lime'\n",
    "            alpha = 0.1\n",
    "            label = 'in ambiguity set'\n",
    "        else:\n",
    "            color = 'skyblue'\n",
    "            alpha = 0.8\n",
    "            label = 'out of ambiguity set'\n",
    "        plt.plot(ellipse_x, ellipse_y, color=color, alpha=alpha, label=label)\n",
    "    ax.add_patch(rectangle)\n",
    "\n",
    "    plt.scatter(*sample, color='g', label='Ground Truth')\n",
    "    plt.xlim(-100, 100)\n",
    "    plt.ylim(-100, 100)\n",
    "    handles, labels = plt.gca().get_legend_handles_labels()\n",
    "    unique_labels = dict(zip(labels, handles))  # 중복 제거\n",
    "\n",
    "    # 고유한 레이블만 포함하는 legend 표시\n",
    "    plt.legend(unique_labels.values(), unique_labels.keys())   \n",
    "    plt.show()\n",
    "    break\n"
   ]
  },
  {
   "cell_type": "markdown",
   "id": "f480b3c2-5c75-4cf9-9fea-55a4c04bddce",
   "metadata": {},
   "source": [
    "# Make surrogate ambiguity set\n",
    "- input: NIG pararmeters of x, y\n",
    "- output: surrogate ambiguity set \n",
    "    - example:  \n",
    "    $\\mu: [\\mu_{min}, \\mu_{max}]$  \n",
    "               $\\sigma^2: [\\sigma_{min}^2, \\sigma_{max}^2]$"
   ]
  },
  {
   "cell_type": "markdown",
   "id": "65bf56a5-892d-48da-aad7-e821a5f3c75d",
   "metadata": {
    "tags": []
   },
   "source": [
    "# Make a contraint\n",
    "- input: (surrogate) ambiguity set\n",
    "- output: \n",
    "    1. worst case perception distribution $(\\mu, \\Sigma)$\n",
    "    2. calculate the constraint (worst case CVaR(loss))\n",
    "    \n",
    "    \n"
   ]
  },
  {
   "cell_type": "code",
   "execution_count": 5,
   "id": "899875f8-e48e-4b21-99e0-c13373f9e278",
   "metadata": {
    "tags": []
   },
   "outputs": [],
   "source": [
    "import matplotlib.pyplot as plt\n",
    "import numpy as np\n",
    "from scipy.stats import norm, foldnorm"
   ]
  },
  {
   "cell_type": "code",
   "execution_count": 6,
   "id": "a54cd4dc-2f04-4967-9a3a-8c9bed2dcd51",
   "metadata": {
    "tags": []
   },
   "outputs": [],
   "source": [
    "def plot_ellipse(mean, covariance, n_std=2, ax=None, **kwargs):\n",
    "    \"\"\"\n",
    "    평균과 공분산 행렬을 사용하여 타원을 그립니다.\n",
    "\n",
    "    Parameters:\n",
    "    - mean: 1x2 배열, 타원의 중심 (평균 벡터)\n",
    "    - covariance: 2x2 배열, 공분산 행렬\n",
    "    - n_std: float, 타원의 크기를 결정하는 표준편차의 배수 (기본값: 2)\n",
    "    - ax: matplotlib 축 객체 (기본값: None)\n",
    "    - kwargs: matplotlib.patches.Ellipse에 전달할 추가 스타일 인수\n",
    "\n",
    "    Returns:\n",
    "    - 타원을 그린 matplotlib Ellipse 객체\n",
    "    \"\"\"\n",
    "    from matplotlib.patches import Ellipse\n",
    "    if ax is None:\n",
    "        ax = plt.gca()\n",
    "\n",
    "    # 공분산 행렬의 고유값과 고유벡터 계산\n",
    "    eigenvalues, eigenvectors = np.linalg.eigh(covariance)\n",
    "\n",
    "    # 고유값의 제곱근으로 타원의 축 길이 결정\n",
    "    axis_length = n_std * np.sqrt(eigenvalues)\n",
    "\n",
    "    # 고유벡터에서 타원의 회전 각도 계산\n",
    "    angle = np.degrees(np.arctan2(*eigenvectors[:, 0][::-1]))\n",
    "\n",
    "    # 타원 생성\n",
    "    ellipse = Ellipse(\n",
    "        xy=mean,\n",
    "        width=2 * axis_length[0],\n",
    "        height=2 * axis_length[1],\n",
    "        angle=angle,\n",
    "        **kwargs\n",
    "    )\n",
    "\n",
    "    # 타원을 플롯에 추가\n",
    "    ax.add_patch(ellipse)\n",
    "\n",
    "    return ellipse"
   ]
  },
  {
   "cell_type": "code",
   "execution_count": 7,
   "id": "4a8f5e1a-f50d-42d3-b48e-b40cf014aef5",
   "metadata": {
    "tags": []
   },
   "outputs": [],
   "source": [
    "mu_x_list = np.linspace(14, 18, 100)\n",
    "mu_y_list = np.linspace(11, 16, 100)\n",
    "\n",
    "sigma_x_list = np.linspace(0.4, 1, 100)\n",
    "sigma_y_list = np.linspace(0.9, 3, 100)"
   ]
  },
  {
   "cell_type": "code",
   "execution_count": 8,
   "id": "0ceaa3ea-ecd4-4cc9-9fc4-4ca4de893b32",
   "metadata": {
    "tags": []
   },
   "outputs": [],
   "source": [
    "mu_x_samples = np.random.uniform(14, 18, 100)\n",
    "mu_y_samples = np.random.uniform(11, 16, 100)\n",
    "\n",
    "sigma_x_samples = np.random.uniform(0.4, 1, 100)\n",
    "sigma_y_samples = np.random.uniform(0.9, 3, 100)\n",
    "\n",
    "mu_samples = np.stack([mu_x_samples, mu_y_samples])\n",
    "\n",
    "z = np.zeros_like(sigma_x_samples)\n",
    "Sigma = np.stack([sigma_x_samples, z, z, sigma_y_samples])\n",
    "Sigma_samples = Sigma.reshape(2,2,-1)"
   ]
  },
  {
   "cell_type": "code",
   "execution_count": 10,
   "id": "915eea66-b009-49d2-8bd3-35c01a0a12e7",
   "metadata": {
    "tags": []
   },
   "outputs": [
    {
     "data": {
      "image/png": "[encoded data removed]",
      "text/plain": [
       "<Figure size 1200x400 with 5 Axes>"
      ]
     },
     "metadata": {},
     "output_type": "display_data"
    }
   ],
   "source": [
    "from ipywidgets import interact, IntSlider\n",
    "R = 12\n",
    "for fig_idx, theta in enumerate(range(360)):\n",
    "    theta = theta / 180 * np.pi\n",
    "    point = [R * np.cos(theta) + 15, R * np.sin(theta) + 15]\n",
    "\n",
    "    fig, ax = plt.subplots(1,3,figsize=(12, 4))\n",
    "\n",
    "    # x CVaR fill\n",
    "    mu_x_grid, sigma_x_grid = np.meshgrid(mu_x_list, sigma_x_list)\n",
    "    params = np.stack([mu_x_grid.flatten(), sigma_x_grid.flatten()])\n",
    "\n",
    "    x_CVaR_values = np.zeros([100, 100]).flatten()\n",
    "\n",
    "    for idx, (mu, sigma) in enumerate(params.T):\n",
    "        diff_mu = abs(mu - point[0])\n",
    "        diff_sigma = sigma\n",
    "        d_dist = foldnorm(diff_mu / diff_sigma, scale=diff_sigma)\n",
    "        mean, std = d_dist.stats()\n",
    "        epsilon = 0.1\n",
    "        kappa = np.sqrt(epsilon / (1-epsilon))\n",
    "        CVaR = -mean + kappa * std\n",
    "        x_CVaR_values[idx] = CVaR\n",
    "    \n",
    "    x_CVaR_values = x_CVaR_values.reshape(100, 100)\n",
    "    highlight_mu_x, highlight_sigma_x = params[:,x_CVaR_values.argmax()]\n",
    "\n",
    "    # y CVaR fill\n",
    "    mu_y_grid, sigma_y_grid = np.meshgrid(mu_y_list, sigma_y_list)\n",
    "    params = np.stack([mu_y_grid.flatten(), sigma_y_grid.flatten()])\n",
    "\n",
    "    y_CVaR_values = np.zeros([100, 100]).flatten()\n",
    "\n",
    "    for idx, (mu, sigma) in enumerate(params.T):\n",
    "        diff_mu = abs(mu - point[1])\n",
    "        diff_sigma = sigma\n",
    "        d_dist = foldnorm(diff_mu / diff_sigma, scale=diff_sigma)\n",
    "        mean, std = d_dist.stats()\n",
    "        epsilon = 0.1\n",
    "        kappa = np.sqrt(epsilon / (1-epsilon))\n",
    "        CVaR = -mean + kappa * std\n",
    "        y_CVaR_values[idx] = CVaR\n",
    "       \n",
    "    y_CVaR_values = y_CVaR_values.reshape(100, 100)\n",
    "    highlight_mu_y, highlight_sigma_y = params[:,y_CVaR_values.argmax()]\n",
    "    \n",
    "    mu = [highlight_mu_x, highlight_mu_y]\n",
    "    Sigma = [\n",
    "        [highlight_sigma_x, 0],\n",
    "        [0, highlight_sigma_y]\n",
    "    ]\n",
    "    plot_ellipse(mu, Sigma, n_std=2, ax=ax[0], color='blue', fill=False)\n",
    "\n",
    "    \n",
    "    \n",
    "    \n",
    "    \n",
    "    cax = ax[1].imshow(x_CVaR_values)\n",
    "    ax[1].invert_yaxis()\n",
    "    ax[1].set_title('x axis ambiguity set')\n",
    "    ax[1].axis('off')\n",
    "    fig.colorbar(cax)\n",
    "    \n",
    "    cax = ax[2].imshow(y_CVaR_values)\n",
    "    ax[2].invert_yaxis()\n",
    "    ax[2].set_title('y axis ambiguity set')\n",
    "    ax[2].axis('off')\n",
    "    fig.colorbar(cax)\n",
    "    \n",
    "    ax[0].set_xlim(0, 30)\n",
    "    ax[0].set_ylim(0, 30)\n",
    "    \n",
    "    for mu, Sigma in zip(mu_samples.T, Sigma_samples.T):\n",
    "        plot_ellipse(mu, Sigma, n_std=2, ax=ax[0], color='skyblue', fill=False, alpha=0.4)\n",
    "    ax[0].scatter(*point)\n",
    "    ax[0].set_title('Ego position and obstacle distribution')\n",
    "    plt.show()\n",
    "    break"
   ]
  },
  {
   "cell_type": "code",
   "execution_count": null,
   "id": "21d06c15-2945-48fa-b1b3-e3cc962ba050",
   "metadata": {},
   "outputs": [],
   "source": []
  },
  {
   "cell_type": "code",
   "execution_count": null,
   "id": "18b05c12-0600-44f5-a0d6-a6eb9ea333d7",
   "metadata": {},
   "outputs": [],
   "source": []
  },
  {
   "cell_type": "markdown",
   "id": "327a8ac5-6619-416b-b68a-8ab921adb28c",
   "metadata": {},
   "source": [
    "# Aggregate all modules\n",
    "1. EDL perception model\n",
    "2. make a surrogate ambiguity set\n",
    "3. find a worst case perception and calculate the constraint"
   ]
  },
  {
   "cell_type": "code",
   "execution_count": 21,
   "id": "f9b55dfe-bd80-4b74-b8bb-59ecf5a2bf60",
   "metadata": {
    "tags": []
   },
   "outputs": [
    {
     "data": {
      "text/plain": [
       "<All keys matched successfully>"
      ]
     },
     "execution_count": 21,
     "metadata": {},
     "output_type": "execute_result"
    }
   ],
   "source": [
    "torch.manual_seed(0)\n",
    "\n",
    "model = nn.Sequential(\n",
    "    nn.Linear(2, 64),\n",
    "    nn.ReLU(),\n",
    "    nn.Linear(64, 64),\n",
    "    nn.ReLU(),\n",
    "    nn.Linear(64, 64),\n",
    "    nn.ReLU(),\n",
    "    nn.Linear(64, 64),\n",
    "    nn.ReLU(),\n",
    "    NormalInvGamma(64, 2),\n",
    ")\n",
    "model.load_state_dict(torch.load(f'uncertain_weights/{90}.pth', weights_only=True))\n"
   ]
  },
  {
   "cell_type": "markdown",
   "id": "c0708095-0192-4942-93fd-385247feb1b2",
   "metadata": {},
   "source": [
    "## 1. EDL perception model"
   ]
  },
  {
   "cell_type": "code",
   "execution_count": 88,
   "id": "601a3869-51a5-44c2-b99b-f46167ac1a72",
   "metadata": {
    "tags": []
   },
   "outputs": [],
   "source": [
    "def perception(model, obstacle_position):\n",
    "    '''\n",
    "    input:\n",
    "    - perception model: torch NN\n",
    "    - obstacle vehicle's potision: [x, y]\n",
    "    \n",
    "    output:\n",
    "    - obstacle vehicle's perception NIG distribution params for each axis [[mu_0_x, lambda_x, alpha_x, beta_x], [mu_0_y, lambda_y, alpha_y, beta_y]]\n",
    "    '''\n",
    "\n",
    "    obstacle_observation = cart2polar(*obstacle_position)\n",
    "\n",
    "    input_data = torch.tensor(obstacle_observation, dtype=torch.float)[None,:]\n",
    "    with torch.no_grad():\n",
    "        pred = model(input_data)\n",
    "\n",
    "    x_params = [pred[0][0,0], pred[1][0,0], pred[2][0,0], pred[3][0,0]]\n",
    "    y_params = [pred[0][0,1], pred[1][0,1], pred[2][0,1], pred[3][0,1]]\n",
    "    \n",
    "    return [x_params, y_params]\n"
   ]
  },
  {
   "cell_type": "code",
   "execution_count": 89,
   "id": "242d9b8e-0313-4e98-937a-86b18ec12e92",
   "metadata": {
    "tags": []
   },
   "outputs": [
    {
     "data": {
      "text/plain": [
       "[[tensor(28.3763), tensor(0.5194), tensor(1.6327), tensor(4.4633)],\n",
       " [tensor(40.3058), tensor(0.8530), tensor(2.3585), tensor(4.2729)]]"
      ]
     },
     "execution_count": 89,
     "metadata": {},
     "output_type": "execute_result"
    }
   ],
   "source": [
    "\n",
    "obstacle_position = [30, 40]\n",
    "\n",
    "perception(model, obstacle_position)\n"
   ]
  },
  {
   "cell_type": "markdown",
   "id": "e476b0ea-447a-4a32-ad49-8011151b4c2b",
   "metadata": {},
   "source": [
    "## 2. make a surrogate ambiguity set\n",
    "- 기존에는 우측 상단의 mu_max, sigma2_max 점 하나만 메모리에 저장해 두었는데\n",
    "- 이제는 좌우 위아래 꼭짓점 다 저장하는걸로 하자..!\n",
    "- 그러고 나중에 호출할 때는 4개의 점을 받아서 다시 되돌리는걸로"
   ]
  },
  {
   "cell_type": "code",
   "execution_count": null,
   "id": "af9f5ee0-209c-408d-9379-f92e4a0df9ec",
   "metadata": {},
   "outputs": [],
   "source": []
  },
  {
   "cell_type": "code",
   "execution_count": 105,
   "id": "06a80bf8-908b-45b3-9bd3-26d53fa976ad",
   "metadata": {
    "tags": []
   },
   "outputs": [],
   "source": [
    "def create_surrogate_ambiguity_set(params):\n",
    "    '''\n",
    "    params: [mu_0, lambda_, alpha, beta]\n",
    "    '''\n",
    "    mu_0, labmda_, alpha, beta = params\n",
    "    try:\n",
    "        mu_low, mu_high, sigma2_low, sigma2_high = a_memory[float(f'{alpha:.02f}')]\n",
    "    except:\n",
    "        mu_low, mu_high, sigma2_low, sigma2_high = a_memory[float(f'{1.01}')]\n",
    "\n",
    "        \n",
    "    mu_low = mu_low / np.sqrt(lambda_/beta) + mu_0\n",
    "    mu_high = mu_high / np.sqrt(lambda_/beta) + mu_0\n",
    "    sigma2_low = sigma2_low * beta\n",
    "    sigma2_high = sigma2_high * beta\n",
    "    return mu_low, mu_high, sigma2_low, sigma2_high"
   ]
  },
  {
   "cell_type": "code",
   "execution_count": 80,
   "id": "81dd57a2-1120-45e4-809a-329b1df9e3a6",
   "metadata": {
    "tags": []
   },
   "outputs": [],
   "source": [
    "x_ambiguity_set = create_surrogate_ambiguity_set(x_params)\n",
    "y_ambiguity_set = create_surrogate_ambiguity_set(y_params)\n",
    "\n",
    "\n",
    "# x_mu_low, x_mu_high, x_sigma2_low, x_sigma2_high = create_surrogate_ambiguity_set(x_params)\n",
    "# y_mu_low, y_mu_high, y_sigma2_low, y_sigma2_high = create_surrogate_ambiguity_set(y_params)\n",
    "\n",
    "# vertices = [(x_mu_low, y_mu_low), (x_mu_low, y_mu_high), (x_mu_high, y_mu_high), (x_mu_high, y_mu_low)]\n",
    "    \n",
    "# rectangle = Polygon(vertices, closed=True, color='red')\n",
    "\n",
    "# fig, ax = plt.subplots()\n",
    "# ax.add_patch(rectangle)\n",
    "# ax.set_xlim(-100, 100)\n",
    "# ax.set_ylim(-100, 100)\n",
    "# plt.show()"
   ]
  },
  {
   "cell_type": "markdown",
   "id": "8d33fd35-60c0-4937-a1a0-a0978653cce0",
   "metadata": {},
   "source": [
    "## 3. find a worst case perception and calculate the constraint"
   ]
  },
  {
   "cell_type": "code",
   "execution_count": 81,
   "id": "6c1912c8-c6d8-4aa8-9cd9-6f5febe34d92",
   "metadata": {
    "tags": []
   },
   "outputs": [],
   "source": [
    "def get_DRO_solution(ambiguity_set, ego_position):\n",
    "    '''\n",
    "    ambiguity set: parameter ranges [mu_low, mu_high, sigma2_low, sigma2_high]\n",
    "    ego position: ego vehicle's position [x] (calculate for each axis)\n",
    "    \n",
    "    일단은 2가지 경우로 하고,\n",
    "    나중에 3가지 경우로 중간에 애매한 위치일 경우 sigma2를 바꾸는걸로 고치자\n",
    "    '''\n",
    "    mu_low, mu_high, sigma2_low, sigma2_high = ambiguity_set\n",
    "    \n",
    "    if mu_low <= ego_position <= mu_high:\n",
    "        # 안에 포함됨\n",
    "        mu = ego_position\n",
    "        sigma2 = sigma2_low\n",
    "    elif ego_position < mu_low:\n",
    "        # 왼쪽에 떨어져 있음\n",
    "        mu = mu_low\n",
    "        sigma2 = sigma2_high\n",
    "    \n",
    "    else: # ego_position > mu_high\n",
    "        # 오른쪽에 가까이 있음\n",
    "        mu = mu_high\n",
    "        sigma2 = sigma2_high\n",
    "        \n",
    "    return mu, sigma2"
   ]
  },
  {
   "cell_type": "code",
   "execution_count": 82,
   "id": "9571a1ff-3bfb-4a0c-a114-b4d1783f157a",
   "metadata": {
    "tags": []
   },
   "outputs": [],
   "source": [
    "x_worst_case_perception = get_DRO_solution(x_ambiguity_set, ego_position[0])\n",
    "y_worst_case_perception = get_DRO_solution(y_ambiguity_set, ego_position[1])\n",
    "\n",
    "x_mu, x_sigma2 = x_worst_case_perception\n",
    "y_mu, y_sigma2 = y_worst_case_perception\n",
    "worst_case_perception = ([x_mu, y_mu], [[x_sigma2, 0], [0, y_sigma2]])"
   ]
  },
  {
   "cell_type": "markdown",
   "id": "65cf4f39-2064-4869-a736-b552426d7c49",
   "metadata": {},
   "source": [
    "# Calculate the worst case CVaR\n",
    "- use Unscented Transform to calculate the loss"
   ]
  },
  {
   "cell_type": "code",
   "execution_count": 129,
   "id": "ffaec5f6-6cc1-4322-a438-318b7217d430",
   "metadata": {
    "tags": []
   },
   "outputs": [],
   "source": [
    "def Unscented_Transform(dist, ego_position):\n",
    "    '''\n",
    "    input\n",
    "    - dist: perception distribution\n",
    "    - ego_position: ego vehicle's position (for loss calculation)\n",
    "\n",
    "    output\n",
    "    - loss_dist: loss distance distribution\n",
    "    '''\n",
    "\n",
    "    mu, Sigma = dist\n",
    "    mu = torch.tensor(mu, dtype=torch.float)[None,:]\n",
    "    Sigma = torch.tensor(Sigma, dtype=torch.float)[None, :,:]\n",
    "    # cholesky matrix\n",
    "    chol_matrices = torch.linalg.cholesky(Sigma)\n",
    "\n",
    "    # UT params\n",
    "    alpha = 1e-3\n",
    "    beta = 2.0\n",
    "    kappa = 0.0\n",
    "    n = mu.shape[1]\n",
    "    lambda_ = torch.tensor(alpha**2 * (n + kappa) - n, dtype=torch.float)\n",
    "\n",
    "    # Compute weights\n",
    "    Wm = torch.full((2 * n + 1,), 1 / (2 * (n + lambda_)))  # Mean weights\n",
    "    Wm[0] = lambda_ / (n + lambda_)\n",
    "\n",
    "    Wc = Wm.clone()  # Covariance weights\n",
    "    Wc[0] += 1 - alpha**2 + beta\n",
    "\n",
    "    # Generate sigma points for the entire batch\n",
    "    scaling = torch.sqrt(n + lambda_)\n",
    "    sigma_points = []\n",
    "\n",
    "    # Central sigma points\n",
    "    sigma_points.append(mu)\n",
    "\n",
    "    # Positive and negative directions\n",
    "    for i in range(n):\n",
    "        sigma_points.append(mu + scaling * chol_matrices[:, :, i])\n",
    "        sigma_points.append(mu - scaling * chol_matrices[:, :, i])\n",
    "\n",
    "    # Stack sigma points into a batch tensor\n",
    "    sigma_points = torch.stack(sigma_points, dim=1)  # Shape: (batch, 2n+1, n)\n",
    "\n",
    "    def nonlinear_transform(obs_position, ego_position):\n",
    "        target = torch.tensor(ego_position)  # Point (3, 4)\n",
    "        distance = 10-torch.sqrt(torch.sum((obs_position - target)**2, dim=-1))  # Euclidean distance\n",
    "        return distance  # Add last dimension for compatibility\n",
    "\n",
    "\n",
    "    transformed_sigma_points = nonlinear_transform(sigma_points, ego_position)\n",
    "\n",
    "    # Compute transformed means (batch)\n",
    "    transformed_means = torch.sum(Wm[None, :] * transformed_sigma_points, dim=1)\n",
    "\n",
    "    # Compute transformed covariances (batch)\n",
    "    diff = transformed_sigma_points - transformed_means[:, None]\n",
    "    transformed_variances = torch.sum(Wc[None, :] * diff**2, dim=1)#torch.einsum('bij,bi,bik->bjk', diff, Wc[None], diff)\n",
    "\n",
    "    transformed_std = torch.sqrt(transformed_variances)\n",
    "\n",
    "    return transformed_means, transformed_std"
   ]
  },
  {
   "cell_type": "code",
   "execution_count": 84,
   "id": "c7c3b4c9-d595-4c2c-bce3-e16897d74390",
   "metadata": {
    "tags": []
   },
   "outputs": [
    {
     "name": "stdout",
     "output_type": "stream",
     "text": [
      "torch.Size([1, 2, 2])\n"
     ]
    },
    {
     "data": {
      "text/plain": [
       "(tensor([2.4375]), tensor([1.7567]))"
      ]
     },
     "execution_count": 84,
     "metadata": {},
     "output_type": "execute_result"
    }
   ],
   "source": [
    "Unscented_Transform(worst_case_perception, [4,5])"
   ]
  },
  {
   "cell_type": "code",
   "execution_count": 85,
   "id": "1222a0b9-2108-49fb-9d24-a6e885ba7f07",
   "metadata": {
    "tags": []
   },
   "outputs": [],
   "source": [
    "def calculate_CVaR(dist, ego_position):\n",
    "    '''\n",
    "    input:\n",
    "    - dist: worst case multivariate normal distribution ([mu_x, Mu_y], [[sigma2_x, 0], [0, sigma2_y]])\n",
    "    - ego_position: ego vehicle's position for loss computation\n",
    "    \n",
    "    '''\n",
    "    loss_mu, loss_sigma = Unscented_Transform(dist, ego_position)\n",
    "    loss_dist = norm(loss_mu, scale=loss_sigma)\n",
    "    \n",
    "    epsilon = 0.95\n",
    "    target_cdf = 0.50\n",
    "    kappa = norm.pdf(norm.ppf(epsilon))/(1-epsilon)\n",
    "    loss_CVaR = loss_mu + kappa * loss_sigma\n",
    "    \n",
    "    return loss_CVaR"
   ]
  },
  {
   "cell_type": "code",
   "execution_count": 86,
   "id": "04cbe75d-dce3-49ca-a6b0-d04894d6c7af",
   "metadata": {
    "tags": []
   },
   "outputs": [
    {
     "name": "stdout",
     "output_type": "stream",
     "text": [
      "torch.Size([1, 2, 2])\n"
     ]
    },
    {
     "data": {
      "text/plain": [
       "tensor([6.0610])"
      ]
     },
     "execution_count": 86,
     "metadata": {},
     "output_type": "execute_result"
    }
   ],
   "source": [
    "calculate_CVaR(worst_case_perception, [4,5])"
   ]
  },
  {
   "cell_type": "markdown",
   "id": "b9b7f3c5-9c65-4597-b75b-7f438e24d20d",
   "metadata": {},
   "source": [
    "# Visualize"
   ]
  },
  {
   "cell_type": "code",
   "execution_count": 109,
   "id": "f7afe3e2-fa01-4cf3-a923-e4031610544c",
   "metadata": {
    "tags": []
   },
   "outputs": [
    {
     "data": {
      "application/vnd.jupyter.widget-view+json": {
       "model_id": "0884b9d310324caf92320054f01f2462",
       "version_major": 2,
       "version_minor": 0
      },
      "text/plain": [
       "interactive(children=(FloatSlider(value=0.0, description='Major Axis (a)', min=-100.0, step=1.0), FloatSlider(…"
      ]
     },
     "metadata": {},
     "output_type": "display_data"
    }
   ],
   "source": [
    "def plot(observation_x, observation_y, ego_x, ego_y):\n",
    "    obstacle = [observation_x, observation_y]\n",
    "    ego_position = [ego_x, ego_y]\n",
    "    fig, ax = plt.subplots()\n",
    "    \n",
    "    # EDL perception\n",
    "    x_params, y_params = perception(model, obstacle)\n",
    "\n",
    "    # make surrogate ambiguity set\n",
    "    x_ambiguity_set = create_surrogate_ambiguity_set(x_params)\n",
    "    y_ambiguity_set = create_surrogate_ambiguity_set(y_params)\n",
    "    \n",
    "    x_mu_low, x_mu_high, _, _ = x_ambiguity_set\n",
    "    y_mu_low, y_mu_high, _, _ = y_ambiguity_set\n",
    "    \n",
    "    vertices = [(x_mu_low, y_mu_low), (x_mu_low, y_mu_high), (x_mu_high, y_mu_high), (x_mu_high, y_mu_low)]\n",
    "    \n",
    "    rectangle = Polygon(vertices, closed=True, color='red')\n",
    "    ax.add_patch(rectangle)\n",
    "\n",
    "    # get DRO solution\n",
    "    x_worst_case_perception = get_DRO_solution(x_ambiguity_set, ego_position[0])\n",
    "    y_worst_case_perception = get_DRO_solution(y_ambiguity_set, ego_position[1])\n",
    "\n",
    "    x_mu, x_sigma2 = x_worst_case_perception\n",
    "    y_mu, y_sigma2 = y_worst_case_perception\n",
    "    worst_case_perception = ([x_mu, y_mu], [[x_sigma2, 0], [0, y_sigma2]])\n",
    "\n",
    "    worst_mu, worst_Sigma = worst_case_perception\n",
    "    \n",
    "    plot_ellipse(worst_mu, worst_Sigma, n_std=2, ax=ax, color='skyblue', fill=False, alpha=1)\n",
    "\n",
    "    CVaR = calculate_CVaR(worst_case_perception, ego_position)\n",
    "    \n",
    "    ax.scatter(observation_x, observation_y, color='b', label='Obstacle vehicle')\n",
    "    ax.scatter(ego_x, ego_y, color='g', label='Ego vehicle')\n",
    "    ax.set_xlim(-100, 100)\n",
    "    ax.set_ylim(-100, 100)\n",
    "    ax.grid(True)\n",
    "    plt.legend()\n",
    "    plt.title(f\"Worst Case CVaR: {CVaR}\")\n",
    "    plt.show()\n",
    "interact(\n",
    "        plot,\n",
    "        observation_x=FloatSlider(min=-100, max=100, step=1, value=0, description='Major Axis (a)'),\n",
    "        observation_y=FloatSlider(min=-100, max=100, step=1, value=0, description='Minor Axis (b)'),\n",
    "        ego_x=FloatSlider(min=-100, max=100, step=1, value=0, description='Minor Axis (b)'),\n",
    "        ego_y=FloatSlider(min=-100, max=100, step=1, value=0, description='Minor Axis (b)'),\n",
    ");"
   ]
  },
  {
   "cell_type": "markdown",
   "id": "27cc2f0d-46e1-4ae4-b4ed-e4ebcdcdecaf",
   "metadata": {},
   "source": [
    "# Heatmap Visualization (like a safe barrier)"
   ]
  },
  {
   "cell_type": "code",
   "execution_count": 145,
   "id": "b6dc61e2-8441-4e41-b81d-47bead877e87",
   "metadata": {
    "tags": []
   },
   "outputs": [
    {
     "data": {
      "application/vnd.jupyter.widget-view+json": {
       "model_id": "1731f758c09841908f0a25f0b2719880",
       "version_major": 2,
       "version_minor": 0
      },
      "text/plain": [
       "interactive(children=(FloatSlider(value=0.0, description='Major Axis (a)', min=-100.0, step=1.0), FloatSlider(…"
      ]
     },
     "metadata": {},
     "output_type": "display_data"
    }
   ],
   "source": [
    "def plot(observation_x, observation_y):\n",
    "    obstacle = [observation_x, observation_y]\n",
    "    fig, ax = plt.subplots()\n",
    "    \n",
    "    # EDL perception\n",
    "    x_params, y_params = perception(model, obstacle)\n",
    "\n",
    "    # make surrogate ambiguity set\n",
    "    x_ambiguity_set = create_surrogate_ambiguity_set(x_params)\n",
    "    y_ambiguity_set = create_surrogate_ambiguity_set(y_params)\n",
    "    \n",
    "    x_mu_low, x_mu_high, _, _ = x_ambiguity_set\n",
    "    y_mu_low, y_mu_high, _, _ = y_ambiguity_set\n",
    "    \n",
    "    vertices = [(x_mu_low, y_mu_low), (x_mu_low, y_mu_high), (x_mu_high, y_mu_high), (x_mu_high, y_mu_low)]\n",
    "    \n",
    "    # rectangle = Polygon(vertices, closed=True, color='pink', alpha=0.1)\n",
    "    # ax.add_patch(rectangle)\n",
    "\n",
    "    grid_N = 100\n",
    "    ego_x_list = np.linspace(-100, 100, grid_N)\n",
    "    ego_y_list = np.linspace(-100, 100, grid_N)\n",
    "    \n",
    "    ego_x_grid, ego_y_grid = np.meshgrid(ego_x_list, ego_y_list)\n",
    "    \n",
    "    ego_list = np.stack([ego_x_grid.flatten(), ego_y_grid.flatten()])\n",
    "    CVaR_heatmap = np.zeros((grid_N, grid_N)).flatten()\n",
    "    for ego_idx, ego_position in enumerate(ego_list.T):\n",
    "        # get DRO solution\n",
    "        x_worst_case_perception = get_DRO_solution(x_ambiguity_set, ego_position[0])\n",
    "        y_worst_case_perception = get_DRO_solution(y_ambiguity_set, ego_position[1])\n",
    "\n",
    "        x_mu, x_sigma2 = x_worst_case_perception\n",
    "        y_mu, y_sigma2 = y_worst_case_perception\n",
    "        worst_case_perception = ([x_mu, y_mu], [[x_sigma2, 0], [0, y_sigma2]])\n",
    "\n",
    "        worst_mu, worst_Sigma = worst_case_perception\n",
    "\n",
    "        # plot_ellipse(worst_mu, worst_Sigma, n_std=2, ax=ax, color='skyblue', fill=False, alpha=1)\n",
    "\n",
    "        CVaR = calculate_CVaR(worst_case_perception, ego_position)\n",
    "        CVaR_heatmap[ego_idx] = CVaR\n",
    "        \n",
    "    CVaR_heatmap = CVaR_heatmap.reshape(grid_N, grid_N)\n",
    "    \n",
    "    ax.scatter(observation_x, observation_y, color='b', label='Obstacle vehicle')\n",
    "    col = ax.imshow(np.flipud(CVaR_heatmap), extent=(-100, 100, -100, 100), cmap='coolwarm')\n",
    "    col.set_clim(-100, 100)\n",
    "    ax.set_xlim(-100, 100)\n",
    "    ax.set_ylim(-100, 100)\n",
    "    ax.grid(True)\n",
    "    fig.colorbar(col)\n",
    "    plt.legend()\n",
    "    plt.title(f\"Worst Case CVaR: {CVaR.item()}\")\n",
    "    plt.show()\n",
    "interact(\n",
    "        plot,\n",
    "        observation_x=FloatSlider(min=-100, max=100, step=1, value=0, description='Major Axis (a)'),\n",
    "        observation_y=FloatSlider(min=-100, max=100, step=1, value=0, description='Minor Axis (b)'),\n",
    ");"
   ]
  },
  {
   "cell_type": "code",
   "execution_count": 147,
   "id": "4ff4e42d-b373-477e-aab1-60008fc720ca",
   "metadata": {
    "tags": []
   },
   "outputs": [
    {
     "data": {
      "text/plain": [
       "1"
      ]
     },
     "execution_count": 147,
     "metadata": {},
     "output_type": "execute_result"
    }
   ],
   "source": [
    "torch.tensor(1).item()"
   ]
  }
 ],
 "metadata": {
  "kernelspec": {
   "display_name": "Python 3 (ipykernel)",
   "language": "python",
   "name": "python3"
  },
  "language_info": {
   "codemirror_mode": {
    "name": "ipython",
    "version": 3
   },
   "file_extension": ".py",
   "mimetype": "text/x-python",
   "name": "python",
   "nbconvert_exporter": "python",
   "pygments_lexer": "ipython3",
   "version": "3.8.10"
  }
 },
 "nbformat": 4,
 "nbformat_minor": 5
}
