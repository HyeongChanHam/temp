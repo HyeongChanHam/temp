{
 "cells": [
  {
   "cell_type": "code",
   "execution_count": 1,
   "id": "21eb058d-217b-442d-81c4-4504d8a84d38",
   "metadata": {
    "tags": []
   },
   "outputs": [
    {
     "name": "stdout",
     "output_type": "stream",
     "text": [
      "/work/DRO-EDL/1d\n",
      "['/usr/lib/python38.zip', '/usr/lib/python3.8', '/usr/lib/python3.8/lib-dynload', '', '/home/opencda/.local/lib/python3.8/site-packages', '/usr/local/lib/python3.8/dist-packages', '/usr/lib/python3/dist-packages']\n"
     ]
    }
   ],
   "source": [
    "!pwd\n",
    "!export PYTHONPATH=$PYTHONPATH:$(pwd)/evidential-learning-pytorch\n",
    "\n",
    "import sys\n",
    "print(sys.path)\n",
    "sys.path.append('/work/DRO-EDL/1d/evidential-learning-pytorch')\n",
    "\n",
    "from tqdm import tqdm\n",
    "from scipy.stats import norm\n",
    "\n",
    "import numpy as np\n",
    "from scipy.stats import norm, invgamma\n",
    "\n",
    "import matplotlib.pyplot as plt\n",
    "from scipy.special import gamma\n",
    "from scipy.optimize import minimize\n",
    "from scipy.integrate import dblquad\n",
    "\n",
    "import torch\n",
    "\n",
    "from torch import nn\n",
    "from torch.utils.data import DataLoader, TensorDataset\n",
    "\n",
    "from edl_pytorch import NormalInvGamma, evidential_regression\n",
    "\n",
    "import torch.optim as optim"
   ]
  },
  {
   "cell_type": "code",
   "execution_count": 12,
   "id": "a3cc5170-c721-49a8-b8af-33f63601e838",
   "metadata": {
    "tags": []
   },
   "outputs": [],
   "source": [
    "def cart2polar(x,y):\n",
    "    r = (x**2 + y**2)**(1/2)\n",
    "    theta = np.arccos(x/r)\n",
    "    return r , theta\n",
    "\n",
    "def polar2cart(r,theta):\n",
    "    x = r*np.cos(theta)\n",
    "    y = r*np.sin(theta)\n",
    "    return x,y"
   ]
  },
  {
   "cell_type": "code",
   "execution_count": 47,
   "id": "ca82dc97-c45b-4920-b988-017e184bfd89",
   "metadata": {
    "tags": []
   },
   "outputs": [
    {
     "data": {
      "text/plain": [
       "<All keys matched successfully>"
      ]
     },
     "execution_count": 47,
     "metadata": {},
     "output_type": "execute_result"
    }
   ],
   "source": [
    "torch.manual_seed(0)\n",
    "\n",
    "model = nn.Sequential(\n",
    "    nn.Linear(2, 64),\n",
    "    nn.ReLU(),\n",
    "    nn.Linear(64, 64),\n",
    "    nn.ReLU(),\n",
    "    nn.Linear(64, 64),\n",
    "    nn.ReLU(),\n",
    "    nn.Linear(64, 64),\n",
    "    nn.ReLU(),\n",
    "    NormalInvGamma(64, 1),\n",
    ")\n",
    "model.load_state_dict(torch.load(f'uncertain_weights/{15}.pth', weights_only=True))\n"
   ]
  },
  {
   "cell_type": "code",
   "execution_count": 48,
   "id": "1c0eb596-e8d5-4434-a2ea-40804a883b85",
   "metadata": {
    "tags": []
   },
   "outputs": [],
   "source": [
    "def NIG_sample(params):\n",
    "    mu_0, lambda_, alpha, beta = params\n",
    "    x_sigma2_dist = invgamma(alpha, scale=beta)\n",
    "    sigma2 = x_sigma2_dist.rvs(1)\n",
    "    x_mu_dist = norm(mu_0, np.sqrt(sigma2 / lambda_))\n",
    "    mu = x_mu_dist.rvs(1)\n",
    "    return np.array([mu[0], sigma2[0]])"
   ]
  },
  {
   "cell_type": "code",
   "execution_count": 71,
   "id": "fcf8f86c-cd2d-4a7e-9550-c9a99ec38723",
   "metadata": {
    "tags": []
   },
   "outputs": [],
   "source": [
    "import pickle\n",
    "a_memory = dict()\n",
    "with open(f'a_memory_set/a_memory_{0.9}.pickle', 'rb') as f:\n",
    "    a_memory = pickle.load(f)"
   ]
  },
  {
   "cell_type": "code",
   "execution_count": 106,
   "id": "248b5c34-e051-4743-a1ce-0c6ed270ebac",
   "metadata": {
    "tags": []
   },
   "outputs": [
    {
     "data": {
      "application/vnd.jupyter.widget-view+json": {
       "model_id": "21a0367d1adc47d9afbd3f1099669b7e",
       "version_major": 2,
       "version_minor": 0
      },
      "text/plain": [
       "interactive(children=(FloatSlider(value=0.0, description='Major Axis (a)', min=-100.0, step=1.0), FloatSlider(…"
      ]
     },
     "metadata": {},
     "output_type": "display_data"
    }
   ],
   "source": [
    "\n",
    "from ipywidgets import interact, FloatSlider\n",
    "\n",
    "def plot(x,y):\n",
    "    plt.figure(figsize=(8,8))\n",
    "    input_data = torch.tensor(cart2polar(*[x,y+1e-6]), dtype=torch.float)\n",
    "    with torch.no_grad():\n",
    "        pred = model(input_data)\n",
    "    params = [pred[0][0], pred[1][0], pred[2][0], pred[3][0]]\n",
    "    print(params)\n",
    "    \n",
    "    # ambiguity set\n",
    "    mu_0, lambda_, alpha, beta = params\n",
    "    zx, zy = a_memory[float(f'{alpha:.02f}')]\n",
    "    delta = zx / np.sqrt(lambda_/beta)\n",
    "    mu_low, mu_high = mu_0 - delta, mu_0 + delta\n",
    "    plt.scatter(params[0], 0, color='r', s=100)\n",
    "    plt.plot([mu_low, mu_high], [0.1,0.1], 'r', marker='o')\n",
    "    \n",
    "    # sampling\n",
    "    for _ in range(100):\n",
    "        dist_params = NIG_sample(params)\n",
    "\n",
    "        mu, sigma2 = dist_params\n",
    "        dist = norm(mu, np.sqrt(sigma2))\n",
    "        l = np.linspace(mu-20, mu+20)\n",
    "        if mu_low < mu and mu < mu_high: # inside ambiguity set\n",
    "            color = 'lime'\n",
    "            alpha = 0.1\n",
    "            label = 'in ambiguity set'\n",
    "        else:\n",
    "            color = 'skyblue'\n",
    "            alpha = 0.8\n",
    "            label = 'out of ambiguity set'\n",
    "        plt.plot(l, dist.pdf(l), color=color, alpha=alpha)\n",
    "\n",
    "    plt.xlim(-100, 100)\n",
    "    plt.ylim(-0.03, 0.8)\n",
    "    plt.show()\n",
    "\n",
    "\n",
    "interact(\n",
    "        plot,\n",
    "        x=FloatSlider(min=-100, max=100, step=1, value=0, description='Major Axis (a)'),\n",
    "        y=FloatSlider(min=-100, max=100, step=1, value=0, description='Major Axis (a)'),\n",
    ");\n"
   ]
  },
  {
   "cell_type": "code",
   "execution_count": 107,
   "id": "5025eb28-a26d-4e83-9925-3c9b91bf5377",
   "metadata": {
    "tags": []
   },
   "outputs": [
    {
     "name": "stderr",
     "output_type": "stream",
     "text": [
      "100%|█████████████████████████████████████████| 200/200 [00:43<00:00,  4.60it/s]\n"
     ]
    }
   ],
   "source": [
    "from tqdm import tqdm\n",
    "from ipywidgets import interact, FloatSlider\n",
    "\n",
    "y = 10\n",
    "for idx, x in enumerate(tqdm(range(100, -100, -1))):\n",
    "    plt.figure(figsize=(8,8))\n",
    "    input_data = torch.tensor(cart2polar(*[x,y+1e-6]), dtype=torch.float)\n",
    "    with torch.no_grad():\n",
    "        pred = model(input_data)\n",
    "    params = [pred[0][0], pred[1][0], pred[2][0], pred[3][0]]\n",
    "\n",
    "    # ambiguity set\n",
    "    mu_0, lambda_, alpha, beta = params\n",
    "    zx, zy = a_memory[float(f'{alpha:.02f}')]\n",
    "    delta = zx / np.sqrt(lambda_/beta)\n",
    "    mu_low, mu_high = mu_0 - delta, mu_0 + delta\n",
    "    plt.scatter(params[0], 0, color='r', s=100, alpha = 0.7, label='Predicted Mean')\n",
    "    plt.scatter(x, 0, color='g', s=100, alpha = 0.7, label='Ground Truth')\n",
    "    plt.plot([mu_low, mu_high], [0.1,0.1], 'r', label='Prediction Range')\n",
    "\n",
    "    # sampling\n",
    "    for sample_idx in range(100):\n",
    "        dist_params = NIG_sample(params)\n",
    "\n",
    "        mu, sigma2 = dist_params\n",
    "        dist = norm(mu, np.sqrt(sigma2))\n",
    "        l = np.linspace(mu-20, mu+20)\n",
    "        if mu_low < mu and mu < mu_high: # inside ambiguity set\n",
    "            color = 'lime'\n",
    "            alpha = 0.1\n",
    "            label = 'in ambiguity set'\n",
    "        else:\n",
    "            color = 'skyblue'\n",
    "            alpha = 0.8\n",
    "            label = 'out of ambiguity set'\n",
    "        \n",
    "        plt.plot(l, dist.pdf(l), color=color, alpha=alpha, label=label)\n",
    "\n",
    "    plt.xlim(-100, 100)\n",
    "    plt.ylim(-0.03, 0.8)\n",
    "    # 중복 제거: handles와 labels 추출 후 고유한 조합으로 필터링\n",
    "    handles, labels = plt.gca().get_legend_handles_labels()\n",
    "    unique_labels = dict(zip(labels, handles))  # 중복 제거\n",
    "\n",
    "    # 고유한 레이블만 포함하는 legend 표시\n",
    "    plt.legend(unique_labels.values(), unique_labels.keys())    \n",
    "    plt.title(\"Ambiguity set sample visualization\")\n",
    "    plt.savefig(f'record/{idx}.png')\n",
    "    plt.close()\n",
    "\n"
   ]
  },
  {
   "cell_type": "code",
   "execution_count": 109,
   "id": "9ce6a793-7218-402e-aeae-af9ae7489c49",
   "metadata": {
    "tags": []
   },
   "outputs": [],
   "source": [
    "from matplotlib.patches import Polygon\n"
   ]
  },
  {
   "cell_type": "code",
   "execution_count": 116,
   "id": "44980684-3476-49bd-b387-ef1912e3bf44",
   "metadata": {
    "tags": []
   },
   "outputs": [
    {
     "data": {
      "image/png": "[encoded data removed]",
      "text/plain": [
       "<Figure size 640x480 with 1 Axes>"
      ]
     },
     "metadata": {},
     "output_type": "display_data"
    }
   ],
   "source": [
    "fig, ax = plt.subplots()\n",
    "vertices = [(1,1), (1,10), (3, 10), (3,1)]\n",
    "\n",
    "ax.add_patch(Polygon(vertices, closed=True, color='red'))\n",
    "ax.set_xlim(0, 10)\n",
    "ax.set_ylim(0, 10)\n",
    "plt.show()"
   ]
  }
 ],
 "metadata": {
  "kernelspec": {
   "display_name": "Python 3 (ipykernel)",
   "language": "python",
   "name": "python3"
  },
  "language_info": {
   "codemirror_mode": {
    "name": "ipython",
    "version": 3
   },
   "file_extension": ".py",
   "mimetype": "text/x-python",
   "name": "python",
   "nbconvert_exporter": "python",
   "pygments_lexer": "ipython3",
   "version": "3.8.10"
  }
 },
 "nbformat": 4,
 "nbformat_minor": 5
}
