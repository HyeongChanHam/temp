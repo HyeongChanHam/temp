{
 "cells": [
  {
   "cell_type": "code",
   "execution_count": 1,
   "id": "21eb058d-217b-442d-81c4-4504d8a84d38",
   "metadata": {
    "tags": []
   },
   "outputs": [
    {
     "name": "stdout",
     "output_type": "stream",
     "text": [
      "/work/DRO-EDL/1d\n",
      "['/usr/lib/python38.zip', '/usr/lib/python3.8', '/usr/lib/python3.8/lib-dynload', '', '/home/opencda/.local/lib/python3.8/site-packages', '/usr/local/lib/python3.8/dist-packages', '/usr/lib/python3/dist-packages']\n"
     ]
    }
   ],
   "source": [
    "!pwd\n",
    "!export PYTHONPATH=$PYTHONPATH:$(pwd)/evidential-learning-pytorch\n",
    "\n",
    "import sys\n",
    "print(sys.path)\n",
    "sys.path.append('/work/DRO-EDL/1d/evidential-learning-pytorch')\n",
    "\n",
    "from tqdm import tqdm\n",
    "from scipy.stats import norm\n",
    "\n",
    "import numpy as np\n",
    "from scipy.stats import norm, invgamma\n",
    "\n",
    "import matplotlib.pyplot as plt\n",
    "from scipy.special import gamma\n",
    "from scipy.optimize import minimize\n",
    "from scipy.integrate import dblquad\n",
    "\n",
    "import torch\n",
    "\n",
    "from torch import nn\n",
    "from torch.utils.data import DataLoader, TensorDataset\n",
    "\n",
    "from edl_pytorch import NormalInvGamma, evidential_regression\n",
    "\n",
    "import torch.optim as optim"
   ]
  },
  {
   "cell_type": "code",
   "execution_count": 2,
   "id": "a3cc5170-c721-49a8-b8af-33f63601e838",
   "metadata": {
    "tags": []
   },
   "outputs": [],
   "source": [
    "def cart2polar(x,y):\n",
    "    r = (x**2 + y**2)**(1/2)\n",
    "    theta = np.arccos(x/r)\n",
    "    return r , theta\n",
    "\n",
    "def polar2cart(r,theta):\n",
    "    x = r*np.cos(theta)\n",
    "    y = r*np.sin(theta)\n",
    "    return x,y"
   ]
  },
  {
   "cell_type": "code",
   "execution_count": 3,
   "id": "ca82dc97-c45b-4920-b988-017e184bfd89",
   "metadata": {
    "tags": []
   },
   "outputs": [
    {
     "data": {
      "text/plain": [
       "<All keys matched successfully>"
      ]
     },
     "execution_count": 3,
     "metadata": {},
     "output_type": "execute_result"
    }
   ],
   "source": [
    "torch.manual_seed(0)\n",
    "\n",
    "model = nn.Sequential(\n",
    "    nn.Linear(2, 64),\n",
    "    nn.ReLU(),\n",
    "    nn.Linear(64, 64),\n",
    "    nn.ReLU(),\n",
    "    nn.Linear(64, 64),\n",
    "    nn.ReLU(),\n",
    "    nn.Linear(64, 64),\n",
    "    nn.ReLU(),\n",
    "    NormalInvGamma(64, 1),\n",
    ")\n",
    "model.load_state_dict(torch.load(f'uncertain_weights/{15}.pth', weights_only=True))\n"
   ]
  },
  {
   "cell_type": "code",
   "execution_count": 4,
   "id": "1c0eb596-e8d5-4434-a2ea-40804a883b85",
   "metadata": {
    "tags": []
   },
   "outputs": [],
   "source": [
    "def NIG_sample(params):\n",
    "    mu_0, lambda_, alpha, beta = params\n",
    "    x_sigma2_dist = invgamma(alpha, scale=beta)\n",
    "    sigma2 = x_sigma2_dist.rvs(1)\n",
    "    x_mu_dist = norm(mu_0, np.sqrt(sigma2 / lambda_))\n",
    "    mu = x_mu_dist.rvs(1)\n",
    "    return np.array([mu[0], sigma2[0]])"
   ]
  },
  {
   "cell_type": "code",
   "execution_count": 5,
   "id": "fcf8f86c-cd2d-4a7e-9550-c9a99ec38723",
   "metadata": {
    "tags": []
   },
   "outputs": [],
   "source": [
    "import pickle\n",
    "a_memory = dict()\n",
    "with open(f'a_memory_set/a_memory_{0.9}.pickle', 'rb') as f:\n",
    "    a_memory = pickle.load(f)"
   ]
  },
  {
   "cell_type": "code",
   "execution_count": 6,
   "id": "248b5c34-e051-4743-a1ce-0c6ed270ebac",
   "metadata": {
    "tags": []
   },
   "outputs": [
    {
     "data": {
      "application/vnd.jupyter.widget-view+json": {
       "model_id": "f5d9e0b601324a92867911c6c5ea5f4f",
       "version_major": 2,
       "version_minor": 0
      },
      "text/plain": [
       "interactive(children=(FloatSlider(value=0.0, description='Major Axis (a)', min=-100.0, step=1.0), FloatSlider(…"
      ]
     },
     "metadata": {},
     "output_type": "display_data"
    }
   ],
   "source": [
    "\n",
    "from ipywidgets import interact, FloatSlider\n",
    "\n",
    "def plot(x,y):\n",
    "    plt.figure(figsize=(8,8))\n",
    "    input_data = torch.tensor(cart2polar(*[x,y+1e-6]), dtype=torch.float)\n",
    "    with torch.no_grad():\n",
    "        pred = model(input_data)\n",
    "    params = [pred[0][0], pred[1][0], pred[2][0], pred[3][0]]\n",
    "    print(params)\n",
    "    \n",
    "    # ambiguity set\n",
    "    mu_0, lambda_, alpha, beta = params\n",
    "    zx, zy = a_memory[float(f'{alpha:.02f}')]\n",
    "    delta = zx / np.sqrt(lambda_/beta)\n",
    "    mu_low, mu_high = mu_0 - delta, mu_0 + delta\n",
    "    plt.scatter(params[0], 0, color='r', s=100)\n",
    "    plt.plot([mu_low, mu_high], [0.1,0.1], 'r', marker='o')\n",
    "    \n",
    "    # sampling\n",
    "    for _ in range(100):\n",
    "        dist_params = NIG_sample(params)\n",
    "\n",
    "        mu, sigma2 = dist_params\n",
    "        dist = norm(mu, np.sqrt(sigma2))\n",
    "        l = np.linspace(mu-20, mu+20)\n",
    "        if mu_low < mu and mu < mu_high: # inside ambiguity set\n",
    "            color = 'lime'\n",
    "            alpha = 0.1\n",
    "            label = 'in ambiguity set'\n",
    "        else:\n",
    "            color = 'skyblue'\n",
    "            alpha = 0.8\n",
    "            label = 'out of ambiguity set'\n",
    "        plt.plot(l, dist.pdf(l), color=color, alpha=alpha)\n",
    "\n",
    "    plt.xlim(-100, 100)\n",
    "    plt.ylim(-0.03, 0.8)\n",
    "    plt.show()\n",
    "\n",
    "\n",
    "interact(\n",
    "        plot,\n",
    "        x=FloatSlider(min=-100, max=100, step=1, value=0, description='Major Axis (a)'),\n",
    "        y=FloatSlider(min=-100, max=100, step=1, value=0, description='Major Axis (a)'),\n",
    ");\n"
   ]
  },
  {
   "cell_type": "code",
   "execution_count": 7,
   "id": "5025eb28-a26d-4e83-9925-3c9b91bf5377",
   "metadata": {
    "tags": []
   },
   "outputs": [
    {
     "name": "stderr",
     "output_type": "stream",
     "text": [
      " 16%|██████▌                                   | 31/200 [00:06<00:35,  4.72it/s]\n",
      "\n",
      "KeyboardInterrupt\n",
      "\n"
     ]
    },
    {
     "data": {
      "image/png": "[encoded data removed]",
      "text/plain": [
       "<Figure size 800x800 with 1 Axes>"
      ]
     },
     "metadata": {},
     "output_type": "display_data"
    }
   ],
   "source": [
    "from tqdm import tqdm\n",
    "from ipywidgets import interact, FloatSlider\n",
    "\n",
    "y = 10\n",
    "for idx, x in enumerate(tqdm(range(100, -100, -1))):\n",
    "    plt.figure(figsize=(8,8))\n",
    "    input_data = torch.tensor(cart2polar(*[x,y+1e-6]), dtype=torch.float)\n",
    "    with torch.no_grad():\n",
    "        pred = model(input_data)\n",
    "    params = [pred[0][0], pred[1][0], pred[2][0], pred[3][0]]\n",
    "\n",
    "    # ambiguity set\n",
    "    mu_0, lambda_, alpha, beta = params\n",
    "    zx, zy = a_memory[float(f'{alpha:.02f}')]\n",
    "    delta = zx / np.sqrt(lambda_/beta)\n",
    "    mu_low, mu_high = mu_0 - delta, mu_0 + delta\n",
    "    plt.scatter(params[0], 0, color='r', s=100, alpha = 0.7, label='Predicted Mean')\n",
    "    plt.scatter(x, 0, color='g', s=100, alpha = 0.7, label='Ground Truth')\n",
    "    plt.plot([mu_low, mu_high], [0.1,0.1], 'r', label='Prediction Range')\n",
    "\n",
    "    # sampling\n",
    "    for sample_idx in range(100):\n",
    "        dist_params = NIG_sample(params)\n",
    "\n",
    "        mu, sigma2 = dist_params\n",
    "        dist = norm(mu, np.sqrt(sigma2))\n",
    "        l = np.linspace(mu-20, mu+20)\n",
    "        if mu_low < mu and mu < mu_high: # inside ambiguity set\n",
    "            color = 'lime'\n",
    "            alpha = 0.1\n",
    "            label = 'in ambiguity set'\n",
    "        else:\n",
    "            color = 'skyblue'\n",
    "            alpha = 0.8\n",
    "            label = 'out of ambiguity set'\n",
    "        \n",
    "        plt.plot(l, dist.pdf(l), color=color, alpha=alpha, label=label)\n",
    "\n",
    "    plt.xlim(-100, 100)\n",
    "    plt.ylim(-0.03, 0.8)\n",
    "    # 중복 제거: handles와 labels 추출 후 고유한 조합으로 필터링\n",
    "    handles, labels = plt.gca().get_legend_handles_labels()\n",
    "    unique_labels = dict(zip(labels, handles))  # 중복 제거\n",
    "\n",
    "    # 고유한 레이블만 포함하는 legend 표시\n",
    "    plt.legend(unique_labels.values(), unique_labels.keys())    \n",
    "    plt.title(\"Ambiguity set sample visualization\")\n",
    "    plt.savefig(f'record/{idx}.png')\n",
    "    plt.close()\n",
    "\n"
   ]
  },
  {
   "cell_type": "code",
   "execution_count": 109,
   "id": "9ce6a793-7218-402e-aeae-af9ae7489c49",
   "metadata": {
    "tags": []
   },
   "outputs": [],
   "source": [
    "from matplotlib.patches import Polygon\n"
   ]
  },
  {
   "cell_type": "code",
   "execution_count": 116,
   "id": "44980684-3476-49bd-b387-ef1912e3bf44",
   "metadata": {
    "tags": []
   },
   "outputs": [
    {
     "data": {
      "image/png": "[encoded data removed]",
      "text/plain": [
       "<Figure size 640x480 with 1 Axes>"
      ]
     },
     "metadata": {},
     "output_type": "display_data"
    }
   ],
   "source": [
    "fig, ax = plt.subplots()\n",
    "vertices = [(1,1), (1,10), (3, 10), (3,1)]\n",
    "\n",
    "ax.add_patch(Polygon(vertices, closed=True, color='red'))\n",
    "ax.set_xlim(0, 10)\n",
    "ax.set_ylim(0, 10)\n",
    "plt.show()"
   ]
  },
  {
   "cell_type": "code",
   "execution_count": null,
   "id": "f7b44a26-4e9a-4af7-b2f1-0227011dcb48",
   "metadata": {},
   "outputs": [],
   "source": []
  },
  {
   "cell_type": "markdown",
   "id": "2ba77ff0-4d77-4656-9ac1-af130e7b106b",
   "metadata": {},
   "source": [
    "# sigma analysis"
   ]
  },
  {
   "cell_type": "code",
   "execution_count": 29,
   "id": "ad16ca1c-e164-43f5-a899-440aa1e5d3f9",
   "metadata": {
    "tags": []
   },
   "outputs": [],
   "source": [
    "import matplotlib.pyplot as plt\n",
    "import numpy as np\n",
    "from scipy.stats import norm, foldnorm"
   ]
  },
  {
   "cell_type": "code",
   "execution_count": 53,
   "id": "919b43ff-b2f9-4e5c-94ac-3c345df525ea",
   "metadata": {
    "tags": []
   },
   "outputs": [
    {
     "data": {
      "image/png": "[encoded data removed]",
      "text/plain": [
       "<Figure size 1600x800 with 2 Axes>"
      ]
     },
     "metadata": {},
     "output_type": "display_data"
    }
   ],
   "source": [
    "l = np.linspace(-20, 20, 100)\n",
    "mu = 12\n",
    "sigma = 2\n",
    "dist = norm(mu, sigma)\n",
    "fig, ax = plt.subplots(1,2, figsize=(16, 8))\n",
    "\n",
    "ax[0].plot(l, dist.pdf(l))\n",
    "\n",
    "point = 7\n",
    "ax[0].scatter(point, 0, c='r')\n",
    "ax[0].set_title('overall figure')\n",
    "ax[0].grid(True)\n",
    "\n",
    "# difference distribution\n",
    "diff_mu = mu - point\n",
    "diff_sigma = sigma\n",
    "abs_dist = foldnorm(c=diff_mu / diff_sigma, scale=diff_sigma)\n",
    "ax[1].plot(l, abs_dist.pdf(l))\n",
    "ax[1].set_title('d distribution')\n",
    "ax[1].grid(True)\n",
    "plt.show()"
   ]
  },
  {
   "cell_type": "code",
   "execution_count": 78,
   "id": "72eb3c8e-af89-4dbe-904e-ad412a22f671",
   "metadata": {
    "tags": []
   },
   "outputs": [
    {
     "data": {
      "text/plain": [
       "3.0000000000000004"
      ]
     },
     "execution_count": 78,
     "metadata": {},
     "output_type": "execute_result"
    }
   ],
   "source": [
    "kappa"
   ]
  },
  {
   "cell_type": "code",
   "execution_count": 87,
   "id": "b69c0979-f473-4814-b6e5-266cc5a69b1b",
   "metadata": {
    "tags": []
   },
   "outputs": [
    {
     "data": {
      "application/vnd.jupyter.widget-view+json": {
       "model_id": "a4570c5434d540858c345a4e15256a66",
       "version_major": 2,
       "version_minor": 0
      },
      "text/plain": [
       "interactive(children=(IntSlider(value=0, description='Major Axis (a)', max=20, min=-20), Output()), _dom_class…"
      ]
     },
     "metadata": {},
     "output_type": "display_data"
    }
   ],
   "source": [
    "from ipywidgets import interact, IntSlider\n",
    "epsilon = 0.1\n",
    "kappa = np.sqrt(epsilon / (1-epsilon))\n",
    "def plot(x):\n",
    "    l = np.linspace(-20, 20, 100)\n",
    "    mu = 12\n",
    "    sigma = 2\n",
    "    dist = norm(mu, sigma)\n",
    "    fig, ax = plt.subplots(1,2, figsize=(16, 8))\n",
    "\n",
    "    ax[0].plot(l, dist.pdf(l))\n",
    "\n",
    "    point = x\n",
    "    ax[0].scatter(point, 0, c='r')\n",
    "    ax[0].set_title('overall figure')\n",
    "    ax[0].grid(True)\n",
    "    ax[0].set_ylim(0, 0.5)\n",
    "\n",
    "    # difference distribution\n",
    "    diff_mu = abs(mu - point)\n",
    "    diff_sigma = sigma\n",
    "    abs_dist = foldnorm(c=diff_mu / diff_sigma, scale=diff_sigma)\n",
    "    mean, var = abs_dist.stats()\n",
    "    std = np.sqrt(var)\n",
    "    print(mean, std)\n",
    "    CVaR = mean - kappa * std\n",
    "    ax[1].plot(-l, abs_dist.pdf(l))\n",
    "    ax[1].axvline(x=-CVaR, color='r', linestyle='--', label=f'CVaR: {-CVaR}')\n",
    "    ax[1].set_title('d distribution')\n",
    "    ax[1].grid(True)\n",
    "    ax[1].set_xlim(-20, 20)\n",
    "    ax[1].set_ylim(0, 0.5)\n",
    "    plt.legend()\n",
    "    plt.show()\n",
    "interact(\n",
    "        plot,\n",
    "        x=IntSlider(min=-20, max=20, step=1, value=0, description='Major Axis (a)'),\n",
    ");"
   ]
  },
  {
   "cell_type": "code",
   "execution_count": 160,
   "id": "74f5b1ef-33ff-4936-888a-6de685d4ada4",
   "metadata": {
    "tags": []
   },
   "outputs": [],
   "source": [
    "for fig_idx, point in enumerate(range(0, 100)):\n",
    "    point = point / 5\n",
    "    mu_list = np.linspace(8, 10, 100)\n",
    "    sigma_list = np.linspace(0.4, 3, 100)\n",
    "\n",
    "    mu_grid, sigma_grid = np.meshgrid(mu_list, sigma_list)\n",
    "    params = np.stack([mu_grid.flatten(), sigma_grid.flatten()])\n",
    "\n",
    "    CVaR_values = np.zeros([100, 100]).flatten()\n",
    "    # params.shape\n",
    "    for idx, (mu, sigma) in enumerate(params.T):\n",
    "        diff_mu = abs(mu - point)\n",
    "        diff_sigma = sigma\n",
    "        d_dist = foldnorm(diff_mu / diff_sigma, scale=diff_sigma)\n",
    "        mean, std = d_dist.stats()\n",
    "        epsilon = 0.1\n",
    "        kappa = np.sqrt(epsilon / (1-epsilon))\n",
    "        CVaR = -mean + kappa * std\n",
    "        CVaR_values[idx] = CVaR\n",
    "\n",
    "    CVaR_values = CVaR_values.reshape(100, 100)\n",
    "    \n",
    "    fig, ax = plt.subplots(1,2, figsize=(16, 8))\n",
    "\n",
    "    highlight_mu, highlight_sigma = params[:,CVaR_values.argmax()]\n",
    "    dist = norm(highlight_mu, highlight_sigma)\n",
    "    l = np.linspace(-20, 20, 100)\n",
    "    \n",
    "    for i in range(100):\n",
    "        ax[0].plot(l, norm(mu_samples[i], sigma_samples[i]).pdf(l), color='skyblue', alpha=0.1)\n",
    "    ax[0].plot(l, dist.pdf(l))\n",
    "    ax[0].scatter(point, 0, c='r')\n",
    "    ax[0].set_ylim(0, 1)\n",
    "    ax[0].set_ylabel('probability of the obstacle distribution')\n",
    "    ax[0].set_xlabel('position')\n",
    "    ax[0].set_title('Ego position and obstacle distribution')\n",
    "    \n",
    "    cax = ax[1].imshow(CVaR_values)\n",
    "    # cax.set_clim(-10, 0)\n",
    "    ax[1].invert_yaxis()\n",
    "    ax[1].set_title('ambiguity set')\n",
    "    ax[1].set_xlabel('mu')\n",
    "    ax[1].set_ylabel('sigma')\n",
    "    fig.colorbar(cax)\n",
    "    plt.axis('off')\n",
    "    plt.savefig(f'heatmap_record/{fig_idx}.png')\n",
    "    plt.close()"
   ]
  },
  {
   "cell_type": "code",
   "execution_count": 172,
   "id": "c66cfe22-b44c-4c78-b2b4-7f8162cbf0a7",
   "metadata": {
    "tags": []
   },
   "outputs": [
    {
     "name": "stderr",
     "output_type": "stream",
     "text": [
      "100it [04:02,  2.42s/it]\n"
     ]
    },
    {
     "data": {
      "image/png": "[encoded data removed]",
      "text/plain": [
       "<Figure size 640x480 with 1 Axes>"
      ]
     },
     "metadata": {},
     "output_type": "display_data"
    }
   ],
   "source": [
    "from tqdm import tqdm\n",
    "param_list = list()\n",
    "for fig_idx, point in tqdm(enumerate(range(0, 100))):\n",
    "    point = point / 5\n",
    "    mu_list = np.linspace(8, 10, 100)\n",
    "    sigma_list = np.linspace(0.4, 3, 100)\n",
    "\n",
    "    mu_grid, sigma_grid = np.meshgrid(mu_list, sigma_list)\n",
    "    params = np.stack([mu_grid.flatten(), sigma_grid.flatten()])\n",
    "\n",
    "    CVaR_values = np.zeros([100, 100]).flatten()\n",
    "    # params.shape\n",
    "    for idx, (mu, sigma) in enumerate(params.T):\n",
    "        diff_mu = abs(mu - point)\n",
    "        diff_sigma = sigma\n",
    "        d_dist = foldnorm(diff_mu / diff_sigma, scale=diff_sigma)\n",
    "        mean, std = d_dist.stats()\n",
    "        epsilon = 0.1\n",
    "        kappa = np.sqrt(epsilon / (1-epsilon))\n",
    "        CVaR = -mean + kappa * std\n",
    "        CVaR_values[idx] = CVaR\n",
    "\n",
    "    CVaR_values = CVaR_values.reshape(100, 100)\n",
    "    \n",
    "\n",
    "    highlight_mu, highlight_sigma = params[:,CVaR_values.argmax()]\n",
    "    param_list.append([point, highlight_sigma])\n",
    "    \n",
    "\n",
    "param_list = np.array(param_list)\n",
    "plt.plot(param_list[:,0], param_list[:,1])\n",
    "plt.title(\"sigma plot\")\n",
    "plt.show()"
   ]
  },
  {
   "cell_type": "code",
   "execution_count": 175,
   "id": "fce2d15a-147a-4b7e-9860-5db11f6f9a4d",
   "metadata": {
    "tags": []
   },
   "outputs": [
    {
     "name": "stderr",
     "output_type": "stream",
     "text": [
      "100it [04:00,  2.40s/it]\n"
     ]
    },
    {
     "data": {
      "image/png": "[encoded data removed]",
      "text/plain": [
       "<Figure size 640x480 with 1 Axes>"
      ]
     },
     "metadata": {},
     "output_type": "display_data"
    }
   ],
   "source": [
    "from tqdm import tqdm\n",
    "param_list = list()\n",
    "for fig_idx, point in tqdm(enumerate(range(0, 100))):\n",
    "    point = point / 5\n",
    "    mu_list = np.linspace(8, 10, 100)\n",
    "    sigma_list = np.linspace(0.4, 6, 100)\n",
    "\n",
    "    mu_grid, sigma_grid = np.meshgrid(mu_list, sigma_list)\n",
    "    params = np.stack([mu_grid.flatten(), sigma_grid.flatten()])\n",
    "\n",
    "    CVaR_values = np.zeros([100, 100]).flatten()\n",
    "    # params.shape\n",
    "    for idx, (mu, sigma) in enumerate(params.T):\n",
    "        diff_mu = abs(mu - point)\n",
    "        diff_sigma = sigma\n",
    "        d_dist = foldnorm(diff_mu / diff_sigma, scale=diff_sigma)\n",
    "        mean, std = d_dist.stats()\n",
    "        epsilon = 0.1\n",
    "        kappa = np.sqrt(epsilon / (1-epsilon))\n",
    "        CVaR = -mean + kappa * std\n",
    "        CVaR_values[idx] = CVaR\n",
    "\n",
    "    CVaR_values = CVaR_values.reshape(100, 100)\n",
    "    \n",
    "\n",
    "    highlight_mu, highlight_sigma = params[:,CVaR_values.argmax()]\n",
    "    param_list.append([point, highlight_sigma])\n",
    "    \n",
    "\n",
    "param_list = np.array(param_list)\n",
    "plt.plot(param_list[:,0], param_list[:,1])\n",
    "plt.title(\"sigma plot\")\n",
    "plt.show()"
   ]
  },
  {
   "cell_type": "code",
   "execution_count": 174,
   "id": "f99f8873-7f48-4d37-8f02-40198040705c",
   "metadata": {
    "tags": []
   },
   "outputs": [
    {
     "data": {
      "text/plain": [
       "array([[ 0.        ,  3.        ],\n",
       "       [ 0.2       ,  3.        ],\n",
       "       [ 0.4       ,  3.        ],\n",
       "       [ 0.6       ,  3.        ],\n",
       "       [ 0.8       ,  3.        ],\n",
       "       [ 1.        ,  3.        ],\n",
       "       [ 1.2       ,  3.        ],\n",
       "       [ 1.4       ,  3.        ],\n",
       "       [ 1.6       ,  3.        ],\n",
       "       [ 1.8       ,  3.        ],\n",
       "       [ 2.        ,  3.        ],\n",
       "       [ 2.2       ,  3.        ],\n",
       "       [ 2.4       ,  3.        ],\n",
       "       [ 2.6       ,  3.        ],\n",
       "       [ 2.8       ,  3.        ],\n",
       "       [ 3.        ,  3.        ],\n",
       "       [ 3.2       ,  3.        ],\n",
       "       [ 3.4       ,  3.        ],\n",
       "       [ 3.6       ,  3.        ],\n",
       "       [ 3.8       ,  3.        ],\n",
       "       [ 4.        ,  3.        ],\n",
       "       [ 4.2       ,  3.        ],\n",
       "       [ 4.4       ,  3.        ],\n",
       "       [ 4.6       ,  3.        ],\n",
       "       [ 4.8       ,  3.        ],\n",
       "       [ 5.        ,  3.        ],\n",
       "       [ 5.2       ,  3.        ],\n",
       "       [ 5.4       ,  3.        ],\n",
       "       [ 5.6       ,  3.        ],\n",
       "       [ 5.8       ,  3.        ],\n",
       "       [ 6.        ,  3.        ],\n",
       "       [ 6.2       ,  3.        ],\n",
       "       [ 6.4       ,  1.5030303 ],\n",
       "       [ 6.6       ,  1.16161616],\n",
       "       [ 6.8       ,  0.8989899 ],\n",
       "       [ 7.        ,  0.66262626],\n",
       "       [ 7.2       ,  0.47878788],\n",
       "       [ 7.4       ,  0.4       ],\n",
       "       [ 7.6       ,  0.4       ],\n",
       "       [ 7.8       ,  0.4       ],\n",
       "       [ 8.        ,  0.4       ],\n",
       "       [ 8.2       ,  0.4       ],\n",
       "       [ 8.4       ,  0.4       ],\n",
       "       [ 8.6       ,  0.4       ],\n",
       "       [ 8.8       ,  0.4       ],\n",
       "       [ 9.        ,  0.4       ],\n",
       "       [ 9.2       ,  0.4       ],\n",
       "       [ 9.4       ,  0.4       ],\n",
       "       [ 9.6       ,  0.4       ],\n",
       "       [ 9.8       ,  0.4       ],\n",
       "       [10.        ,  0.4       ],\n",
       "       [10.2       ,  0.4       ],\n",
       "       [10.4       ,  0.4       ],\n",
       "       [10.6       ,  0.4       ],\n",
       "       [10.8       ,  0.47878788],\n",
       "       [11.        ,  0.66262626],\n",
       "       [11.2       ,  0.8989899 ],\n",
       "       [11.4       ,  1.16161616],\n",
       "       [11.6       ,  1.5030303 ],\n",
       "       [11.8       ,  3.        ],\n",
       "       [12.        ,  3.        ],\n",
       "       [12.2       ,  3.        ],\n",
       "       [12.4       ,  3.        ],\n",
       "       [12.6       ,  3.        ],\n",
       "       [12.8       ,  3.        ],\n",
       "       [13.        ,  3.        ],\n",
       "       [13.2       ,  3.        ],\n",
       "       [13.4       ,  3.        ],\n",
       "       [13.6       ,  3.        ],\n",
       "       [13.8       ,  3.        ],\n",
       "       [14.        ,  3.        ],\n",
       "       [14.2       ,  3.        ],\n",
       "       [14.4       ,  3.        ],\n",
       "       [14.6       ,  3.        ],\n",
       "       [14.8       ,  3.        ],\n",
       "       [15.        ,  3.        ],\n",
       "       [15.2       ,  3.        ],\n",
       "       [15.4       ,  3.        ],\n",
       "       [15.6       ,  3.        ],\n",
       "       [15.8       ,  3.        ],\n",
       "       [16.        ,  3.        ],\n",
       "       [16.2       ,  3.        ],\n",
       "       [16.4       ,  3.        ],\n",
       "       [16.6       ,  3.        ],\n",
       "       [16.8       ,  3.        ],\n",
       "       [17.        ,  3.        ],\n",
       "       [17.2       ,  3.        ],\n",
       "       [17.4       ,  3.        ],\n",
       "       [17.6       ,  3.        ],\n",
       "       [17.8       ,  3.        ],\n",
       "       [18.        ,  3.        ],\n",
       "       [18.2       ,  3.        ],\n",
       "       [18.4       ,  3.        ],\n",
       "       [18.6       ,  3.        ],\n",
       "       [18.8       ,  3.        ],\n",
       "       [19.        ,  3.        ],\n",
       "       [19.2       ,  3.        ],\n",
       "       [19.4       ,  3.        ],\n",
       "       [19.6       ,  3.        ],\n",
       "       [19.8       ,  3.        ]])"
      ]
     },
     "execution_count": 174,
     "metadata": {},
     "output_type": "execute_result"
    }
   ],
   "source": [
    "param_list"
   ]
  },
  {
   "cell_type": "code",
   "execution_count": 176,
   "id": "ec301487-b374-4643-aa5a-a2290baf153b",
   "metadata": {
    "tags": []
   },
   "outputs": [
    {
     "data": {
      "text/plain": [
       "array([[ 0. ,  6. ],\n",
       "       [ 0.2,  6. ],\n",
       "       [ 0.4,  6. ],\n",
       "       [ 0.6,  6. ],\n",
       "       [ 0.8,  6. ],\n",
       "       [ 1. ,  6. ],\n",
       "       [ 1.2,  6. ],\n",
       "       [ 1.4,  6. ],\n",
       "       [ 1.6,  6. ],\n",
       "       [ 1.8,  6. ],\n",
       "       [ 2. ,  6. ],\n",
       "       [ 2.2,  6. ],\n",
       "       [ 2.4,  6. ],\n",
       "       [ 2.6,  6. ],\n",
       "       [ 2.8,  6. ],\n",
       "       [ 3. ,  6. ],\n",
       "       [ 3.2,  6. ],\n",
       "       [ 3.4,  6. ],\n",
       "       [ 3.6,  6. ],\n",
       "       [ 3.8,  6. ],\n",
       "       [ 4. ,  6. ],\n",
       "       [ 4.2,  6. ],\n",
       "       [ 4.4,  6. ],\n",
       "       [ 4.6,  6. ],\n",
       "       [ 4.8,  6. ],\n",
       "       [ 5. ,  6. ],\n",
       "       [ 5.2,  6. ],\n",
       "       [ 5.4,  6. ],\n",
       "       [ 5.6,  6. ],\n",
       "       [ 5.8,  6. ],\n",
       "       [ 6. ,  6. ],\n",
       "       [ 6.2,  6. ],\n",
       "       [ 6.4,  6. ],\n",
       "       [ 6.6,  6. ],\n",
       "       [ 6.8,  6. ],\n",
       "       [ 7. ,  6. ],\n",
       "       [ 7.2,  6. ],\n",
       "       [ 7.4,  6. ],\n",
       "       [ 7.6,  6. ],\n",
       "       [ 7.8,  6. ],\n",
       "       [ 8. ,  6. ],\n",
       "       [ 8.2,  6. ],\n",
       "       [ 8.4,  6. ],\n",
       "       [ 8.6,  0.4],\n",
       "       [ 8.8,  0.4],\n",
       "       [ 9. ,  0.4],\n",
       "       [ 9.2,  0.4],\n",
       "       [ 9.4,  0.4],\n",
       "       [ 9.6,  6. ],\n",
       "       [ 9.8,  6. ],\n",
       "       [10. ,  6. ],\n",
       "       [10.2,  6. ],\n",
       "       [10.4,  6. ],\n",
       "       [10.6,  6. ],\n",
       "       [10.8,  6. ],\n",
       "       [11. ,  6. ],\n",
       "       [11.2,  6. ],\n",
       "       [11.4,  6. ],\n",
       "       [11.6,  6. ],\n",
       "       [11.8,  6. ],\n",
       "       [12. ,  6. ],\n",
       "       [12.2,  6. ],\n",
       "       [12.4,  6. ],\n",
       "       [12.6,  6. ],\n",
       "       [12.8,  6. ],\n",
       "       [13. ,  6. ],\n",
       "       [13.2,  6. ],\n",
       "       [13.4,  6. ],\n",
       "       [13.6,  6. ],\n",
       "       [13.8,  6. ],\n",
       "       [14. ,  6. ],\n",
       "       [14.2,  6. ],\n",
       "       [14.4,  6. ],\n",
       "       [14.6,  6. ],\n",
       "       [14.8,  6. ],\n",
       "       [15. ,  6. ],\n",
       "       [15.2,  6. ],\n",
       "       [15.4,  6. ],\n",
       "       [15.6,  6. ],\n",
       "       [15.8,  6. ],\n",
       "       [16. ,  6. ],\n",
       "       [16.2,  6. ],\n",
       "       [16.4,  6. ],\n",
       "       [16.6,  6. ],\n",
       "       [16.8,  6. ],\n",
       "       [17. ,  6. ],\n",
       "       [17.2,  6. ],\n",
       "       [17.4,  6. ],\n",
       "       [17.6,  6. ],\n",
       "       [17.8,  6. ],\n",
       "       [18. ,  6. ],\n",
       "       [18.2,  6. ],\n",
       "       [18.4,  6. ],\n",
       "       [18.6,  6. ],\n",
       "       [18.8,  6. ],\n",
       "       [19. ,  6. ],\n",
       "       [19.2,  6. ],\n",
       "       [19.4,  6. ],\n",
       "       [19.6,  6. ],\n",
       "       [19.8,  6. ]])"
      ]
     },
     "execution_count": 176,
     "metadata": {},
     "output_type": "execute_result"
    }
   ],
   "source": [
    "param_list"
   ]
  },
  {
   "cell_type": "code",
   "execution_count": 177,
   "id": "dfd44e2d-3ab6-4f5a-945c-ceb824274868",
   "metadata": {
    "tags": []
   },
   "outputs": [
    {
     "name": "stderr",
     "output_type": "stream",
     "text": [
      "100it [04:04,  2.44s/it]\n"
     ]
    },
    {
     "data": {
      "image/png": "[encoded data removed]",
      "text/plain": [
       "<Figure size 640x480 with 1 Axes>"
      ]
     },
     "metadata": {},
     "output_type": "display_data"
    }
   ],
   "source": [
    "from tqdm import tqdm\n",
    "param_list = list()\n",
    "for fig_idx, point in tqdm(enumerate(range(0, 100))):\n",
    "    point = point / 5\n",
    "    mu_list = np.linspace(8, 10, 100)\n",
    "    sigma_list = np.linspace(0.4, 1, 100)\n",
    "\n",
    "    mu_grid, sigma_grid = np.meshgrid(mu_list, sigma_list)\n",
    "    params = np.stack([mu_grid.flatten(), sigma_grid.flatten()])\n",
    "\n",
    "    CVaR_values = np.zeros([100, 100]).flatten()\n",
    "    # params.shape\n",
    "    for idx, (mu, sigma) in enumerate(params.T):\n",
    "        diff_mu = abs(mu - point)\n",
    "        diff_sigma = sigma\n",
    "        d_dist = foldnorm(diff_mu / diff_sigma, scale=diff_sigma)\n",
    "        mean, std = d_dist.stats()\n",
    "        epsilon = 0.1\n",
    "        kappa = np.sqrt(epsilon / (1-epsilon))\n",
    "        CVaR = -mean + kappa * std\n",
    "        CVaR_values[idx] = CVaR\n",
    "\n",
    "    CVaR_values = CVaR_values.reshape(100, 100)\n",
    "    \n",
    "\n",
    "    highlight_mu, highlight_sigma = params[:,CVaR_values.argmax()]\n",
    "    param_list.append([point, highlight_sigma])\n",
    "    \n",
    "\n",
    "param_list = np.array(param_list)\n",
    "plt.plot(param_list[:,0], param_list[:,1])\n",
    "plt.title(\"sigma plot\")\n",
    "plt.show()"
   ]
  },
  {
   "cell_type": "code",
   "execution_count": 179,
   "id": "85e15a78-8cc0-48ab-aa8e-70b676077d41",
   "metadata": {
    "tags": []
   },
   "outputs": [
    {
     "data": {
      "text/plain": [
       "array([[ 0.        ,  1.        ],\n",
       "       [ 0.2       ,  1.        ],\n",
       "       [ 0.4       ,  1.        ],\n",
       "       [ 0.6       ,  1.        ],\n",
       "       [ 0.8       ,  1.        ],\n",
       "       [ 1.        ,  1.        ],\n",
       "       [ 1.2       ,  1.        ],\n",
       "       [ 1.4       ,  1.        ],\n",
       "       [ 1.6       ,  1.        ],\n",
       "       [ 1.8       ,  1.        ],\n",
       "       [ 2.        ,  1.        ],\n",
       "       [ 2.2       ,  1.        ],\n",
       "       [ 2.4       ,  1.        ],\n",
       "       [ 2.6       ,  1.        ],\n",
       "       [ 2.8       ,  1.        ],\n",
       "       [ 3.        ,  1.        ],\n",
       "       [ 3.2       ,  1.        ],\n",
       "       [ 3.4       ,  1.        ],\n",
       "       [ 3.6       ,  1.        ],\n",
       "       [ 3.8       ,  1.        ],\n",
       "       [ 4.        ,  1.        ],\n",
       "       [ 4.2       ,  1.        ],\n",
       "       [ 4.4       ,  1.        ],\n",
       "       [ 4.6       ,  1.        ],\n",
       "       [ 4.8       ,  1.        ],\n",
       "       [ 5.        ,  1.        ],\n",
       "       [ 5.2       ,  1.        ],\n",
       "       [ 5.4       ,  1.        ],\n",
       "       [ 5.6       ,  1.        ],\n",
       "       [ 5.8       ,  1.        ],\n",
       "       [ 6.        ,  1.        ],\n",
       "       [ 6.2       ,  1.        ],\n",
       "       [ 6.4       ,  1.        ],\n",
       "       [ 6.6       ,  1.        ],\n",
       "       [ 6.8       ,  0.89090909],\n",
       "       [ 7.        ,  0.67272727],\n",
       "       [ 7.2       ,  0.49090909],\n",
       "       [ 7.4       ,  0.4       ],\n",
       "       [ 7.6       ,  0.4       ],\n",
       "       [ 7.8       ,  0.4       ],\n",
       "       [ 8.        ,  0.4       ],\n",
       "       [ 8.2       ,  0.4       ],\n",
       "       [ 8.4       ,  0.4       ],\n",
       "       [ 8.6       ,  0.4       ],\n",
       "       [ 8.8       ,  0.4       ],\n",
       "       [ 9.        ,  0.4       ],\n",
       "       [ 9.2       ,  0.4       ],\n",
       "       [ 9.4       ,  0.4       ],\n",
       "       [ 9.6       ,  0.4       ],\n",
       "       [ 9.8       ,  0.4       ],\n",
       "       [10.        ,  0.4       ],\n",
       "       [10.2       ,  0.4       ],\n",
       "       [10.4       ,  0.4       ],\n",
       "       [10.6       ,  0.4       ],\n",
       "       [10.8       ,  0.49090909],\n",
       "       [11.        ,  0.67272727],\n",
       "       [11.2       ,  0.89090909],\n",
       "       [11.4       ,  1.        ],\n",
       "       [11.6       ,  1.        ],\n",
       "       [11.8       ,  1.        ],\n",
       "       [12.        ,  1.        ],\n",
       "       [12.2       ,  1.        ],\n",
       "       [12.4       ,  1.        ],\n",
       "       [12.6       ,  1.        ],\n",
       "       [12.8       ,  1.        ],\n",
       "       [13.        ,  1.        ],\n",
       "       [13.2       ,  1.        ],\n",
       "       [13.4       ,  1.        ],\n",
       "       [13.6       ,  1.        ],\n",
       "       [13.8       ,  1.        ],\n",
       "       [14.        ,  1.        ],\n",
       "       [14.2       ,  1.        ],\n",
       "       [14.4       ,  1.        ],\n",
       "       [14.6       ,  1.        ],\n",
       "       [14.8       ,  1.        ],\n",
       "       [15.        ,  1.        ],\n",
       "       [15.2       ,  1.        ],\n",
       "       [15.4       ,  1.        ],\n",
       "       [15.6       ,  1.        ],\n",
       "       [15.8       ,  1.        ],\n",
       "       [16.        ,  1.        ],\n",
       "       [16.2       ,  1.        ],\n",
       "       [16.4       ,  1.        ],\n",
       "       [16.6       ,  1.        ],\n",
       "       [16.8       ,  1.        ],\n",
       "       [17.        ,  1.        ],\n",
       "       [17.2       ,  1.        ],\n",
       "       [17.4       ,  1.        ],\n",
       "       [17.6       ,  1.        ],\n",
       "       [17.8       ,  1.        ],\n",
       "       [18.        ,  1.        ],\n",
       "       [18.2       ,  1.        ],\n",
       "       [18.4       ,  1.        ],\n",
       "       [18.6       ,  1.        ],\n",
       "       [18.8       ,  1.        ],\n",
       "       [19.        ,  1.        ],\n",
       "       [19.2       ,  1.        ],\n",
       "       [19.4       ,  1.        ],\n",
       "       [19.6       ,  1.        ],\n",
       "       [19.8       ,  1.        ]])"
      ]
     },
     "execution_count": 179,
     "metadata": {},
     "output_type": "execute_result"
    }
   ],
   "source": [
    "param_list"
   ]
  },
  {
   "cell_type": "code",
   "execution_count": null,
   "id": "889fcf66-b010-46ff-9089-a82acee485fb",
   "metadata": {},
   "outputs": [],
   "source": []
  }
 ],
 "metadata": {
  "kernelspec": {
   "display_name": "Python 3 (ipykernel)",
   "language": "python",
   "name": "python3"
  },
  "language_info": {
   "codemirror_mode": {
    "name": "ipython",
    "version": 3
   },
   "file_extension": ".py",
   "mimetype": "text/x-python",
   "name": "python",
   "nbconvert_exporter": "python",
   "pygments_lexer": "ipython3",
   "version": "3.8.10"
  }
 },
 "nbformat": 4,
 "nbformat_minor": 5
}
