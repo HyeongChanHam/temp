{
 "cells": [
  {
   "cell_type": "code",
   "execution_count": 1,
   "id": "6348adf3-2999-4122-adbc-65ca4f298404",
   "metadata": {
    "tags": []
   },
   "outputs": [
    {
     "data": {
      "application/vnd.jupyter.widget-view+json": {
       "model_id": "ea589ff2344e4923a85a9d772cb77bfe",
       "version_major": 2,
       "version_minor": 0
      },
      "text/plain": [
       "VBox(children=(FloatSlider(value=0.0, description='μ₀ (prior mean)', max=5.0, min=-5.0), FloatSlider(value=1.0…"
      ]
     },
     "metadata": {},
     "output_type": "display_data"
    },
    {
     "data": {
      "application/vnd.jupyter.widget-view+json": {
       "model_id": "492abb15cfcb4620abb4c7d766b695f5",
       "version_major": 2,
       "version_minor": 0
      },
      "text/plain": [
       "Output()"
      ]
     },
     "metadata": {},
     "output_type": "display_data"
    }
   ],
   "source": [
    "import numpy as np\n",
    "import matplotlib.pyplot as plt\n",
    "import ipywidgets as widgets\n",
    "from scipy.stats import invgamma, norm\n",
    "from IPython.display import display\n",
    "from scipy.special import gamma\n",
    "from scipy.optimize import fsolve\n",
    "\n",
    "# NIG 분포의 결합 확률밀도함수 정의 (평균과 분산에 대한)\n",
    "def nig_joint_pdf(mu, sigma2, mu_0, lambda_, alpha, beta):\n",
    "    # Normal part (mean = mu, variance = sigma2)\n",
    "    norm_pdf = norm.pdf(mu, mu_0, np.sqrt(sigma2 / lambda_))\n",
    "    \n",
    "    # Inverse gamma part (variance = sigma2)\n",
    "    invgamma_pdf = invgamma.pdf(sigma2, alpha, scale=beta)\n",
    "    \n",
    "    return norm_pdf * invgamma_pdf\n",
    "\n",
    "# CDF에 해당하는 등고선 계산\n",
    "def calculate_cdf_contour_level(pdf_values, target_cdf):\n",
    "    # 확률밀도함수 값들을 1D로 변환한 후 정렬\n",
    "    sorted_pdf = np.sort(pdf_values.flatten())[::-1]\n",
    "    cumulative_sum = np.cumsum(sorted_pdf)\n",
    "    cumulative_sum /= cumulative_sum[-1]  # 누적 합을 0~1 사이의 값으로 정규화\n",
    "    \n",
    "    # CDF에 해당하는 값을 찾기\n",
    "    contour_value = sorted_pdf[np.searchsorted(cumulative_sum, target_cdf)]\n",
    "    return contour_value\n",
    "\n",
    "# 그래프 업데이트 함수\n",
    "def update(mu_0, lambda_, alpha, beta, target_cdf):\n",
    "    mu_values = np.linspace(-5, 5, 100)\n",
    "    sigma2_values = np.linspace(0.01, 20, 100)\n",
    "    \n",
    "    # 그리드를 만들어 결합 확률 밀도를 계산\n",
    "    mu_grid, sigma2_grid = np.meshgrid(mu_values, sigma2_values)\n",
    "    pdf_values = nig_joint_pdf(mu_grid, sigma2_grid, mu_0, lambda_, alpha, beta)\n",
    "    \n",
    "    # 입력받은 CDF 값에 해당하는 등고선 값을 계산\n",
    "    contour_level = calculate_cdf_contour_level(pdf_values, target_cdf)\n",
    "    \n",
    "    # 그래프 그리기\n",
    "    plt.figure(figsize=(8, 6))\n",
    "    plt.contourf(mu_grid, sigma2_grid, pdf_values, levels=np.linspace(0, pdf_values.max(), 100), cmap='viridis')\n",
    "    plt.colorbar(label='Density')\n",
    "\n",
    "\n",
    "\n",
    "\n",
    "    c = contour_level\n",
    "    target_pdf_value = c / (gamma(alpha+0.5) / gamma(alpha) / np.sqrt(beta) *np.sqrt(lambda_) / np.sqrt(2*np.pi))\n",
    "    def equation(x):\n",
    "        return invgamma.pdf(x, alpha+0.5, scale=beta) - target_pdf_value\n",
    "\n",
    "    # small\n",
    "    # 초기 추정값 설정 후 방정식 해결\n",
    "    initial_guess = 0.1\n",
    "    small_y = fsolve(equation, initial_guess)[0]\n",
    "    \n",
    "    # large\n",
    "    # 초기 추정값 설정 후 방정식 해결\n",
    "    initial_guess = 20\n",
    "    large_y = fsolve(equation, initial_guess)[0]\n",
    "\n",
    "\n",
    "    y = np.exp((np.log(np.sqrt(lambda_)*beta**alpha/(np.sqrt(2*np.pi)*gamma(alpha)))-np.log(c))/(alpha+3/2)-1)\n",
    "    x = np.sqrt(-2*y/lambda_*np.log(c/invgamma.pdf(y,alpha,scale=beta)*np.sqrt(2*np.pi*y)/np.sqrt(lambda_)))\n",
    "    plt.axvline(x=mu_0+x, color='y', linestyle='--')\n",
    "    plt.axvline(x=mu_0-x, color='y', linestyle='--')\n",
    "    \n",
    "    # plt.axhline(y=1.8042617241070633, color='g', linestyle='--')\n",
    "    plt.axhline(y=small_y, color='y', linestyle='--')\n",
    "    plt.axhline(y=large_y, color='y', linestyle='--')\n",
    "\n",
    "\n",
    "    \n",
    "    # CDF에 해당하는 등고선 그리기\n",
    "    plt.contour(mu_grid, sigma2_grid, pdf_values, levels=[contour_level], colors='red', linewidths=2)\n",
    "    plt.title(f'NIG PDF with μ₀={mu_0:.4f}, λ={lambda_:.4f}, α={alpha:.4f}, β={beta:.4f} and CDF = {target_cdf:.4f}')\n",
    "    plt.xlabel('Mean (μ)')\n",
    "    plt.ylabel('Variance (σ²)')\n",
    "    plt.grid(True)\n",
    "    plt.show()\n",
    "\n",
    "# 파라미터 조절 위젯 생성\n",
    "mu_0_slider = widgets.FloatSlider(value=0, min=-5, max=5, step=0.1, description='μ₀ (prior mean)')\n",
    "lambda_slider = widgets.FloatSlider(value=1, min=0.1, max=10, step=0.1, description='λ (precision)')\n",
    "alpha_slider = widgets.FloatSlider(value=2, min=0.1, max=10, step=0.1, description='α (shape)')\n",
    "beta_slider = widgets.FloatSlider(value=2, min=0.1, max=10, step=0.1, description='β (scale)')\n",
    "cdf_slider = widgets.FloatSlider(value=0.5, min=0.01, max=0.99, step=0.01, description='Target CDF')\n",
    "\n",
    "# 대화형 위젯으로 출력\n",
    "ui = widgets.VBox([mu_0_slider, lambda_slider, alpha_slider, beta_slider, cdf_slider])\n",
    "out = widgets.interactive_output(update, {\n",
    "    'mu_0': mu_0_slider, \n",
    "    'lambda_': lambda_slider, \n",
    "    'alpha': alpha_slider, \n",
    "    'beta': beta_slider, \n",
    "    'target_cdf': cdf_slider\n",
    "})\n",
    "\n",
    "display(ui, out)\n"
   ]
  },
  {
   "cell_type": "code",
   "execution_count": 2,
   "id": "52878aa0-0e0d-4976-bcd3-627fa5cf2297",
   "metadata": {},
   "outputs": [
    {
     "data": {
      "application/vnd.jupyter.widget-view+json": {
       "model_id": "460aacce36ca4c0a9bed4185dfafdb51",
       "version_major": 2,
       "version_minor": 0
      },
      "text/plain": [
       "VBox(children=(FloatSlider(value=0.0, description='μ₀ (prior mean)', max=5.0, min=-5.0), FloatSlider(value=1.0…"
      ]
     },
     "metadata": {},
     "output_type": "display_data"
    },
    {
     "data": {
      "application/vnd.jupyter.widget-view+json": {
       "model_id": "5cc15e1596df439f9430740a310195a2",
       "version_major": 2,
       "version_minor": 0
      },
      "text/plain": [
       "Output()"
      ]
     },
     "metadata": {},
     "output_type": "display_data"
    }
   ],
   "source": [
    "import numpy as np\n",
    "import matplotlib.pyplot as plt\n",
    "import ipywidgets as widgets\n",
    "from scipy.stats import invgamma, norm\n",
    "from IPython.display import display\n",
    "\n",
    "# NIG 분포의 결합 확률밀도함수 정의 (평균과 분산에 대한)\n",
    "def nig_joint_pdf(mu, sigma2, mu_0, lambda_, alpha, beta):\n",
    "    # Normal part (mean = mu, variance = sigma2)\n",
    "    norm_pdf = norm.pdf(mu, mu_0, np.sqrt(sigma2 / lambda_))\n",
    "    \n",
    "    # Inverse gamma part (variance = sigma2)\n",
    "    invgamma_pdf = invgamma.pdf(sigma2, alpha, scale=beta)\n",
    "    \n",
    "    return norm_pdf * invgamma_pdf\n",
    "\n",
    "# CDF에 해당하는 등고선 계산\n",
    "def calculate_cdf_contour_level(pdf_values, target_cdf):\n",
    "    # 확률밀도함수 값들을 1D로 변환한 후 정렬\n",
    "    sorted_pdf = np.sort(pdf_values.flatten())[::-1]\n",
    "    cumulative_sum = np.cumsum(sorted_pdf)\n",
    "    cumulative_sum /= cumulative_sum[-1]  # 누적 합을 0~1 사이의 값으로 정규화\n",
    "    \n",
    "    # CDF에 해당하는 값을 찾기\n",
    "    contour_value = sorted_pdf[np.searchsorted(cumulative_sum, target_cdf)]\n",
    "    return contour_value\n",
    "\n",
    "# 그래프 업데이트 함수\n",
    "def update(mu_0, lambda_, alpha, beta, target_cdf):\n",
    "    mu_values = np.linspace(-5, 5, 100)\n",
    "    sigma2_values = np.linspace(0.01, 20, 100)\n",
    "    \n",
    "    # 그리드를 만들어 결합 확률 밀도를 계산\n",
    "    mu_grid, sigma2_grid = np.meshgrid(mu_values, sigma2_values)\n",
    "    pdf_values = nig_joint_pdf(mu_grid, sigma2_grid, mu_0, lambda_, alpha, beta)\n",
    "    \n",
    "    # 입력받은 CDF 값에 해당하는 등고선 값을 계산\n",
    "    contour_level = calculate_cdf_contour_level(pdf_values, target_cdf)\n",
    "    \n",
    "    # 그래프 그리기\n",
    "    fig, ax = plt.subplots(1,2, figsize=(16,6))#plt.figure(figsize=(8, 6))\n",
    "\n",
    "\n",
    "    # First Figure\n",
    "    ax[0].contourf(mu_grid, sigma2_grid, pdf_values, levels=np.linspace(0, pdf_values.max(), 100), cmap='viridis')\n",
    "    \n",
    "    c = contour_level\n",
    "    target_pdf_value = c / (gamma(alpha+0.5) / gamma(alpha) / np.sqrt(beta) *np.sqrt(lambda_) / np.sqrt(2*np.pi))\n",
    "    def equation(x):\n",
    "        return invgamma.pdf(x, alpha+0.5, scale=beta) - target_pdf_value\n",
    "\n",
    "    # small\n",
    "    # 초기 추정값 설정 후 방정식 해결\n",
    "    initial_guess = 0.1\n",
    "    small_y = fsolve(equation, initial_guess)[0]\n",
    "    \n",
    "    # large\n",
    "    # 초기 추정값 설정 후 방정식 해결\n",
    "    initial_guess = 20\n",
    "    large_y = fsolve(equation, initial_guess)[0]\n",
    "\n",
    "    y = np.exp((np.log(np.sqrt(lambda_)*beta**alpha/(np.sqrt(2*np.pi)*gamma(alpha)))-np.log(c))/(alpha+3/2)-1)\n",
    "    x = np.sqrt(-2*y/lambda_*np.log(c/invgamma.pdf(y,alpha,scale=beta)*np.sqrt(2*np.pi*y)/np.sqrt(lambda_)))\n",
    "\n",
    "    original_x, original_y = mu_0+x,large_y\n",
    "    \n",
    "    ax[0].axvline(x=mu_0+x, color='y', linestyle='--')\n",
    "    ax[0].axvline(x=mu_0-x, color='y', linestyle='--')\n",
    "    \n",
    "    ax[0].axhline(y=small_y, color='y', linestyle='--')\n",
    "    ax[0].axhline(y=large_y, color='y', linestyle='--')\n",
    "\n",
    "\n",
    "    ax[0].scatter(mu_0+x,large_y, color='r')\n",
    "\n",
    "\n",
    "    \n",
    "    # CDF에 해당하는 등고선 그리기\n",
    "    ax[0].contour(mu_grid, sigma2_grid, pdf_values, levels=[contour_level], colors='red', linewidths=2)\n",
    "    ax[0].set_title(f'NIG PDF with μ₀={mu_0:.4f}, λ={lambda_:.4f}, α={alpha:.4f}, β={beta:.4f} and CDF = {target_cdf:.4f}')\n",
    "    ax[0].set_xlabel('Mean (μ)')\n",
    "    ax[0].set_ylabel('Variance (σ²)')\n",
    "    ax[0].grid(True)\n",
    "\n",
    "\n",
    "    # Second Figure\n",
    "    mu_values = np.linspace(-5, 5, 100)\n",
    "    sigma2_values = np.linspace(0.01, 20, 100)\n",
    "    \n",
    "    # 그리드를 만들어 결합 확률 밀도를 계산\n",
    "    mu_grid, sigma2_grid = np.meshgrid(mu_values, sigma2_values)\n",
    "    pdf_values = nig_joint_pdf(mu_grid, sigma2_grid, 0, 1, alpha, 1)\n",
    "    \n",
    "    # 입력받은 CDF 값에 해당하는 등고선 값을 계산\n",
    "    contour_level = calculate_cdf_contour_level(pdf_values, target_cdf)\n",
    "    ax[1].contourf(mu_grid, sigma2_grid, pdf_values, levels=np.linspace(0, pdf_values.max(), 100), cmap='viridis')\n",
    "    # CDF에 해당하는 등고선 그리기\n",
    "    ax[1].contour(mu_grid, sigma2_grid, pdf_values, levels=[contour_level], colors='red', linewidths=2)\n",
    "\n",
    "    c = contour_level\n",
    "    target_pdf_value = c / (gamma(alpha+0.5) / gamma(alpha) / np.sqrt(1) *np.sqrt(1) / np.sqrt(2*np.pi))\n",
    "    def equation(x):\n",
    "        return invgamma.pdf(x, alpha+0.5, scale=1) - target_pdf_value\n",
    "\n",
    "    # small\n",
    "    # 초기 추정값 설정 후 방정식 해결\n",
    "    initial_guess = 0.1\n",
    "    small_y = fsolve(equation, initial_guess)[0]\n",
    "    \n",
    "    # large\n",
    "    # 초기 추정값 설정 후 방정식 해결\n",
    "    initial_guess = 5\n",
    "    large_y = fsolve(equation, initial_guess)[0]\n",
    "\n",
    "    y = np.exp((np.log(np.sqrt(1)*1**alpha/(np.sqrt(2*np.pi)*gamma(alpha)))-np.log(c))/(alpha+3/2)-1)\n",
    "    x = np.sqrt(-2*y/1*np.log(c/invgamma.pdf(y,alpha,scale=1)*np.sqrt(2*np.pi*y)/np.sqrt(1)))\n",
    "    ax[1].axvline(x=x, color='y', linestyle='--')\n",
    "    ax[1].axvline(x=-x, color='y', linestyle='--')\n",
    "    \n",
    "    ax[1].axhline(y=small_y, color='y', linestyle='--')\n",
    "    ax[1].axhline(y=large_y, color='y', linestyle='--')\n",
    "\n",
    "\n",
    "    st_x, st_y = (original_x - mu_0)/np.sqrt(lambda_/beta), original_y/beta\n",
    "    ax[1].scatter(st_x, st_y, color='r')\n",
    "\n",
    "    second_x, second_y = x, large_y\n",
    "    ax[1].scatter(second_x, second_y, color='g')\n",
    "    converted_x, converted_y = second_x * np.sqrt(lambda_/beta)+mu_0, second_y * beta\n",
    "\n",
    "    ax[0].scatter(converted_x, converted_y, color='g')\n",
    "    \n",
    "    plt.show()\n",
    "\n",
    "# 파라미터 조절 위젯 생성\n",
    "mu_0_slider = widgets.FloatSlider(value=0, min=-5, max=5, step=0.1, description='μ₀ (prior mean)')\n",
    "lambda_slider = widgets.FloatSlider(value=1, min=0.1, max=10, step=0.1, description='λ (precision)')\n",
    "alpha_slider = widgets.FloatSlider(value=2, min=0.1, max=10, step=0.1, description='α (shape)')\n",
    "beta_slider = widgets.FloatSlider(value=2, min=0.1, max=10, step=0.1, description='β (scale)')\n",
    "cdf_slider = widgets.FloatSlider(value=0.5, min=0.01, max=0.99, step=0.01, description='Target CDF')\n",
    "\n",
    "# 대화형 위젯으로 출력\n",
    "ui = widgets.VBox([mu_0_slider, lambda_slider, alpha_slider, beta_slider, cdf_slider])\n",
    "out = widgets.interactive_output(update, {\n",
    "    'mu_0': mu_0_slider, \n",
    "    'lambda_': lambda_slider, \n",
    "    'alpha': alpha_slider, \n",
    "    'beta': beta_slider, \n",
    "    'target_cdf': cdf_slider\n",
    "})\n",
    "\n",
    "display(ui, out)\n"
   ]
  },
  {
   "cell_type": "code",
   "execution_count": 3,
   "id": "119fc56c-e043-4e87-8df2-fddb4c4358ab",
   "metadata": {},
   "outputs": [
    {
     "data": {
      "application/vnd.jupyter.widget-view+json": {
       "model_id": "18aca534d538465e8f77fa9e478ebebb",
       "version_major": 2,
       "version_minor": 0
      },
      "text/plain": [
       "VBox(children=(FloatSlider(value=0.0, description='μ₀ (prior mean)', max=5.0, min=-5.0), FloatSlider(value=1.0…"
      ]
     },
     "metadata": {},
     "output_type": "display_data"
    },
    {
     "data": {
      "application/vnd.jupyter.widget-view+json": {
       "model_id": "76c33686cb23479e88104673490e9419",
       "version_major": 2,
       "version_minor": 0
      },
      "text/plain": [
       "Output()"
      ]
     },
     "metadata": {},
     "output_type": "display_data"
    },
    {
     "data": {
      "image/png": "[encoded data removed]",
      "text/plain": [
       "<Figure size 1600x600 with 2 Axes>"
      ]
     },
     "metadata": {},
     "output_type": "display_data"
    }
   ],
   "source": [
    "import numpy as np\n",
    "import matplotlib.pyplot as plt\n",
    "import ipywidgets as widgets\n",
    "from scipy.stats import invgamma, norm\n",
    "from IPython.display import display\n",
    "from matplotlib.collections import LineCollection\n",
    "import copy\n",
    "\n",
    "dmu = (5+5)/100\n",
    "dsigma2 = (20-0.01)/100\n",
    "dA = dmu * dsigma2\n",
    "\n",
    "# NIG 분포의 결합 확률밀도함수 정의 (평균과 분산에 대한)\n",
    "def nig_joint_pdf(mu, sigma2, mu_0, lambda_, alpha, beta):\n",
    "    # Normal part (mean = mu, variance = sigma2)\n",
    "    norm_pdf = norm.pdf(mu, mu_0, np.sqrt(sigma2 / lambda_))\n",
    "    \n",
    "    # Inverse gamma part (variance = sigma2)\n",
    "    invgamma_pdf = invgamma.pdf(sigma2, alpha, scale=beta)\n",
    "    \n",
    "    return norm_pdf * invgamma_pdf\n",
    "\n",
    "# CDF에 해당하는 등고선 계산\n",
    "def calculate_cdf_contour_level(pdf_values, target_cdf):\n",
    "    # 확률밀도함수 값들을 1D로 변환한 후 정렬\n",
    "    sorted_pdf = np.sort(pdf_values.flatten())[::-1]\n",
    "    cumulative_sum = np.cumsum(sorted_pdf)\n",
    "    cumulative_sum *= dA\n",
    "    # cumulative_sum /= cumulative_sum[-1]  # 누적 합을 0~1 사이의 값으로 정규화\n",
    "    \n",
    "    # CDF에 해당하는 값을 찾기\n",
    "    contour_value = sorted_pdf[np.searchsorted(cumulative_sum, target_cdf)]\n",
    "    return contour_value\n",
    "\n",
    "# 그래프 업데이트 함수\n",
    "def update(mu_0, lambda_, alpha, beta, target_cdf):\n",
    "    mu_values = np.linspace(-5, 5, 100)\n",
    "    sigma2_values = np.linspace(0.01, 20, 100)\n",
    "    \n",
    "    # 그리드를 만들어 결합 확률 밀도를 계산\n",
    "    mu_grid, sigma2_grid = np.meshgrid(mu_values, sigma2_values)\n",
    "    pdf_values = nig_joint_pdf(mu_grid, sigma2_grid, mu_0, lambda_, alpha, beta)\n",
    "    \n",
    "    # 입력받은 CDF 값에 해당하는 등고선 값을 계산\n",
    "    contour_level = calculate_cdf_contour_level(pdf_values, target_cdf)\n",
    "    \n",
    "    # 그래프 그리기\n",
    "    fig, ax = plt.subplots(1,2, figsize=(16,6))#plt.figure(figsize=(8, 6))\n",
    "\n",
    "\n",
    "    # First Figure\n",
    "    ax[0].contourf(mu_grid, sigma2_grid, pdf_values, levels=np.linspace(0, pdf_values.max(), 100), cmap='viridis')\n",
    "    \n",
    "    c = contour_level\n",
    "    target_pdf_value = c / (gamma(alpha+0.5) / gamma(alpha) / np.sqrt(beta) *np.sqrt(lambda_) / np.sqrt(2*np.pi))\n",
    "    def equation(x):\n",
    "        return invgamma.pdf(x, alpha+0.5, scale=beta) - target_pdf_value\n",
    "\n",
    "    # small\n",
    "    # 초기 추정값 설정 후 방정식 해결\n",
    "    initial_guess = beta/(alpha+1)/10\n",
    "    small_y = fsolve(equation, initial_guess)[0]\n",
    "    \n",
    "    # large\n",
    "    # 초기 추정값 설정 후 방정식 해결\n",
    "    initial_guess = beta/(alpha-1)\n",
    "    large_y = fsolve(equation, initial_guess)[0]\n",
    "\n",
    "    y = np.exp((np.log(np.sqrt(lambda_)*beta**alpha/(np.sqrt(2*np.pi)*gamma(alpha)))-np.log(c))/(alpha+3/2)-1)\n",
    "    x = np.sqrt(-2*y/lambda_*np.log(c/invgamma.pdf(y,alpha,scale=beta)*np.sqrt(2*np.pi*y)/np.sqrt(lambda_)))\n",
    "\n",
    "    original_x, original_y = mu_0+x,large_y\n",
    "    edge_x, edge_y = mu_0+x,y\n",
    "    \n",
    "    ax[0].axvline(x=mu_0+x, color='y', linestyle='--')\n",
    "    ax[0].axvline(x=mu_0-x, color='y', linestyle='--')\n",
    "    \n",
    "    ax[0].axhline(y=small_y, color='y', linestyle='--')\n",
    "    ax[0].axhline(y=large_y, color='y', linestyle='--')\n",
    "\n",
    "\n",
    "    ax[0].scatter(mu_0+x,large_y, color='r')\n",
    "\n",
    "    ax[0].scatter(edge_x, edge_y, color='y', marker='x')\n",
    "\n",
    "    \n",
    "    # CDF에 해당하는 등고선 그리기\n",
    "    ax[0].contour(mu_grid, sigma2_grid, pdf_values, levels=[contour_level], colors='red', linewidths=2)\n",
    "    ax[0].set_title(f'NIG PDF with μ₀={mu_0:.4f}, λ={lambda_:.4f}, α={alpha:.4f}, β={beta:.4f} and CDF = {target_cdf:.4f}')\n",
    "    ax[0].set_xlabel('Mean (μ)')\n",
    "    ax[0].set_ylabel('Variance (σ²)')\n",
    "    ax[0].grid(True)\n",
    "\n",
    "\n",
    "    # Second Figure\n",
    "    mu_values = np.linspace(-5, 5, 100)\n",
    "    sigma2_values = np.linspace(0.01, 20, 100)\n",
    "    \n",
    "    # 그리드를 만들어 결합 확률 밀도를 계산\n",
    "    mu_grid, sigma2_grid = np.meshgrid(mu_values, sigma2_values)\n",
    "    pdf_values = nig_joint_pdf(mu_grid, sigma2_grid, 0, 1, alpha, 1)\n",
    "    \n",
    "    # 입력받은 CDF 값에 해당하는 등고선 값을 계산\n",
    "    contour_level = calculate_cdf_contour_level(pdf_values, target_cdf)\n",
    "    ax[1].contourf(mu_grid, sigma2_grid, pdf_values, levels=np.linspace(0, pdf_values.max(), 100), cmap='viridis')\n",
    "    # CDF에 해당하는 등고선 그리기\n",
    "    ctr = ax[1].contour(mu_grid, sigma2_grid, pdf_values, levels=[contour_level], colors='red', linewidths=2)\n",
    "    \n",
    "    segments = copy.deepcopy(ctr.allsegs)\n",
    "    segments = [transpose(segments[0][0], mu_0, lambda_, alpha, beta)]\n",
    "    line_collection = LineCollection(segments, colors='b')\n",
    "    ax[0].add_collection(line_collection)\n",
    "    \n",
    "    c = contour_level\n",
    "    target_pdf_value = c / (gamma(alpha+0.5) / gamma(alpha) / np.sqrt(1) *np.sqrt(1) / np.sqrt(2*np.pi))\n",
    "    def equation(x):\n",
    "        return invgamma.pdf(x, alpha+0.5, scale=1) - target_pdf_value\n",
    "\n",
    "    # small\n",
    "    # 초기 추정값 설정 후 방정식 해결\n",
    "    initial_guess = 1/(alpha+1)/10\n",
    "    small_y = fsolve(equation, initial_guess)[0]\n",
    "    \n",
    "    # large\n",
    "    # 초기 추정값 설정 후 방정식 해결\n",
    "    initial_guess = 1/(alpha-1)\n",
    "    large_y = fsolve(equation, initial_guess)[0]\n",
    "\n",
    "    y = np.exp((np.log(np.sqrt(1)*1**alpha/(np.sqrt(2*np.pi)*gamma(alpha)))-np.log(c))/(alpha+3/2)-1)\n",
    "    x = np.sqrt(-2*y/1*np.log(c/invgamma.pdf(y,alpha,scale=1)*np.sqrt(2*np.pi*y)/np.sqrt(1)))\n",
    "    ax[1].axvline(x=x, color='y', linestyle='--')\n",
    "    ax[1].axvline(x=-x, color='y', linestyle='--')\n",
    "    \n",
    "    ax[1].axhline(y=small_y, color='y', linestyle='--')\n",
    "    ax[1].axhline(y=large_y, color='y', linestyle='--')\n",
    "\n",
    "\n",
    "    st_x, st_y = (original_x - mu_0)/np.sqrt(lambda_/beta), original_y/beta\n",
    "    ax[1].scatter(st_x, st_y, color='r')\n",
    "\n",
    "    second_x, second_y = x, large_y\n",
    "    ax[1].scatter(second_x, second_y, color='g')\n",
    "    converted_x, converted_y = second_x * np.sqrt(lambda_/beta)+mu_0, second_y * beta\n",
    "\n",
    "    ax[0].scatter(converted_x, converted_y, color='g')\n",
    "\n",
    "    ax[1].scatter((edge_x - mu_0)/np.sqrt(lambda_/beta), edge_y/beta, marker='x', color='y')\n",
    "\n",
    "    \n",
    "    plt.show()\n",
    "\n",
    "# 파라미터 조절 위젯 생성\n",
    "mu_0_slider = widgets.FloatSlider(value=0, min=-5, max=5, step=0.1, description='μ₀ (prior mean)')\n",
    "lambda_slider = widgets.FloatSlider(value=1, min=0.1, max=10, step=0.1, description='λ (precision)')\n",
    "alpha_slider = widgets.FloatSlider(value=2, min=0.1, max=10, step=0.1, description='α (shape)')\n",
    "beta_slider = widgets.FloatSlider(value=2, min=0.1, max=10, step=0.1, description='β (scale)')\n",
    "cdf_slider = widgets.FloatSlider(value=0.5, min=0.01, max=0.99, step=0.01, description='Target CDF')\n",
    "\n",
    "# 대화형 위젯으로 출력\n",
    "ui = widgets.VBox([mu_0_slider, lambda_slider, alpha_slider, beta_slider, cdf_slider])\n",
    "out = widgets.interactive_output(update, {\n",
    "    'mu_0': mu_0_slider, \n",
    "    'lambda_': lambda_slider, \n",
    "    'alpha': alpha_slider, \n",
    "    'beta': beta_slider, \n",
    "    'target_cdf': cdf_slider\n",
    "})\n",
    "\n",
    "display(ui, out)\n"
   ]
  },
  {
   "cell_type": "code",
   "execution_count": 11,
   "id": "a2616c8e-8c60-4cbd-b2d9-eb6b039a33b9",
   "metadata": {},
   "outputs": [
    {
     "data": {
      "application/vnd.jupyter.widget-view+json": {
       "model_id": "b4cf466dce7846b4a986cf1051fd7b2e",
       "version_major": 2,
       "version_minor": 0
      },
      "text/plain": [
       "VBox(children=(FloatSlider(value=0.0, description='μ₀ (prior mean)', max=5.0, min=-5.0), FloatSlider(value=1.0…"
      ]
     },
     "metadata": {},
     "output_type": "display_data"
    },
    {
     "data": {
      "application/vnd.jupyter.widget-view+json": {
       "model_id": "a16405824d2b48fbaa62b2e7681bf59e",
       "version_major": 2,
       "version_minor": 0
      },
      "text/plain": [
       "Output()"
      ]
     },
     "metadata": {},
     "output_type": "display_data"
    }
   ],
   "source": [
    "import numpy as np\n",
    "import matplotlib.pyplot as plt\n",
    "import ipywidgets as widgets\n",
    "from scipy.stats import invgamma, norm\n",
    "from IPython.display import display\n",
    "from matplotlib.collections import LineCollection\n",
    "import copy\n",
    "\n",
    "dmu = (5+5)/100\n",
    "dsigma2 = (20-0.01)/100\n",
    "dA = dmu * dsigma2\n",
    "\n",
    "# NIG 분포의 결합 확률밀도함수 정의 (평균과 분산에 대한)\n",
    "def nig_joint_pdf(mu, sigma2, mu_0, lambda_, alpha, beta):\n",
    "    # Normal part (mean = mu, variance = sigma2)\n",
    "    norm_pdf = norm.pdf(mu, mu_0, np.sqrt(sigma2 / lambda_))\n",
    "    \n",
    "    # Inverse gamma part (variance = sigma2)\n",
    "    invgamma_pdf = invgamma.pdf(sigma2, alpha, scale=beta)\n",
    "    \n",
    "    return norm_pdf * invgamma_pdf\n",
    "\n",
    "# CDF에 해당하는 등고선 계산\n",
    "def calculate_cdf_contour_level(pdf_values, target_cdf):\n",
    "    # 확률밀도함수 값들을 1D로 변환한 후 정렬\n",
    "    sorted_pdf = np.sort(pdf_values.flatten())[::-1]\n",
    "    cumulative_sum = np.cumsum(sorted_pdf)\n",
    "    cumulative_sum *= dA\n",
    "    # cumulative_sum /= cumulative_sum[-1]  # 누적 합을 0~1 사이의 값으로 정규화\n",
    "    \n",
    "    # CDF에 해당하는 값을 찾기\n",
    "    contour_value = sorted_pdf[np.searchsorted(cumulative_sum, target_cdf)]\n",
    "    return contour_value\n",
    "\n",
    "# 그래프 업데이트 함수\n",
    "def update(mu_0, lambda_, alpha, beta, target_cdf):\n",
    "    mu_values = np.linspace(-5, 5, 100)\n",
    "    sigma2_values = np.linspace(0.01, 5, 100)\n",
    "    \n",
    "    # 그리드를 만들어 결합 확률 밀도를 계산\n",
    "    mu_grid, sigma2_grid = np.meshgrid(mu_values, sigma2_values)\n",
    "    pdf_values = nig_joint_pdf(mu_grid, sigma2_grid, mu_0, lambda_, alpha, beta)\n",
    "    \n",
    "    # 입력받은 CDF 값에 해당하는 등고선 값을 계산\n",
    "    contour_level = calculate_cdf_contour_level(pdf_values, target_cdf)\n",
    "    \n",
    "    # 그래프 그리기\n",
    "    fig, ax = plt.subplots(1,2, figsize=(16,6))#plt.figure(figsize=(8, 6))\n",
    "\n",
    "\n",
    "    # First Figure\n",
    "    ax[0].contourf(mu_grid, sigma2_grid, pdf_values, levels=np.linspace(0, pdf_values.max(), 100), cmap='viridis')\n",
    "    \n",
    "    c = contour_level\n",
    "    target_pdf_value = c / (gamma(alpha+0.5) / gamma(alpha) / np.sqrt(beta) *np.sqrt(lambda_) / np.sqrt(2*np.pi))\n",
    "    def equation(x):\n",
    "        return invgamma.pdf(x, alpha+0.5, scale=beta) - target_pdf_value\n",
    "\n",
    "    # small\n",
    "    # 초기 추정값 설정 후 방정식 해결\n",
    "    initial_guess = beta/(alpha+1)/10\n",
    "    small_y = fsolve(equation, initial_guess)[0]\n",
    "    \n",
    "    # large\n",
    "    # 초기 추정값 설정 후 방정식 해결\n",
    "    initial_guess = beta/(alpha-1)\n",
    "    large_y = fsolve(equation, initial_guess)[0]\n",
    "\n",
    "    y = np.exp((np.log(np.sqrt(lambda_)*beta**alpha/(np.sqrt(2*np.pi)*gamma(alpha)))-np.log(c))/(alpha+3/2)-1)\n",
    "    x = np.sqrt(-2*y/lambda_*np.log(c/invgamma.pdf(y,alpha,scale=beta)*np.sqrt(2*np.pi*y)/np.sqrt(lambda_)))\n",
    "\n",
    "    original_x, original_y = mu_0+x,large_y\n",
    "    edge_x, edge_y = mu_0+x,y\n",
    "    \n",
    "    ax[0].axvline(x=mu_0+x, color='y', linestyle='--')\n",
    "    ax[0].axvline(x=mu_0-x, color='y', linestyle='--')\n",
    "    \n",
    "    ax[0].axhline(y=small_y, color='y', linestyle='--')\n",
    "    ax[0].axhline(y=large_y, color='y', linestyle='--')\n",
    "\n",
    "\n",
    "    ax[0].scatter(mu_0+x,large_y, color='r')\n",
    "\n",
    "    ax[0].scatter(edge_x, edge_y, color='y', marker='x')\n",
    "\n",
    "    \n",
    "    # CDF에 해당하는 등고선 그리기\n",
    "    ctr = ax[0].contour(mu_grid, sigma2_grid, pdf_values, levels=[contour_level], colors='red', linewidths=2)\n",
    "        # get contour area \n",
    "    contour_path = ctr.collections[0].get_paths()[0]\n",
    "    mask = np.array([contour_path.contains_point((xi, yi)) for xi, yi in zip(mu_grid.flatten(), sigma2_grid.flatten())])\n",
    "    masked_values = pdf_values.flatten()[mask]\n",
    "    print(\"original sum: \",np.sum(masked_values) * dA)\n",
    "\n",
    "    \n",
    "    ax[0].set_title(f'NIG PDF with μ₀={mu_0:.4f}, λ={lambda_:.4f}, α={alpha:.4f}, β={beta:.4f} and CDF = {target_cdf:.4f}')\n",
    "    ax[0].set_xlabel('Mean (μ)')\n",
    "    ax[0].set_ylabel('Variance (σ²)')\n",
    "    ax[0].grid(True)\n",
    "\n",
    "\n",
    "    # Second Figure\n",
    "    mu_values = np.linspace(-5, 5, 100)\n",
    "    sigma2_values = np.linspace(0.01, 5, 100)\n",
    "    \n",
    "    # 그리드를 만들어 결합 확률 밀도를 계산\n",
    "    mu_grid, sigma2_grid = np.meshgrid(mu_values, sigma2_values)\n",
    "    std_pdf_values = nig_joint_pdf(mu_grid, sigma2_grid, 0, 1, alpha, 1)\n",
    "    \n",
    "    # 입력받은 CDF 값에 해당하는 등고선 값을 계산\n",
    "    contour_level = calculate_cdf_contour_level(std_pdf_values, target_cdf)\n",
    "    ax[1].contourf(mu_grid, sigma2_grid, std_pdf_values, levels=np.linspace(0, std_pdf_values.max(), 100), cmap='viridis')\n",
    "    # CDF에 해당하는 등고선 그리기\n",
    "    ctr = ax[1].contour(mu_grid, sigma2_grid, std_pdf_values, levels=[contour_level], colors='red', linewidths=2)\n",
    "\n",
    "    # get contour area \n",
    "    contour_path = ctr.collections[0].get_paths()[0]\n",
    "    mask = np.array([contour_path.contains_point((xi, yi)) for xi, yi in zip(mu_grid.flatten(), sigma2_grid.flatten())])\n",
    "    masked_values = std_pdf_values.flatten()[mask]\n",
    "    print(\"std sum: \",np.sum(masked_values) * dA)\n",
    "\n",
    "    \n",
    "    segments = copy.deepcopy(ctr.allsegs)\n",
    "    segments = [transpose(segments[0][0], mu_0, lambda_, alpha, beta)]\n",
    "    line_collection = LineCollection(segments, colors='b')\n",
    "    ax[0].add_collection(line_collection)\n",
    "\n",
    "\n",
    "        # get contour area \n",
    "    contour_path = line_collection.get_paths()[0]\n",
    "    mask = np.array([contour_path.contains_point((xi, yi)) for xi, yi in zip(mu_grid.flatten(), sigma2_grid.flatten())])\n",
    "    masked_values = pdf_values.flatten()[mask]\n",
    "    print(\"reverse sum: \",np.sum(masked_values) * dA)\n",
    "    \n",
    "    c = contour_level\n",
    "    target_pdf_value = c / (gamma(alpha+0.5) / gamma(alpha) / np.sqrt(1) *np.sqrt(1) / np.sqrt(2*np.pi))\n",
    "    def equation(x):\n",
    "        return invgamma.pdf(x, alpha+0.5, scale=1) - target_pdf_value\n",
    "\n",
    "    # small\n",
    "    # 초기 추정값 설정 후 방정식 해결\n",
    "    initial_guess = 1/(alpha+1)/10\n",
    "    small_y = fsolve(equation, initial_guess)[0]\n",
    "    \n",
    "    # large\n",
    "    # 초기 추정값 설정 후 방정식 해결\n",
    "    initial_guess = 1/(alpha-1)\n",
    "    large_y = fsolve(equation, initial_guess)[0]\n",
    "\n",
    "    y = np.exp((np.log(np.sqrt(1)*1**alpha/(np.sqrt(2*np.pi)*gamma(alpha)))-np.log(c))/(alpha+3/2)-1)\n",
    "    x = np.sqrt(-2*y/1*np.log(c/invgamma.pdf(y,alpha,scale=1)*np.sqrt(2*np.pi*y)/np.sqrt(1)))\n",
    "    ax[1].axvline(x=x, color='y', linestyle='--')\n",
    "    ax[1].axvline(x=-x, color='y', linestyle='--')\n",
    "    \n",
    "    ax[1].axhline(y=small_y, color='y', linestyle='--')\n",
    "    ax[1].axhline(y=large_y, color='y', linestyle='--')\n",
    "\n",
    "\n",
    "    st_x, st_y = (original_x - mu_0)*np.sqrt(lambda_/beta), original_y/beta\n",
    "    ax[1].scatter(st_x, st_y, color='r')\n",
    "\n",
    "    second_x, second_y = x, large_y\n",
    "    ax[1].scatter(second_x, second_y, color='g')\n",
    "    converted_x, converted_y = second_x / np.sqrt(lambda_/beta)+mu_0, second_y * beta\n",
    "\n",
    "    ax[0].scatter(converted_x, converted_y, color='y')\n",
    "\n",
    "    ax[1].scatter((edge_x - mu_0)*np.sqrt(lambda_/beta), edge_y/beta, marker='x', color='y')\n",
    "\n",
    "    \n",
    "    plt.show()\n",
    "\n",
    "# 파라미터 조절 위젯 생성\n",
    "mu_0_slider = widgets.FloatSlider(value=0, min=-5, max=5, step=0.1, description='μ₀ (prior mean)')\n",
    "lambda_slider = widgets.FloatSlider(value=1, min=0.1, max=10, step=0.1, description='λ (precision)')\n",
    "alpha_slider = widgets.FloatSlider(value=2, min=0.1, max=10, step=0.1, description='α (shape)')\n",
    "beta_slider = widgets.FloatSlider(value=2, min=0.1, max=10, step=0.1, description='β (scale)')\n",
    "cdf_slider = widgets.FloatSlider(value=0.5, min=0.01, max=0.99, step=0.01, description='Target CDF')\n",
    "\n",
    "# 대화형 위젯으로 출력\n",
    "ui = widgets.VBox([mu_0_slider, lambda_slider, alpha_slider, beta_slider, cdf_slider])\n",
    "out = widgets.interactive_output(update, {\n",
    "    'mu_0': mu_0_slider, \n",
    "    'lambda_': lambda_slider, \n",
    "    'alpha': alpha_slider, \n",
    "    'beta': beta_slider, \n",
    "    'target_cdf': cdf_slider\n",
    "})\n",
    "\n",
    "display(ui, out)\n"
   ]
  },
  {
   "cell_type": "code",
   "execution_count": 5,
   "id": "c6bf48e7-7908-4821-ac0a-d9f8be9ec6bf",
   "metadata": {},
   "outputs": [
    {
     "name": "stdout",
     "output_type": "stream",
     "text": [
      "pdf value:  0.0036442331928330093\n",
      "pdf value:  3.6645032006292445e-05\n"
     ]
    },
    {
     "data": {
      "image/png": "[encoded data removed]",
      "text/plain": [
       "<Figure size 1600x600 with 2 Axes>"
      ]
     },
     "metadata": {},
     "output_type": "display_data"
    }
   ],
   "source": [
    "fig, ax = plt.subplots(1,2, figsize=(16,6))\n",
    "mu_0 = 1.2\n",
    "lambda_ = 0.6\n",
    "alpha = 2.1\n",
    "beta = 2.1\n",
    "# Second Figure\n",
    "mu_s, mu_l, mu_n = -5, 5, 100\n",
    "sigma2_s, sigma2_l, sigma2_n = 0.01, 20, 100\n",
    "mu_values = np.linspace(mu_s, mu_l, mu_n)\n",
    "sigma2_values = np.linspace(sigma2_s, sigma2_l, sigma2_n)\n",
    "dmu = (mu_l-mu_s)/mu_n\n",
    "dsigma2 = (sigma2_l-sigma2_s)/sigma2_n\n",
    "dA = dmu * dsigma2\n",
    "# 그리드를 만들어 결합 확률 밀도를 계산\n",
    "mu_grid, sigma2_grid = np.meshgrid(mu_values, sigma2_values)\n",
    "pdf_values = nig_joint_pdf(mu_grid, sigma2_grid, mu_0, lambda_, alpha, beta)\n",
    "\n",
    "mu_s_idx, mu_l_idx = np.searchsorted(mu_grid[0], -2*np.sqrt(lambda_/beta)+mu_0), np.searchsorted(mu_grid[0], 2*np.sqrt(lambda_/beta)+mu_0)\n",
    "sigma2_s_idx, sigma2_l_idx = np.searchsorted(sigma2_grid[:,0], 0.1*beta), np.searchsorted(sigma2_grid[:,0], 2*beta)\n",
    "\n",
    "print('pdf value: ',pdf_values[sigma2_s_idx, mu_l_idx])\n",
    "\n",
    "ax[0].contourf(mu_grid, sigma2_grid, pdf_values, levels=np.linspace(0, pdf_values.max(), 100), cmap='viridis')\n",
    "ax[0].axvline(x=mu_grid[0][mu_s_idx], color='y', linestyle='--')\n",
    "ax[0].axvline(x=mu_grid[0][mu_l_idx], color='y', linestyle='--')\n",
    "ax[0].axhline(y=sigma2_grid[:,0][sigma2_s_idx], color='y', linestyle='--')\n",
    "ax[0].axhline(y=sigma2_grid[:,0][sigma2_l_idx], color='y', linestyle='--')\n",
    "ax[0].set_title(f\"rectangle area size: {pdf_values[sigma2_s_idx:sigma2_l_idx, mu_s_idx:mu_l_idx].sum() * dA:.02f}\")\n",
    "\n",
    "# Second Figure\n",
    "mu_s, mu_l, mu_n = -5, 5, 100\n",
    "sigma2_s, sigma2_l, sigma2_n = 0.01, 20, 100\n",
    "mu_values = np.linspace(mu_s, mu_l, mu_n)\n",
    "sigma2_values = np.linspace(sigma2_s, sigma2_l, sigma2_n)\n",
    "dmu = (mu_l-mu_s)/mu_n\n",
    "dsigma2 = (sigma2_l-sigma2_s)/sigma2_n\n",
    "dA = dmu * dsigma2\n",
    "# 그리드를 만들어 결합 확률 밀도를 계산\n",
    "mu_grid, sigma2_grid = np.meshgrid(mu_values, sigma2_values)\n",
    "pdf_values = nig_joint_pdf(mu_grid, sigma2_grid, 0, 1, alpha, 1)\n",
    "\n",
    "mu_s_idx, mu_l_idx = np.searchsorted(mu_grid[0], -2), np.searchsorted(mu_grid[0], 2)\n",
    "sigma2_s_idx, sigma2_l_idx = np.searchsorted(sigma2_grid[:,0], 0.1), np.searchsorted(sigma2_grid[:,0], 2)\n",
    "\n",
    "print('pdf value: ',pdf_values[sigma2_s_idx, mu_l_idx])\n",
    "\n",
    "ax[1].contourf(mu_grid, sigma2_grid, pdf_values, levels=np.linspace(0, pdf_values.max(), 100), cmap='viridis')\n",
    "ax[1].axvline(x=mu_grid[0][mu_s_idx], color='y', linestyle='--')\n",
    "ax[1].axvline(x=mu_grid[0][mu_l_idx], color='y', linestyle='--')\n",
    "ax[1].axhline(y=sigma2_grid[:,0][sigma2_s_idx], color='y', linestyle='--')\n",
    "ax[1].axhline(y=sigma2_grid[:,0][sigma2_l_idx], color='y', linestyle='--')\n",
    "ax[1].set_title(f\"rectangle area size: {pdf_values[sigma2_s_idx:sigma2_l_idx, mu_s_idx:mu_l_idx].sum() * dA:.02f}\")\n",
    "plt.show()"
   ]
  },
  {
   "cell_type": "code",
   "execution_count": 6,
   "id": "e24f4d1b-aa6a-4f00-a254-3b1fe9500be5",
   "metadata": {},
   "outputs": [
    {
     "name": "stdout",
     "output_type": "stream",
     "text": [
      "idx:  (480, 520) (5, 100)\n",
      "value:  (-1.9519519519519477, 2.052052052052055) (0.11005005005005004, 2.0110010010010004)\n",
      "pdf value:  5.513032068555214e-07\n",
      "idx:  (476, 506) (2, 48)\n",
      "value:  (-2.352352352352348, 0.650650650650654) (0.05002002002002002, 0.9704804804804804)\n",
      "pdf value:  5.546410289103651e-07\n",
      "sum:  0.7439709099723546\n"
     ]
    },
    {
     "data": {
      "image/png": "[encoded data removed]",
      "text/plain": [
       "<Figure size 1600x600 with 2 Axes>"
      ]
     },
     "metadata": {},
     "output_type": "display_data"
    }
   ],
   "source": [
    "fig, ax = plt.subplots(1,2, figsize=(16,6))\n",
    "mu_0 = 1.2\n",
    "lambda_ = 1.2\n",
    "alpha = 2.1\n",
    "beta = 2.1\n",
    "# Second Figure\n",
    "mu_s, mu_l, mu_n = -50, 50, 1000\n",
    "sigma2_s, sigma2_l, sigma2_n = 0.01, 20, 1000\n",
    "mu_values = np.linspace(mu_s, mu_l, mu_n)\n",
    "sigma2_values = np.linspace(sigma2_s, sigma2_l, sigma2_n)\n",
    "dmu = (mu_l-mu_s)/mu_n\n",
    "dsigma2 = (sigma2_l-sigma2_s)/sigma2_n\n",
    "dA = dmu * dsigma2\n",
    "# 그리드를 만들어 결합 확률 밀도를 계산\n",
    "mu_grid, sigma2_grid = np.meshgrid(mu_values, sigma2_values)\n",
    "pdf_values = nig_joint_pdf(mu_grid, sigma2_grid, mu_0, lambda_, alpha, beta)\n",
    "\n",
    "mu_s_idx, mu_l_idx = np.searchsorted(mu_grid[0], -2), np.searchsorted(mu_grid[0], 2)\n",
    "sigma2_s_idx, sigma2_l_idx = np.searchsorted(sigma2_grid[:,0], 0.1), np.searchsorted(sigma2_grid[:,0], 2)\n",
    "print(\"idx: \",(mu_s_idx, mu_l_idx), (sigma2_s_idx, sigma2_l_idx))\n",
    "print(\"value: \",(mu_grid[0][mu_s_idx], mu_grid[0][mu_l_idx]), (sigma2_grid[:,0][sigma2_s_idx], sigma2_grid[:,0][sigma2_l_idx]))\n",
    "print('pdf value: ',pdf_values[sigma2_s_idx, mu_l_idx])\n",
    "\n",
    "ax[0].contourf(mu_grid, sigma2_grid, pdf_values, levels=np.linspace(0, pdf_values.max(), 100), cmap='viridis')\n",
    "ax[0].axvline(x=mu_grid[0][mu_s_idx], color='y', linestyle='--')\n",
    "ax[0].axvline(x=mu_grid[0][mu_l_idx], color='y', linestyle='--')\n",
    "ax[0].axhline(y=sigma2_grid[:,0][sigma2_s_idx], color='y', linestyle='--')\n",
    "ax[0].axhline(y=sigma2_grid[:,0][sigma2_l_idx], color='y', linestyle='--')\n",
    "ax[0].set_title(f\"rectangle area size: {pdf_values[sigma2_s_idx:sigma2_l_idx, mu_s_idx:mu_l_idx].sum() * dA:.05f}\")\n",
    "\n",
    "# Second Figure\n",
    "mu_s, mu_l, mu_n = -50, 50, 1000\n",
    "sigma2_s, sigma2_l, sigma2_n = 0.01, 20, 1000\n",
    "mu_values = np.linspace(mu_s, mu_l, mu_n)\n",
    "sigma2_values = np.linspace(sigma2_s, sigma2_l, sigma2_n)\n",
    "dmu = (mu_l-mu_s)/mu_n\n",
    "dsigma2 = (sigma2_l-sigma2_s)/sigma2_n\n",
    "dA = dmu * dsigma2\n",
    "# 그리드를 만들어 결합 확률 밀도를 계산\n",
    "mu_grid, sigma2_grid = np.meshgrid(mu_values, sigma2_values)\n",
    "pdf_values = nig_joint_pdf(mu_grid, sigma2_grid, 0, 1, alpha, 1)\n",
    "\n",
    "mu_s_idx, mu_l_idx = np.searchsorted(mu_grid[0], (-2-mu_0)*np.sqrt(lambda_/beta)), np.searchsorted(mu_grid[0], (2-mu_0)*np.sqrt(lambda_/beta))\n",
    "sigma2_s_idx, sigma2_l_idx = np.searchsorted(sigma2_grid[:,0], 0.1/beta), np.searchsorted(sigma2_grid[:,0], 2/beta)\n",
    "print(\"idx: \",(mu_s_idx, mu_l_idx), (sigma2_s_idx, sigma2_l_idx))\n",
    "print(\"value: \",(mu_grid[0][mu_s_idx], mu_grid[0][mu_l_idx]), (sigma2_grid[:,0][sigma2_s_idx], sigma2_grid[:,0][sigma2_l_idx]))\n",
    "print('pdf value: ',pdf_values[sigma2_s_idx, mu_l_idx])\n",
    "\n",
    "\n",
    "ax[1].contourf(mu_grid, sigma2_grid, pdf_values, levels=np.linspace(0, pdf_values.max(), 100), cmap='viridis')\n",
    "contour = ax[1].contour(mu_grid, sigma2_grid, pdf_values, levels=[0.08], colors='r')\n",
    "contour_path = contour.collections[0].get_paths()[0]\n",
    "mask = np.array([contour_path.contains_point((xi, yi)) for xi, yi in zip(mu_grid.flatten(), sigma2_grid.flatten())])\n",
    "masked_values = pdf_values.flatten()[mask]\n",
    "print(\"sum: \",np.sum(masked_values) * dA)\n",
    "\n",
    "ax[1].axvline(x=mu_grid[0][mu_s_idx], color='y', linestyle='--')\n",
    "ax[1].axvline(x=mu_grid[0][mu_l_idx], color='y', linestyle='--')\n",
    "ax[1].axhline(y=sigma2_grid[:,0][sigma2_s_idx], color='y', linestyle='--')\n",
    "ax[1].axhline(y=sigma2_grid[:,0][sigma2_l_idx], color='y', linestyle='--')\n",
    "ax[1].set_title(f\"rectangle area size: {pdf_values[sigma2_s_idx:sigma2_l_idx, mu_s_idx:mu_l_idx].sum() * dA:.05f}\")\n",
    "plt.show()"
   ]
  },
  {
   "cell_type": "markdown",
   "id": "8dc8c5f4-d175-440a-97b1-6cb53dcc22c9",
   "metadata": {},
   "source": [
    "# mu 쪽은 표준화 완료! 이제 sigma2 쪽을 해야하는데..."
   ]
  },
  {
   "cell_type": "code",
   "execution_count": 7,
   "id": "0701cc1d-22c3-4e74-983d-7111534660bd",
   "metadata": {},
   "outputs": [
    {
     "ename": "IndexError",
     "evalue": "index 5200 is out of bounds for axis 0 with size 1000",
     "output_type": "error",
     "traceback": [
      "\u001b[0;31m---------------------------------------------------------------------------\u001b[0m",
      "\u001b[0;31mIndexError\u001b[0m                                Traceback (most recent call last)",
      "Cell \u001b[0;32mIn[7], line 1\u001b[0m\n\u001b[0;32m----> 1\u001b[0m \u001b[43mmu_grid\u001b[49m\u001b[43m[\u001b[49m\u001b[38;5;241;43m0\u001b[39;49m\u001b[43m]\u001b[49m\u001b[43m[\u001b[49m\u001b[38;5;241;43m5200\u001b[39;49m\u001b[43m]\u001b[49m, sigma2_grid[:,\u001b[38;5;241m0\u001b[39m][\u001b[38;5;241m5\u001b[39m]\n",
      "\u001b[0;31mIndexError\u001b[0m: index 5200 is out of bounds for axis 0 with size 1000"
     ]
    }
   ],
   "source": [
    "mu_grid[0][5200], sigma2_grid[:,0][5]"
   ]
  },
  {
   "cell_type": "code",
   "execution_count": null,
   "id": "8647f8bb-b025-4310-a9f2-4b19558d180b",
   "metadata": {},
   "outputs": [],
   "source": [
    "norm.cdf(2.005200520052007, mu_0, np.sqrt(0.11005005005005004/lambda_)), norm.cdf((2.005200520052007-mu_0)*np.sqrt(lambda_), 0, np.sqrt(0.11005005005005004))"
   ]
  },
  {
   "cell_type": "code",
   "execution_count": null,
   "id": "8b35e097-0bf0-4283-8090-c9c9b9c1be6e",
   "metadata": {},
   "outputs": [],
   "source": [
    "print(nig_joint_pdf(2.005200520052007, 0.11005005005005004, mu_0, lambda_, alpha, beta), nig_joint_pdf((2.005200520052007-mu_0)*lambda_, 0.11005005005005004, 0, 1, alpha, beta))\n",
    "\n",
    "# Normal part (mean = mu, variance = sigma2)\n",
    "norm_pdf = norm.pdf((2.005200520052007-mu_0)/np.sqrt(0.11005005005005004 / lambda_), 0, 1)\n",
    "\n",
    "# Inverse gamma part (variance = sigma2)\n",
    "invgamma_pdf = invgamma.pdf(0.11005005005005004, alpha, scale=beta)\n",
    "print(norm_pdf * invgamma_pdf)"
   ]
  },
  {
   "cell_type": "code",
   "execution_count": null,
   "id": "97d6d53f-7078-4b83-aa76-a3587419eb34",
   "metadata": {},
   "outputs": [],
   "source": [
    "pdf_values = nig_joint_pdf(mu_grid, sigma2_grid, mu_0, lambda_, alpha, beta)\n",
    "print(pdf_values[5, 5200])\n",
    "print(mu_\n",
    "print(nig_joint_pdf(mu_grid[0][5200], sigma2_grid[:,0][5], mu_0, lambda_, alpha, beta))"
   ]
  },
  {
   "cell_type": "code",
   "execution_count": null,
   "id": "9118f20a-659c-4a15-a7c0-24031a179958",
   "metadata": {},
   "outputs": [],
   "source": [
    "-0.656/np.sqrt(lambda_/beta)+mu_0, 0.186*beta#, lambda_, alpha, beta"
   ]
  },
  {
   "cell_type": "code",
   "execution_count": 12,
   "id": "f363982c-2476-4227-bfba-4baedf40ca3d",
   "metadata": {},
   "outputs": [],
   "source": [
    "def transpose(segment, mu_0, lambda_, alpha, beta):\n",
    "    segment[:,0] = segment[:,0]/np.sqrt(lambda_/beta) + mu_0\n",
    "    segment[:,1] = segment[:,1]*beta\n",
    "    return segment"
   ]
  },
  {
   "cell_type": "markdown",
   "id": "6d394c51-12b8-4100-aa40-d5dc91fe23b4",
   "metadata": {},
   "source": [
    "# get point memory"
   ]
  },
  {
   "cell_type": "code",
   "execution_count": 97,
   "id": "e44d2860-dedf-4415-a94a-58e28d613cc7",
   "metadata": {},
   "outputs": [
    {
     "data": {
      "text/plain": [
       "4.03"
      ]
     },
     "execution_count": 97,
     "metadata": {},
     "output_type": "execute_result"
    }
   ],
   "source": [
    "round(4.029999999999999, 2)"
   ]
  },
  {
   "cell_type": "code",
   "execution_count": 99,
   "id": "4e7cf8a0-54b1-418c-89fe-bedbbb957f94",
   "metadata": {},
   "outputs": [
    {
     "name": "stderr",
     "output_type": "stream",
     "text": [
      "/tmp/ipykernel_2022/936358640.py:28: RuntimeWarning: The iteration is not making good progress, as measured by the \n",
      "  improvement from the last ten iterations.\n",
      "  large_y = fsolve(equation, initial_guess)[0]\n"
     ]
    },
    {
     "name": "stdout",
     "output_type": "stream",
     "text": [
      "10.99\n"
     ]
    },
    {
     "data": {
      "image/png": "[encoded data removed]",
      "text/plain": [
       "<Figure size 640x480 with 1 Axes>"
      ]
     },
     "metadata": {},
     "output_type": "display_data"
    }
   ],
   "source": [
    "target_cdf = 0.9\n",
    "\n",
    "a_memory = dict()\n",
    "for alpha in [round(1+x/100,2) for x in range(1,1000)]:\n",
    "    \n",
    "    # Second Figure\n",
    "    mu_values = np.linspace(-5, 5, 100)\n",
    "    sigma2_values = np.linspace(0.01, 5, 100)\n",
    "    \n",
    "    # 그리드를 만들어 결합 확률 밀도를 계산\n",
    "    mu_grid, sigma2_grid = np.meshgrid(mu_values, sigma2_values)\n",
    "    std_pdf_values = nig_joint_pdf(mu_grid, sigma2_grid, 0, 1, alpha, 1)\n",
    "    \n",
    "    # 입력받은 CDF 값에 해당하는 등고선 값을 계산\n",
    "    contour_level = calculate_cdf_contour_level(std_pdf_values, target_cdf)\n",
    "\n",
    "\n",
    "    # get y coordinate\n",
    "    c = contour_level\n",
    "    target_pdf_value = c / (special.gamma(alpha+0.5) / special.gamma(alpha) / np.sqrt(1) *np.sqrt(1) / np.sqrt(2*np.pi))\n",
    "    def equation(x):\n",
    "        return invgamma.pdf(x, alpha+0.5, scale=1) - target_pdf_value\n",
    "\n",
    "    # large\n",
    "    # 초기 추정값 설정 후 방정식 해결\n",
    "    initial_guess = 1/(alpha-1)\n",
    "    while True:\n",
    "        large_y = fsolve(equation, initial_guess)[0]\n",
    "        if initial_guess == large_y:\n",
    "            initial_guess /= 10\n",
    "        else:\n",
    "            break\n",
    "    \n",
    "\n",
    "    # get x coordinate\n",
    "    y = np.exp((np.log(np.sqrt(1)*1**alpha/(np.sqrt(2*np.pi)*special.gamma(alpha)))-np.log(c))/(alpha+3/2)-1)\n",
    "    x = np.sqrt(-2*y/1*np.log(c/invgamma.pdf(y,alpha,scale=1)*np.sqrt(2*np.pi*y)/np.sqrt(1)))\n",
    "    a_memory[alpha] = [x, large_y]\n",
    "print(alpha)\n",
    "\n",
    "plt.scatter(*np.array(list(a_memory.values())).T)\n",
    "plt.show()"
   ]
  },
  {
   "cell_type": "code",
   "execution_count": 100,
   "id": "40507434-7de6-4f6e-8504-2cba204bc897",
   "metadata": {},
   "outputs": [
    {
     "data": {
      "text/plain": [
       "True"
      ]
     },
     "execution_count": 100,
     "metadata": {},
     "output_type": "execute_result"
    }
   ],
   "source": [
    "4.36 in (list(a_memory.keys()))"
   ]
  },
  {
   "cell_type": "markdown",
   "id": "659ebea6-5a0a-4926-aa72-540d841b111e",
   "metadata": {},
   "source": [
    "# get the original worst case mu and sigma"
   ]
  },
  {
   "cell_type": "code",
   "execution_count": 61,
   "id": "96f28b69-5084-44c7-9736-57c697ad0b07",
   "metadata": {},
   "outputs": [],
   "source": [
    "mu_0, lambda_, alpha, beta = 2, 1.2, 1.4, 2.1\n",
    "zx, zy = a_memory[alpha]\n",
    "mu, sigma2 = zx / np.sqrt(lambda_/beta)+mu_0, zy * beta"
   ]
  },
  {
   "cell_type": "markdown",
   "id": "b04d7168-5de2-4170-b401-02527cc9bea3",
   "metadata": {},
   "source": [
    "# get the CVaR"
   ]
  },
  {
   "cell_type": "code",
   "execution_count": 63,
   "id": "57798b0f-77ff-4de3-8fe5-1f0c92dbcc88",
   "metadata": {},
   "outputs": [],
   "source": [
    "kappa = norm.pdf(norm.ppf(epsilon))/(1-epsilon)\n",
    "CVaR = mu + kappa * np.sqrt(sigma2)"
   ]
  },
  {
   "cell_type": "markdown",
   "id": "e3ead002-85f2-4b76-8900-d8687471a2f5",
   "metadata": {},
   "source": [
    "# plot the interactive boundary with respect to the CDF value"
   ]
  },
  {
   "cell_type": "code",
   "execution_count": 64,
   "id": "ad23890f-8095-4530-8e61-7c8f71ac6d6c",
   "metadata": {},
   "outputs": [],
   "source": [
    "import matplotlib.pyplot as plt\n",
    "from scipy.stats import norm, t\n",
    "import numpy as np\n",
    "from scipy import stats\n",
    "from scipy import special\n",
    "from tqdm import tqdm"
   ]
  },
  {
   "cell_type": "code",
   "execution_count": 65,
   "id": "c15f4920-a962-4b1a-9a71-0e33b6b62f81",
   "metadata": {},
   "outputs": [
    {
     "name": "stdout",
     "output_type": "stream",
     "text": [
      "-5.0\n"
     ]
    },
    {
     "data": {
      "text/plain": [
       "<matplotlib.legend.Legend at 0x7bfc923595d0>"
      ]
     },
     "execution_count": 65,
     "metadata": {},
     "output_type": "execute_result"
    },
    {
     "data": {
      "image/png": "[encoded data removed]",
      "text/plain": [
       "<Figure size 640x480 with 1 Axes>"
      ]
     },
     "metadata": {},
     "output_type": "display_data"
    }
   ],
   "source": [
    "x = 0\n",
    "p = 8\n",
    "epsilon = 0.95\n",
    "mean = 6\n",
    "l = np.linspace(-10, 8, 100)\n",
    "point_dist = norm(mean, 0.08)\n",
    "# plt.plot(l, point_dist.pdf(l))\n",
    "# plt.show()\n",
    "\n",
    "cost_mu = x-p+mean/2\n",
    "\n",
    "sigma = 0.8\n",
    "print(cost_mu)\n",
    "cost_dist = norm(cost_mu, sigma)\n",
    "\n",
    "plt.plot(l, cost_dist.pdf(l))\n",
    "# VaR = cost_dist.ppf(epsilon)\n",
    "VaR = cost_dist.ppf(epsilon)\n",
    "VaR = norm.ppf(epsilon, cost_mu, sigma)\n",
    "CVaR = cost_mu + sigma * norm.pdf(norm.ppf(epsilon))/(1-epsilon)\n",
    "plt.axvline(cost_mu, color='y', linestyle='--', label=f'cost mean = {cost_mu:.2f}')\n",
    "\n",
    "plt.axvline(VaR, color='g', linestyle='--', label=f'VaR (epsilon={epsilon*100}%) = {VaR:.2f}')\n",
    "plt.axvline(CVaR, color='r', linestyle='--', label=f'CVaR (epsilon={epsilon*100}%) = {CVaR:.2f}')\n",
    "\n",
    "gamma = np.sqrt(epsilon / (1-epsilon))\n",
    "theta = 0.01\n",
    "DR_CVaR = cost_mu + gamma * sigma + theta * np.sqrt(1+gamma**2)\n",
    "plt.axvline(DR_CVaR, color='pink', linestyle='--', label=f'DR_CVaR (epsilon={epsilon*100}%) = {DR_CVaR:.2f}')\n",
    "\n",
    "# mu_0, lambda_, alpha, beta = 3.4548569, 0.02503136, 4.8973227, 0.06900783\n",
    "\n",
    "# t_dist = t((2*alpha), mu_0, ((beta*(1+lambda_))/(lambda_*alpha))**(1/2))\n",
    "\n",
    "# uc_st_CVaR = mu_0 + ((beta * (1+lambda_))/(lambda_*alpha))**(1/2) * ((2*alpha+t_dist.ppf(epsilon)**2)/(2*alpha-1)*(1-epsilon)) * t_dist.pdf(t_dist.ppf(epsilon))\n",
    "# plt.axvline(uc_st_CVaR, color='purple', linestyle='--', label=f'uncertain st_CVaR (epsilon={epsilon*100}%) = {uc_st_CVaR:.2f}')\n",
    "\n",
    "mu_0, lambda_, alpha, beta = 5.920605, 0.88203037, 4.362318, 0.01417785\n",
    "\n",
    "t_dist = t((2*alpha), mu_0, ((beta*(1+lambda_))/(lambda_*alpha))**(1/2))\n",
    "\n",
    "c_st_CVaR = mu_0 + ((beta * (1+lambda_))/(lambda_*alpha))**(1/2) * ((2*alpha+t_dist.ppf(epsilon)**2)/(2*alpha-1)*(1-epsilon)) * t_dist.pdf(t_dist.ppf(epsilon))\n",
    "plt.axvline(c_st_CVaR, color='brown', linestyle='--', label=f'certain st_CVaR (epsilon={epsilon*100}%) = {c_st_CVaR:.2f}')\n",
    "\n",
    "\n",
    "\n",
    "\n",
    "\n",
    "plt.legend()\n"
   ]
  },
  {
   "cell_type": "code",
   "execution_count": 67,
   "id": "e9deeb35-1b3b-46dd-b01c-7c2c1403d538",
   "metadata": {},
   "outputs": [],
   "source": []
  },
  {
   "cell_type": "code",
   "execution_count": 107,
   "id": "f12f604f-91e9-4c9d-8bdc-d3ab9d76f43a",
   "metadata": {},
   "outputs": [
    {
     "data": {
      "application/vnd.jupyter.widget-view+json": {
       "model_id": "dba04dccc73045a18cdabbadeefa9aea",
       "version_major": 2,
       "version_minor": 0
      },
      "text/plain": [
       "VBox(children=(FloatSlider(value=0.0, description='μ₀ (prior mean)', max=5.0, min=-5.0), FloatSlider(value=1.0…"
      ]
     },
     "metadata": {},
     "output_type": "display_data"
    },
    {
     "data": {
      "application/vnd.jupyter.widget-view+json": {
       "model_id": "0b05c85ee17245539bd1d43866c6a723",
       "version_major": 2,
       "version_minor": 0
      },
      "text/plain": [
       "Output()"
      ]
     },
     "metadata": {},
     "output_type": "display_data"
    }
   ],
   "source": [
    "def update(mu_0, lambda_, alpha, beta):\n",
    "\n",
    "    zx, zy = a_memory[float(f'{alpha:.02f}')]\n",
    "    mu, sigma2 = zx / np.sqrt(lambda_/beta)+mu_0, zy * beta\n",
    "    \n",
    "    kappa = norm.pdf(norm.ppf(epsilon))/(1-epsilon)\n",
    "    DR_EDL_CVaR = mu + kappa * np.sqrt(sigma2)\n",
    "\n",
    "\n",
    "    # plot figure\n",
    "    plt.figure()\n",
    "    plt.axvline(p-mean/2, color='maroon', linestyle='--', label=f'GT boundary = {cost_mu:.2f}')\n",
    "    \n",
    "    l = np.linspace(-20, 20, 100)\n",
    "    plt.plot(l, norm.pdf(l, p-mean/2, sigma))\n",
    "    \n",
    "    labels = ['VaR', 'CVaR', 'DR_CVaR', 'DR_EDL_CVaR']\n",
    "    for i, risk in enumerate([VaR, CVaR, DR_CVaR, DR_EDL_CVaR]):\n",
    "        plt.plot(l, (lambda x: x+risk)(l), label=labels[i])\n",
    "    plt.xlim(-10,10)\n",
    "    plt.ylim(-5,10)\n",
    "    plt.axhline(y=0, color='k')\n",
    "    plt.axvline(x=0, color='k')\n",
    "    plt.grid(True, which='both')\n",
    "    plt.xlabel(\"Ego Position\")\n",
    "    plt.ylabel(\"Cost\")\n",
    "    plt.legend()\n",
    "    plt.show()\n",
    "\n",
    "\n",
    "# 파라미터 조절 위젯 생성\n",
    "mu_0_slider = widgets.FloatSlider(value=0, min=-5, max=5, step=0.1, description='μ₀ (prior mean)')\n",
    "lambda_slider = widgets.FloatSlider(value=1, min=0.1, max=10, step=0.1, description='λ (precision)')\n",
    "alpha_slider = widgets.FloatSlider(value=2, min=0.1, max=10, step=0.1, description='α (shape)')\n",
    "beta_slider = widgets.FloatSlider(value=2, min=0.1, max=10, step=0.1, description='β (scale)')\n",
    "\n",
    "# 대화형 위젯으로 출력\n",
    "ui = widgets.VBox([mu_0_slider, lambda_slider, alpha_slider, beta_slider])\n",
    "out = widgets.interactive_output(update, {\n",
    "    'mu_0': mu_0_slider, \n",
    "    'lambda_': lambda_slider, \n",
    "    'alpha': alpha_slider, \n",
    "    'beta': beta_slider, \n",
    "})\n",
    "\n",
    "display(ui, out)"
   ]
  },
  {
   "cell_type": "code",
   "execution_count": null,
   "id": "c54f9e82-b33b-4c6c-a0b9-e04a2775eaa6",
   "metadata": {},
   "outputs": [],
   "source": []
  }
 ],
 "metadata": {
  "kernelspec": {
   "display_name": "Python 3 (ipykernel)",
   "language": "python",
   "name": "python3"
  },
  "language_info": {
   "codemirror_mode": {
    "name": "ipython",
    "version": 3
   },
   "file_extension": ".py",
   "mimetype": "text/x-python",
   "name": "python",
   "nbconvert_exporter": "python",
   "pygments_lexer": "ipython3",
   "version": "3.10.12"
  }
 },
 "nbformat": 4,
 "nbformat_minor": 5
}
